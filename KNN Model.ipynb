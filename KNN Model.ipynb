{
 "cells": [
  {
   "cell_type": "code",
   "execution_count": 1,
   "id": "aa209dc5",
   "metadata": {},
   "outputs": [],
   "source": [
    "# D209 Code"
   ]
  },
  {
   "cell_type": "code",
   "execution_count": 2,
   "id": "6edbf492",
   "metadata": {},
   "outputs": [
    {
     "name": "stderr",
     "output_type": "stream",
     "text": [
      "C:\\Users\\bower\\anaconda3\\Lib\\site-packages\\pandas\\core\\arrays\\masked.py:60: UserWarning: Pandas requires version '1.3.6' or newer of 'bottleneck' (version '1.3.5' currently installed).\n",
      "  from pandas.core import (\n"
     ]
    }
   ],
   "source": [
    "# Import libraries\n",
    "\n",
    "import numpy as np\n",
    "import pandas as pd\n",
    "import matplotlib.pyplot as plt\n",
    "import scipy.stats as stats\n",
    "import seaborn as sns\n",
    "%matplotlib inline\n",
    "from statsmodels.formula.api import ols\n",
    "from statsmodels.stats.outliers_influence import variance_inflation_factor\n",
    "from sklearn.model_selection import train_test_split\n",
    "import statsmodels.api as sm\n",
    "from sklearn.neighbors import KNeighborsClassifier\n",
    "from sklearn.metrics import confusion_matrix, classification_report\n",
    "\n",
    "import warnings\n",
    "warnings.filterwarnings('ignore')"
   ]
  },
  {
   "cell_type": "code",
   "execution_count": 3,
   "id": "6991ddb2",
   "metadata": {},
   "outputs": [],
   "source": [
    "# Import csv dataset\n",
    "\n",
    "medical_data = pd.read_csv(r\"C:\\Users\\bower\\OneDrive\\Desktop\\WGU\\D208\\3kfid8emf9rkc9ek30sf (2)\\medical_clean.csv\")"
   ]
  },
  {
   "cell_type": "code",
   "execution_count": 4,
   "id": "c4d0d976",
   "metadata": {},
   "outputs": [
    {
     "name": "stdout",
     "output_type": "stream",
     "text": [
      "<class 'pandas.core.frame.DataFrame'>\n",
      "RangeIndex: 10000 entries, 0 to 9999\n",
      "Data columns (total 50 columns):\n",
      " #   Column              Non-Null Count  Dtype  \n",
      "---  ------              --------------  -----  \n",
      " 0   CaseOrder           10000 non-null  int64  \n",
      " 1   Customer_id         10000 non-null  object \n",
      " 2   Interaction         10000 non-null  object \n",
      " 3   UID                 10000 non-null  object \n",
      " 4   City                10000 non-null  object \n",
      " 5   State               10000 non-null  object \n",
      " 6   County              10000 non-null  object \n",
      " 7   Zip                 10000 non-null  int64  \n",
      " 8   Lat                 10000 non-null  float64\n",
      " 9   Lng                 10000 non-null  float64\n",
      " 10  Population          10000 non-null  int64  \n",
      " 11  Area                10000 non-null  object \n",
      " 12  TimeZone            10000 non-null  object \n",
      " 13  Job                 10000 non-null  object \n",
      " 14  Children            10000 non-null  int64  \n",
      " 15  Age                 10000 non-null  int64  \n",
      " 16  Income              10000 non-null  float64\n",
      " 17  Marital             10000 non-null  object \n",
      " 18  Gender              10000 non-null  object \n",
      " 19  ReAdmis             10000 non-null  object \n",
      " 20  VitD_levels         10000 non-null  float64\n",
      " 21  Doc_visits          10000 non-null  int64  \n",
      " 22  Full_meals_eaten    10000 non-null  int64  \n",
      " 23  vitD_supp           10000 non-null  int64  \n",
      " 24  Soft_drink          10000 non-null  object \n",
      " 25  Initial_admin       10000 non-null  object \n",
      " 26  HighBlood           10000 non-null  object \n",
      " 27  Stroke              10000 non-null  object \n",
      " 28  Complication_risk   10000 non-null  object \n",
      " 29  Overweight          10000 non-null  object \n",
      " 30  Arthritis           10000 non-null  object \n",
      " 31  Diabetes            10000 non-null  object \n",
      " 32  Hyperlipidemia      10000 non-null  object \n",
      " 33  BackPain            10000 non-null  object \n",
      " 34  Anxiety             10000 non-null  object \n",
      " 35  Allergic_rhinitis   10000 non-null  object \n",
      " 36  Reflux_esophagitis  10000 non-null  object \n",
      " 37  Asthma              10000 non-null  object \n",
      " 38  Services            10000 non-null  object \n",
      " 39  Initial_days        10000 non-null  float64\n",
      " 40  TotalCharge         10000 non-null  float64\n",
      " 41  Additional_charges  10000 non-null  float64\n",
      " 42  Item1               10000 non-null  int64  \n",
      " 43  Item2               10000 non-null  int64  \n",
      " 44  Item3               10000 non-null  int64  \n",
      " 45  Item4               10000 non-null  int64  \n",
      " 46  Item5               10000 non-null  int64  \n",
      " 47  Item6               10000 non-null  int64  \n",
      " 48  Item7               10000 non-null  int64  \n",
      " 49  Item8               10000 non-null  int64  \n",
      "dtypes: float64(7), int64(16), object(27)\n",
      "memory usage: 3.8+ MB\n"
     ]
    }
   ],
   "source": [
    "medical_data.info()"
   ]
  },
  {
   "cell_type": "code",
   "execution_count": 5,
   "id": "aa7b0f79",
   "metadata": {},
   "outputs": [],
   "source": [
    "medical_df = medical_data[[\"ReAdmis\", \"TotalCharge\", \"Initial_days\"]]"
   ]
  },
  {
   "cell_type": "code",
   "execution_count": 6,
   "id": "dee2c75d",
   "metadata": {},
   "outputs": [
    {
     "data": {
      "text/plain": [
       "(10000, 3)"
      ]
     },
     "execution_count": 6,
     "metadata": {},
     "output_type": "execute_result"
    }
   ],
   "source": [
    "medical_df.shape"
   ]
  },
  {
   "cell_type": "code",
   "execution_count": 7,
   "id": "685e6707",
   "metadata": {},
   "outputs": [
    {
     "data": {
      "text/html": [
       "<div>\n",
       "<style scoped>\n",
       "    .dataframe tbody tr th:only-of-type {\n",
       "        vertical-align: middle;\n",
       "    }\n",
       "\n",
       "    .dataframe tbody tr th {\n",
       "        vertical-align: top;\n",
       "    }\n",
       "\n",
       "    .dataframe thead th {\n",
       "        text-align: right;\n",
       "    }\n",
       "</style>\n",
       "<table border=\"1\" class=\"dataframe\">\n",
       "  <thead>\n",
       "    <tr style=\"text-align: right;\">\n",
       "      <th></th>\n",
       "      <th>ReAdmis</th>\n",
       "      <th>TotalCharge</th>\n",
       "      <th>Initial_days</th>\n",
       "    </tr>\n",
       "  </thead>\n",
       "  <tbody>\n",
       "    <tr>\n",
       "      <th>0</th>\n",
       "      <td>No</td>\n",
       "      <td>3726.702860</td>\n",
       "      <td>10.585770</td>\n",
       "    </tr>\n",
       "    <tr>\n",
       "      <th>1</th>\n",
       "      <td>No</td>\n",
       "      <td>4193.190458</td>\n",
       "      <td>15.129562</td>\n",
       "    </tr>\n",
       "    <tr>\n",
       "      <th>2</th>\n",
       "      <td>No</td>\n",
       "      <td>2434.234222</td>\n",
       "      <td>4.772177</td>\n",
       "    </tr>\n",
       "    <tr>\n",
       "      <th>3</th>\n",
       "      <td>No</td>\n",
       "      <td>2127.830423</td>\n",
       "      <td>1.714879</td>\n",
       "    </tr>\n",
       "    <tr>\n",
       "      <th>4</th>\n",
       "      <td>No</td>\n",
       "      <td>2113.073274</td>\n",
       "      <td>1.254807</td>\n",
       "    </tr>\n",
       "  </tbody>\n",
       "</table>\n",
       "</div>"
      ],
      "text/plain": [
       "  ReAdmis  TotalCharge  Initial_days\n",
       "0      No  3726.702860     10.585770\n",
       "1      No  4193.190458     15.129562\n",
       "2      No  2434.234222      4.772177\n",
       "3      No  2127.830423      1.714879\n",
       "4      No  2113.073274      1.254807"
      ]
     },
     "execution_count": 7,
     "metadata": {},
     "output_type": "execute_result"
    }
   ],
   "source": [
    "medical_df.head()"
   ]
  },
  {
   "cell_type": "code",
   "execution_count": 8,
   "id": "adc08fec",
   "metadata": {},
   "outputs": [
    {
     "data": {
      "text/plain": [
       "ReAdmis         0\n",
       "TotalCharge     0\n",
       "Initial_days    0\n",
       "dtype: int64"
      ]
     },
     "execution_count": 8,
     "metadata": {},
     "output_type": "execute_result"
    }
   ],
   "source": [
    "medical_df.isnull().sum()"
   ]
  },
  {
   "cell_type": "code",
   "execution_count": 9,
   "id": "6011311c",
   "metadata": {},
   "outputs": [
    {
     "data": {
      "text/html": [
       "<div>\n",
       "<style scoped>\n",
       "    .dataframe tbody tr th:only-of-type {\n",
       "        vertical-align: middle;\n",
       "    }\n",
       "\n",
       "    .dataframe tbody tr th {\n",
       "        vertical-align: top;\n",
       "    }\n",
       "\n",
       "    .dataframe thead th {\n",
       "        text-align: right;\n",
       "    }\n",
       "</style>\n",
       "<table border=\"1\" class=\"dataframe\">\n",
       "  <thead>\n",
       "    <tr style=\"text-align: right;\">\n",
       "      <th></th>\n",
       "      <th>TotalCharge</th>\n",
       "      <th>Initial_days</th>\n",
       "    </tr>\n",
       "  </thead>\n",
       "  <tbody>\n",
       "    <tr>\n",
       "      <th>count</th>\n",
       "      <td>10000.000000</td>\n",
       "      <td>10000.000000</td>\n",
       "    </tr>\n",
       "    <tr>\n",
       "      <th>mean</th>\n",
       "      <td>5312.172769</td>\n",
       "      <td>34.455299</td>\n",
       "    </tr>\n",
       "    <tr>\n",
       "      <th>std</th>\n",
       "      <td>2180.393838</td>\n",
       "      <td>26.309341</td>\n",
       "    </tr>\n",
       "    <tr>\n",
       "      <th>min</th>\n",
       "      <td>1938.312067</td>\n",
       "      <td>1.001981</td>\n",
       "    </tr>\n",
       "    <tr>\n",
       "      <th>25%</th>\n",
       "      <td>3179.374015</td>\n",
       "      <td>7.896215</td>\n",
       "    </tr>\n",
       "    <tr>\n",
       "      <th>50%</th>\n",
       "      <td>5213.952000</td>\n",
       "      <td>35.836244</td>\n",
       "    </tr>\n",
       "    <tr>\n",
       "      <th>75%</th>\n",
       "      <td>7459.699750</td>\n",
       "      <td>61.161020</td>\n",
       "    </tr>\n",
       "    <tr>\n",
       "      <th>max</th>\n",
       "      <td>9180.728000</td>\n",
       "      <td>71.981490</td>\n",
       "    </tr>\n",
       "  </tbody>\n",
       "</table>\n",
       "</div>"
      ],
      "text/plain": [
       "        TotalCharge  Initial_days\n",
       "count  10000.000000  10000.000000\n",
       "mean    5312.172769     34.455299\n",
       "std     2180.393838     26.309341\n",
       "min     1938.312067      1.001981\n",
       "25%     3179.374015      7.896215\n",
       "50%     5213.952000     35.836244\n",
       "75%     7459.699750     61.161020\n",
       "max     9180.728000     71.981490"
      ]
     },
     "execution_count": 9,
     "metadata": {},
     "output_type": "execute_result"
    }
   ],
   "source": [
    "medical_df.describe()"
   ]
  },
  {
   "cell_type": "code",
   "execution_count": 10,
   "id": "74924af7",
   "metadata": {},
   "outputs": [],
   "source": [
    "# Summary Statistics\n"
   ]
  },
  {
   "cell_type": "code",
   "execution_count": 11,
   "id": "5cf9fac5",
   "metadata": {},
   "outputs": [
    {
     "data": {
      "text/plain": [
       "ReAdmis\n",
       "No     6331\n",
       "Yes    3669\n",
       "Name: count, dtype: int64"
      ]
     },
     "execution_count": 11,
     "metadata": {},
     "output_type": "execute_result"
    }
   ],
   "source": [
    "medical_df['ReAdmis'].value_counts()"
   ]
  },
  {
   "cell_type": "code",
   "execution_count": 12,
   "id": "7c5f8ea5",
   "metadata": {},
   "outputs": [
    {
     "data": {
      "text/plain": [
       "count     10000\n",
       "unique        2\n",
       "top          No\n",
       "freq       6331\n",
       "Name: ReAdmis, dtype: object"
      ]
     },
     "execution_count": 12,
     "metadata": {},
     "output_type": "execute_result"
    }
   ],
   "source": [
    "medical_df['ReAdmis'].describe()"
   ]
  },
  {
   "cell_type": "code",
   "execution_count": 13,
   "id": "65a6f556",
   "metadata": {},
   "outputs": [
    {
     "data": {
      "text/plain": [
       "count    10000.000000\n",
       "mean      5312.172769\n",
       "std       2180.393838\n",
       "min       1938.312067\n",
       "25%       3179.374015\n",
       "50%       5213.952000\n",
       "75%       7459.699750\n",
       "max       9180.728000\n",
       "Name: TotalCharge, dtype: float64"
      ]
     },
     "execution_count": 13,
     "metadata": {},
     "output_type": "execute_result"
    }
   ],
   "source": [
    "medical_df['TotalCharge'].describe()"
   ]
  },
  {
   "cell_type": "code",
   "execution_count": 14,
   "id": "94d2d648",
   "metadata": {},
   "outputs": [
    {
     "data": {
      "text/plain": [
       "count    10000.000000\n",
       "mean        34.455299\n",
       "std         26.309341\n",
       "min          1.001981\n",
       "25%          7.896215\n",
       "50%         35.836244\n",
       "75%         61.161020\n",
       "max         71.981490\n",
       "Name: Initial_days, dtype: float64"
      ]
     },
     "execution_count": 14,
     "metadata": {},
     "output_type": "execute_result"
    }
   ],
   "source": [
    "medical_df['Initial_days'].describe()"
   ]
  },
  {
   "cell_type": "code",
   "execution_count": 15,
   "id": "b27df455",
   "metadata": {},
   "outputs": [],
   "source": [
    "# Check for outliers"
   ]
  },
  {
   "cell_type": "code",
   "execution_count": 16,
   "id": "1b50d02e",
   "metadata": {},
   "outputs": [
    {
     "data": {
      "text/plain": [
       "<Axes: xlabel='TotalCharge'>"
      ]
     },
     "execution_count": 16,
     "metadata": {},
     "output_type": "execute_result"
    },
    {
     "data": {
      "image/png": "[encoded data removed]",
      "text/plain": [
       "<Figure size 640x480 with 1 Axes>"
      ]
     },
     "metadata": {},
     "output_type": "display_data"
    }
   ],
   "source": [
    "# TotalCharge\n",
    "\n",
    "sns.boxplot(x = 'TotalCharge', data = medical_df)"
   ]
  },
  {
   "cell_type": "code",
   "execution_count": 17,
   "id": "9fa89eda",
   "metadata": {},
   "outputs": [
    {
     "data": {
      "text/plain": [
       "<Axes: xlabel='Initial_days'>"
      ]
     },
     "execution_count": 17,
     "metadata": {},
     "output_type": "execute_result"
    },
    {
     "data": {
      "image/png": "[encoded data removed]",
      "text/plain": [
       "<Figure size 640x480 with 1 Axes>"
      ]
     },
     "metadata": {},
     "output_type": "display_data"
    }
   ],
   "source": [
    "# Initial_days\n",
    "\n",
    "sns.boxplot(x = 'Initial_days', data = medical_df)"
   ]
  },
  {
   "cell_type": "code",
   "execution_count": 18,
   "id": "7b125188",
   "metadata": {},
   "outputs": [],
   "source": [
    "# Check distributions of each variable"
   ]
  },
  {
   "cell_type": "code",
   "execution_count": 19,
   "id": "5bac955a",
   "metadata": {},
   "outputs": [],
   "source": [
    "# Univariate"
   ]
  },
  {
   "cell_type": "code",
   "execution_count": 20,
   "id": "609bbabc",
   "metadata": {},
   "outputs": [
    {
     "data": {
      "text/plain": [
       "array([[<Axes: title={'center': 'TotalCharge'}>,\n",
       "        <Axes: title={'center': 'Initial_days'}>]], dtype=object)"
      ]
     },
     "execution_count": 20,
     "metadata": {},
     "output_type": "execute_result"
    },
    {
     "data": {
      "image/png": "[encoded data removed]",
      "text/plain": [
       "<Figure size 2000x1000 with 2 Axes>"
      ]
     },
     "metadata": {},
     "output_type": "display_data"
    }
   ],
   "source": [
    "# Numeric Variables TotalCharge and Initial_days\n",
    "\n",
    "medical_df[['TotalCharge', 'Initial_days']].hist(figsize=(20,10))"
   ]
  },
  {
   "cell_type": "code",
   "execution_count": 21,
   "id": "42899159",
   "metadata": {},
   "outputs": [
    {
     "data": {
      "text/plain": [
       "<Axes: title={'center': 'Readmission'}, xlabel='ReAdmis', ylabel='Instances'>"
      ]
     },
     "execution_count": 21,
     "metadata": {},
     "output_type": "execute_result"
    },
    {
     "data": {
      "image/png": "[encoded data removed]",
      "text/plain": [
       "<Figure size 640x480 with 1 Axes>"
      ]
     },
     "metadata": {},
     "output_type": "display_data"
    }
   ],
   "source": [
    "# Categorical variable ReAdmis\n",
    "\n",
    "medical_df['ReAdmis'].value_counts().plot(kind='bar', color=\"Blue\", ylabel=\"Instances\", title=\"Readmission\")\n"
   ]
  },
  {
   "cell_type": "code",
   "execution_count": 22,
   "id": "fe3f6107",
   "metadata": {},
   "outputs": [],
   "source": [
    "# Bivariate Distributions"
   ]
  },
  {
   "cell_type": "code",
   "execution_count": 23,
   "id": "9cdf768b",
   "metadata": {},
   "outputs": [
    {
     "data": {
      "text/plain": [
       "<Axes: xlabel='TotalCharge', ylabel='Initial_days'>"
      ]
     },
     "execution_count": 23,
     "metadata": {},
     "output_type": "execute_result"
    },
    {
     "data": {
      "image/png": "[encoded data removed]",
      "text/plain": [
       "<Figure size 800x800 with 1 Axes>"
      ]
     },
     "metadata": {},
     "output_type": "display_data"
    }
   ],
   "source": [
    "# TotalCharge and Initial_days\n",
    "\n",
    "medical_df.plot.scatter(x='TotalCharge', y='Initial_days', marker = \"o\", figsize=(8,8))"
   ]
  },
  {
   "cell_type": "code",
   "execution_count": 24,
   "id": "0ae0820e",
   "metadata": {},
   "outputs": [
    {
     "data": {
      "text/plain": [
       "<Axes: xlabel='TotalCharge', ylabel='ReAdmis'>"
      ]
     },
     "execution_count": 24,
     "metadata": {},
     "output_type": "execute_result"
    },
    {
     "data": {
      "image/png": "[encoded data removed]",
      "text/plain": [
       "<Figure size 640x480 with 1 Axes>"
      ]
     },
     "metadata": {},
     "output_type": "display_data"
    }
   ],
   "source": [
    "# ReAdmis and TotalCharge\n",
    "\n",
    "sns.boxplot(x = 'TotalCharge', y = 'ReAdmis', data = medical_df)"
   ]
  },
  {
   "cell_type": "code",
   "execution_count": 25,
   "id": "1e937115",
   "metadata": {},
   "outputs": [
    {
     "data": {
      "text/plain": [
       "<Axes: xlabel='Initial_days', ylabel='ReAdmis'>"
      ]
     },
     "execution_count": 25,
     "metadata": {},
     "output_type": "execute_result"
    },
    {
     "data": {
      "image/png": "[encoded data removed]",
      "text/plain": [
       "<Figure size 640x480 with 1 Axes>"
      ]
     },
     "metadata": {},
     "output_type": "display_data"
    }
   ],
   "source": [
    "# ReAdmis and Initial_days\n",
    "\n",
    "sns.boxplot(x = 'Initial_days', y = 'ReAdmis', data = medical_df)"
   ]
  },
  {
   "cell_type": "code",
   "execution_count": 26,
   "id": "ac0bd900",
   "metadata": {},
   "outputs": [
    {
     "data": {
      "text/html": [
       "<div>\n",
       "<style scoped>\n",
       "    .dataframe tbody tr th:only-of-type {\n",
       "        vertical-align: middle;\n",
       "    }\n",
       "\n",
       "    .dataframe tbody tr th {\n",
       "        vertical-align: top;\n",
       "    }\n",
       "\n",
       "    .dataframe thead th {\n",
       "        text-align: right;\n",
       "    }\n",
       "</style>\n",
       "<table border=\"1\" class=\"dataframe\">\n",
       "  <thead>\n",
       "    <tr style=\"text-align: right;\">\n",
       "      <th></th>\n",
       "      <th>ReAdmis</th>\n",
       "      <th>TotalCharge</th>\n",
       "      <th>Initial_days</th>\n",
       "    </tr>\n",
       "  </thead>\n",
       "  <tbody>\n",
       "    <tr>\n",
       "      <th>0</th>\n",
       "      <td>0</td>\n",
       "      <td>3726.702860</td>\n",
       "      <td>10.585770</td>\n",
       "    </tr>\n",
       "    <tr>\n",
       "      <th>1</th>\n",
       "      <td>0</td>\n",
       "      <td>4193.190458</td>\n",
       "      <td>15.129562</td>\n",
       "    </tr>\n",
       "    <tr>\n",
       "      <th>2</th>\n",
       "      <td>0</td>\n",
       "      <td>2434.234222</td>\n",
       "      <td>4.772177</td>\n",
       "    </tr>\n",
       "    <tr>\n",
       "      <th>3</th>\n",
       "      <td>0</td>\n",
       "      <td>2127.830423</td>\n",
       "      <td>1.714879</td>\n",
       "    </tr>\n",
       "    <tr>\n",
       "      <th>4</th>\n",
       "      <td>0</td>\n",
       "      <td>2113.073274</td>\n",
       "      <td>1.254807</td>\n",
       "    </tr>\n",
       "  </tbody>\n",
       "</table>\n",
       "</div>"
      ],
      "text/plain": [
       "   ReAdmis  TotalCharge  Initial_days\n",
       "0        0  3726.702860     10.585770\n",
       "1        0  4193.190458     15.129562\n",
       "2        0  2434.234222      4.772177\n",
       "3        0  2127.830423      1.714879\n",
       "4        0  2113.073274      1.254807"
      ]
     },
     "execution_count": 26,
     "metadata": {},
     "output_type": "execute_result"
    }
   ],
   "source": [
    "# Encoding binary variables for ReAdmis\n",
    "\n",
    "bin_col = ['ReAdmis']\n",
    "bin_dict = {'Yes': 1, 'No': 0}\n",
    "for col in bin_col:\n",
    "    medical_df[col] = medical_df[col].replace(bin_dict)\n",
    "medical_df.head()"
   ]
  },
  {
   "cell_type": "code",
   "execution_count": 27,
   "id": "c13724de",
   "metadata": {},
   "outputs": [],
   "source": [
    "# Standardize data\n",
    "\n",
    "from sklearn.preprocessing import StandardScaler\n",
    "scaler = StandardScaler()\n",
    "\n",
    "medical_df_in = medical_df.drop(['ReAdmis'], axis = 1)\n",
    "medical_df_std = pd.DataFrame(scaler.fit_transform(medical_df_in),columns = medical_df_in.columns)\n",
    "medical_df_rsp = medical_df['ReAdmis']\n",
    "frame = [medical_df_rsp, medical_df_std]\n",
    "\n",
    "medical_df_std = pd.concat(frame, axis = 1)\n",
    "medical_df_std.head()\n",
    "\n",
    "# send to csv\n",
    "medical_df_std.to_csv(\"medical_df_std_cleaned.csv\")"
   ]
  },
  {
   "cell_type": "code",
   "execution_count": 28,
   "id": "5be61219",
   "metadata": {},
   "outputs": [],
   "source": [
    "# Split the data into training and test sets\n",
    "\n",
    "X = medical_df_std.drop(['ReAdmis'], axis = 1)\n",
    "y = medical_df_std['ReAdmis']\n",
    "\n",
    "X_train, X_test, y_train, y_test, = train_test_split(X, y, test_size = 0.2,\n",
    "                                                     random_state = 42, stratify = y)"
   ]
  },
  {
   "cell_type": "code",
   "execution_count": 29,
   "id": "f9943017",
   "metadata": {},
   "outputs": [],
   "source": [
    "frame_train = [X_train, y_train]\n",
    "medical_df_train = pd.concat(frame_train, axis = 1)\n",
    "\n",
    "# send to csv\n",
    "\n",
    "medical_df_train.to_csv(\"medical_df_train_set.csv\")"
   ]
  },
  {
   "cell_type": "code",
   "execution_count": 30,
   "id": "ec00a6e8",
   "metadata": {},
   "outputs": [],
   "source": [
    "frame_test = [X_test, y_test]\n",
    "medical_df_test = pd.concat(frame_test, axis = 1)\n",
    "\n",
    "# send to csv\n",
    "medical_df_test.to_csv(\"medical_df_test_set.csv\")"
   ]
  },
  {
   "cell_type": "code",
   "execution_count": 31,
   "id": "64a31a91",
   "metadata": {},
   "outputs": [
    {
     "data": {
      "text/plain": [
       "0.633"
      ]
     },
     "execution_count": 31,
     "metadata": {},
     "output_type": "execute_result"
    }
   ],
   "source": [
    "# Verify split\n",
    "\n",
    "len(medical_df_train)\n",
    "len(medical_df_test)\n",
    "medical_df_train['ReAdmis'].value_counts()\n",
    "medical_df_test['ReAdmis'].value_counts()\n",
    "len(medical_df_train[medical_df_train['ReAdmis']==0])/len(medical_df_train)\n",
    "len(medical_df_test[medical_df_test['ReAdmis']==0])/len(medical_df_test)"
   ]
  },
  {
   "cell_type": "code",
   "execution_count": 32,
   "id": "40ec0be3",
   "metadata": {},
   "outputs": [],
   "source": [
    "# KNN\n",
    "\n",
    "knn = KNeighborsClassifier()\n",
    "knn.fit(X_train, y_train)\n",
    "y_pred = knn.predict(X_test)"
   ]
  },
  {
   "cell_type": "code",
   "execution_count": 33,
   "id": "96894dff",
   "metadata": {},
   "outputs": [
    {
     "data": {
      "text/plain": [
       "7752    1\n",
       "7921    1\n",
       "4673    0\n",
       "3369    0\n",
       "2626    0\n",
       "       ..\n",
       "3146    0\n",
       "2255    0\n",
       "6493    0\n",
       "6867    1\n",
       "2950    0\n",
       "Name: ReAdmis, Length: 2000, dtype: int64"
      ]
     },
     "execution_count": 33,
     "metadata": {},
     "output_type": "execute_result"
    }
   ],
   "source": [
    "y_test"
   ]
  },
  {
   "cell_type": "code",
   "execution_count": 34,
   "id": "4495be14",
   "metadata": {},
   "outputs": [
    {
     "data": {
      "text/plain": [
       "array([1, 0, 0, ..., 0, 1, 0], dtype=int64)"
      ]
     },
     "execution_count": 34,
     "metadata": {},
     "output_type": "execute_result"
    }
   ],
   "source": [
    "y_pred"
   ]
  },
  {
   "cell_type": "code",
   "execution_count": 35,
   "id": "dfaa3d8e",
   "metadata": {},
   "outputs": [
    {
     "name": "stdout",
     "output_type": "stream",
     "text": [
      "[[1241   25]\n",
      " [  16  718]]\n"
     ]
    }
   ],
   "source": [
    "# Confusion Matrix\n",
    "\n",
    "cmatrix = confusion_matrix(y_test, y_pred)\n",
    "print(cmatrix)"
   ]
  },
  {
   "cell_type": "code",
   "execution_count": 36,
   "id": "8cf2f05e",
   "metadata": {},
   "outputs": [
    {
     "name": "stdout",
     "output_type": "stream",
     "text": [
      "              precision    recall  f1-score   support\n",
      "\n",
      "           0       0.99      0.98      0.98      1266\n",
      "           1       0.97      0.98      0.97       734\n",
      "\n",
      "    accuracy                           0.98      2000\n",
      "   macro avg       0.98      0.98      0.98      2000\n",
      "weighted avg       0.98      0.98      0.98      2000\n",
      "\n"
     ]
    }
   ],
   "source": [
    "# Classification Report\n",
    "\n",
    "print(classification_report(y_test, y_pred))"
   ]
  },
  {
   "cell_type": "code",
   "execution_count": 37,
   "id": "4b753881",
   "metadata": {},
   "outputs": [
    {
     "name": "stdout",
     "output_type": "stream",
     "text": [
      "0.9795\n"
     ]
    }
   ],
   "source": [
    "print(knn.score(X_test, y_test))"
   ]
  },
  {
   "cell_type": "code",
   "execution_count": 38,
   "id": "aff30cca",
   "metadata": {},
   "outputs": [],
   "source": [
    "# Performance Metrics\n",
    "\n",
    "total = cmatrix[0,0] + cmatrix[1,0], + cmatrix[0,1] + cmatrix[1,1]"
   ]
  },
  {
   "cell_type": "code",
   "execution_count": 39,
   "id": "97fe0bba",
   "metadata": {},
   "outputs": [
    {
     "name": "stdout",
     "output_type": "stream",
     "text": [
      "Accuracy score is: 0.9795\n"
     ]
    }
   ],
   "source": [
    "# Accuracy Score\n",
    "\n",
    "acc = (cmatrix[0,0] + cmatrix[1,1]) / (total[0] + total[1])\n",
    "print('Accuracy score is: {}'.format(acc))"
   ]
  },
  {
   "cell_type": "code",
   "execution_count": 40,
   "id": "deb8fda4",
   "metadata": {},
   "outputs": [
    {
     "name": "stdout",
     "output_type": "stream",
     "text": [
      "Sensitivity score is: 0.9782016348773842\n"
     ]
    }
   ],
   "source": [
    "# Sensitivity Score\n",
    "\n",
    "sens = cmatrix[1,1]/(cmatrix[1,1] + cmatrix[1,0])\n",
    "print('Sensitivity score is: {}'.format(sens))"
   ]
  },
  {
   "cell_type": "code",
   "execution_count": 41,
   "id": "e552155f",
   "metadata": {},
   "outputs": [
    {
     "name": "stdout",
     "output_type": "stream",
     "text": [
      "Specificity score is: 0.9802527646129542\n"
     ]
    }
   ],
   "source": [
    "# Specificity Score\n",
    "\n",
    "spec = cmatrix[0,0]/(cmatrix[0,0] + cmatrix[0,1])\n",
    "print('Specificity score is: {}'.format(spec))"
   ]
  },
  {
   "cell_type": "code",
   "execution_count": null,
   "id": "13a23dd0",
   "metadata": {},
   "outputs": [],
   "source": [
    "train_accuracies = {}\n",
    "test_accuracies = {}\n",
    "neighbors = np.arange(1, 155)\n",
    "for neighbor in neighbors:\n",
    "    knn = KNeighborsClassifier(n_neighbors=neighbor)\n",
    "    knn.fit(X_train, y_train)\n",
    "    train_accuracies[neighbor] = knn.score(X_train, y_train)\n",
    "    test_accuracies[neighbor] = knn.score(X_test, y_test)"
   ]
  },
  {
   "cell_type": "code",
   "execution_count": null,
   "id": "3f37a135",
   "metadata": {},
   "outputs": [],
   "source": [
    "plt.figure(figsize=(8, 6))\n",
    "plt.title(\"KNN: varying Number of Neighbors\")\n",
    "plt.plot(neighbors, train_accuracies.values(), label=\"Training Accuracy\")\n",
    "plt.plot(neighbors, test_accuracies.values(), label=\"Testing Accuracy\")\n",
    "plt.legend()\n",
    "plt.xlabel(\"# of Neighbors\")\n",
    "plt.ylabel(\"Accuracy\")\n",
    "plt.show()"
   ]
  },
  {
   "cell_type": "code",
   "execution_count": null,
   "id": "36b8849f",
   "metadata": {},
   "outputs": [],
   "source": [
    "# ROC Curve (Receiver Operating Characterisitic)\n",
    "\n",
    "from sklearn.metrics import roc_curve\n",
    "\n",
    "y_pred_prob = knn.predict_proba(X_test)[:,1]\n",
    "false_positive_rate, true_positive_rate, thresholds = roc_curve(y_test, y_pred_prob)"
   ]
  },
  {
   "cell_type": "code",
   "execution_count": null,
   "id": "32eb738d",
   "metadata": {},
   "outputs": [],
   "source": [
    "plt.plot([0,1], [0,1], 'k--')\n",
    "plt.plot(false_positive_rate, true_positive_rate, label = 'KNN')\n",
    "plt.xlabel('False Positive Rate')\n",
    "plt.ylabel('True Positive Rate')\n",
    "plt.title('ROC Curve')\n",
    "plt.show()"
   ]
  },
  {
   "cell_type": "code",
   "execution_count": null,
   "id": "629feef7",
   "metadata": {},
   "outputs": [],
   "source": [
    "# AUC\n",
    "\n",
    "from sklearn.metrics import roc_auc_score\n",
    "auc = roc_auc_score(y_test, y_pred_prob)\n",
    "print('AUC: {}'.format(auc))"
   ]
  },
  {
   "cell_type": "code",
   "execution_count": null,
   "id": "c19e76a9",
   "metadata": {},
   "outputs": [],
   "source": [
    "# Test Parameters\n",
    "\n"
   ]
  },
  {
   "cell_type": "code",
   "execution_count": null,
   "id": "8a9cc5e6",
   "metadata": {},
   "outputs": [],
   "source": [
    "# Metrics\n"
   ]
  },
  {
   "cell_type": "code",
   "execution_count": null,
   "id": "52234c4f",
   "metadata": {},
   "outputs": [],
   "source": [
    "# Grid Search\n",
    "\n",
    "from sklearn.model_selection import GridSearchCV\n",
    "param_grid = {'n_neighbors': np.arange(5, 155, 10), 'metric': ('manhattan', 'euclidean', 'minkowski'), 'weights': ('uniform', 'distance')}\n",
    "knn = KNeighborsClassifier()\n",
    "knn_cv = GridSearchCV(knn, param_grid, cv = 10)\n",
    "knn_cv.fit(X_train, y_train)\n",
    "print('Best params: {}'.format(knn_cv.best_params_))\n",
    "print('Best score: {}'.format(knn_cv.best_score_))"
   ]
  },
  {
   "cell_type": "code",
   "execution_count": null,
   "id": "013f0632",
   "metadata": {},
   "outputs": [],
   "source": [
    "# Test Classifier\n",
    "\n",
    "X = medical_df_std.drop(['ReAdmis'], axis = 1)\n",
    "y = medical_df_std['ReAdmis']\n",
    "\n",
    "X_train, X_test, y_train, y_test, = train_test_split(X, y, test_size = 0.2,\n",
    "                                                     random_state = 42, stratify = y)"
   ]
  },
  {
   "cell_type": "code",
   "execution_count": null,
   "id": "16fa581c",
   "metadata": {},
   "outputs": [],
   "source": [
    "frame_train = [X_train, y_train]\n",
    "medical_df_train = pd.concat(frame_train, axis = 1)"
   ]
  },
  {
   "cell_type": "code",
   "execution_count": null,
   "id": "8ac1baac",
   "metadata": {},
   "outputs": [],
   "source": [
    "frame_test = [X_test, y_test]\n",
    "medical_df_test = pd.concat(frame_test, axis = 1)\n"
   ]
  },
  {
   "cell_type": "code",
   "execution_count": null,
   "id": "b69d867e",
   "metadata": {},
   "outputs": [],
   "source": [
    "# Run best parameters\n",
    "\n",
    "knn = KNeighborsClassifier(metric = 'euclidean', n_neighbors = 125, weights = 'distance')\n",
    "knn.fit(X_train, y_train)\n",
    "y_pred = knn.predict(X_test)"
   ]
  },
  {
   "cell_type": "code",
   "execution_count": null,
   "id": "6f8d6fb7",
   "metadata": {},
   "outputs": [],
   "source": [
    "y_test"
   ]
  },
  {
   "cell_type": "code",
   "execution_count": null,
   "id": "4218af29",
   "metadata": {},
   "outputs": [],
   "source": [
    "y_pred"
   ]
  },
  {
   "cell_type": "code",
   "execution_count": null,
   "id": "97f55423",
   "metadata": {},
   "outputs": [],
   "source": [
    "# Metrics\n",
    "\n",
    "cmatrix_two = confusion_matrix(y_test, y_pred)\n",
    "print(cmatrix_two)"
   ]
  },
  {
   "cell_type": "code",
   "execution_count": null,
   "id": "f14c5d99",
   "metadata": {},
   "outputs": [],
   "source": [
    "print(classification_report(y_test, y_pred))"
   ]
  },
  {
   "cell_type": "code",
   "execution_count": null,
   "id": "0eee998b",
   "metadata": {},
   "outputs": [],
   "source": [
    "acc_two = (cmatrix_two[0,0] + cmatrix_two[1,1]) / (total[0] + total[1])\n",
    "print('Accuracy score is: {}'.format(acc_two))"
   ]
  },
  {
   "cell_type": "code",
   "execution_count": null,
   "id": "69c54c04",
   "metadata": {},
   "outputs": [],
   "source": [
    "# Sensitivity Score\n",
    "\n",
    "sens = cmatrix_two[1,1]/(cmatrix_two[1,1] + cmatrix_two[1,0])\n",
    "print('Sensitivity score is: {}'.format(sens))"
   ]
  },
  {
   "cell_type": "code",
   "execution_count": null,
   "id": "29618a97",
   "metadata": {},
   "outputs": [],
   "source": [
    "# Specificity Score\n",
    "\n",
    "spec = cmatrix_two[0,0]/(cmatrix_two[0,0] + cmatrix_two[0,1])\n",
    "print('Specificity score is: {}'.format(spec))"
   ]
  },
  {
   "cell_type": "code",
   "execution_count": null,
   "id": "2f8ea0cf",
   "metadata": {},
   "outputs": [],
   "source": [
    "y_pred_prob = knn.predict_proba(X_test)[:,1]\n",
    "false_positive_rate, true_positive_rate, thresholds = roc_curve(y_test, y_pred_prob)\n",
    "\n",
    "plt.plot([0,1], [0,1], 'k--')\n",
    "plt.plot(false_positive_rate, true_positive_rate, label = 'KNN')\n",
    "plt.xlabel('False Positive Rate')\n",
    "plt.ylabel('True Positive Rate')\n",
    "plt.title('ROC Curve')\n",
    "plt.show()"
   ]
  },
  {
   "cell_type": "code",
   "execution_count": null,
   "id": "daf863c6",
   "metadata": {},
   "outputs": [],
   "source": [
    "# AUC\n",
    "\n",
    "from sklearn.metrics import roc_auc_score\n",
    "auc = roc_auc_score(y_test, y_pred_prob)\n",
    "print('AUC: {}'.format(auc))"
   ]
  }
 ],
 "metadata": {
  "kernelspec": {
   "display_name": "Python 3 (ipykernel)",
   "language": "python",
   "name": "python3"
  },
  "language_info": {
   "codemirror_mode": {
    "name": "ipython",
    "version": 3
   },
   "file_extension": ".py",
   "mimetype": "text/x-python",
   "name": "python",
   "nbconvert_exporter": "python",
   "pygments_lexer": "ipython3",
   "version": "3.11.5"
  }
 },
 "nbformat": 4,
 "nbformat_minor": 5
}
