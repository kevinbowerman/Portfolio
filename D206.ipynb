{
 "cells": [
  {
   "cell_type": "code",
   "execution_count": 1,
   "id": "1c5e4c87",
   "metadata": {},
   "outputs": [],
   "source": [
    "# Import all packages\n",
    "\n",
    "import pandas as pd\n",
    "import math\n",
    "import numpy as np\n",
    "import matplotlib.pyplot as plt\n",
    "import scipy.stats as stats\n",
    "import statistics\n",
    "import seaborn\n",
    "from sklearn.decomposition import PCA"
   ]
  },
  {
   "cell_type": "code",
   "execution_count": 2,
   "id": "d14eab51",
   "metadata": {},
   "outputs": [],
   "source": [
    "# Import csv file\n",
    "\n",
    "df = pd.read_csv(r\"C:\\Users\\bower\\OneDrive\\Desktop\\medical_raw_data.csv\", index_col=[0])"
   ]
  },
  {
   "cell_type": "code",
   "execution_count": 3,
   "id": "a016cd0b",
   "metadata": {},
   "outputs": [
    {
     "name": "stdout",
     "output_type": "stream",
     "text": [
      "       CaseOrder Customer_id                           Interaction  \\\n",
      "1              1     C412403  8cd49b13-f45a-4b47-a2bd-173ffa932c2f   \n",
      "2              2     Z919181  d2450b70-0337-4406-bdbb-bc1037f1734c   \n",
      "3              3     F995323  a2057123-abf5-4a2c-abad-8ffe33512562   \n",
      "4              4     A879973  1dec528d-eb34-4079-adce-0d7a40e82205   \n",
      "5              5     C544523  5885f56b-d6da-43a3-8760-83583af94266   \n",
      "...          ...         ...                                   ...   \n",
      "9996        9996     B863060  a25b594d-0328-486f-a9b9-0567eb0f9723   \n",
      "9997        9997     P712040  70711574-f7b1-4a17-b15f-48c54564b70f   \n",
      "9998        9998     R778890  1d79569d-8e0f-4180-a207-d67ee4527d26   \n",
      "9999        9999     E344109  f5a68e69-2a60-409b-a92f-ac0847b27db0   \n",
      "10000      10000     I569847  bc482c02-f8c9-4423-99de-3db5e62a18d5   \n",
      "\n",
      "                                    UID          City State        County  \\\n",
      "1      3a83ddb66e2ae73798bdf1d705dc0932           Eva    AL        Morgan   \n",
      "2      176354c5eef714957d486009feabf195      Marianna    FL       Jackson   \n",
      "3      e19a0fa00aeda885b8a436757e889bc9   Sioux Falls    SD     Minnehaha   \n",
      "4      cd17d7b6d152cb6f23957346d11c3f07  New Richland    MN        Waseca   \n",
      "5      d2f0425877b10ed6bb381f3e2579424a    West Point    VA  King William   \n",
      "...                                 ...           ...   ...           ...   \n",
      "9996   39184dc28cc038871912ccc4500049e5       Norlina    NC        Warren   \n",
      "9997   3cd124ccd43147404292e883bf9ec55c        Milmay    NJ      Atlantic   \n",
      "9998   41b770aeee97a5b9e7f69c906a8119d7     Southside    TN    Montgomery   \n",
      "9999   2bb491ef5b1beb1fed758cc6885c167a         Quinn    SD    Pennington   \n",
      "10000  95663a202338000abdf7e09311c2a8a1    Coraopolis    PA     Allegheny   \n",
      "\n",
      "         Zip       Lat        Lng  ...  TotalCharge Additional_charges Item1  \\\n",
      "1      35621  34.34960  -86.72508  ...  3191.048774       17939.403420     3   \n",
      "2      32446  30.84513  -85.22907  ...  4214.905346       17612.998120     3   \n",
      "3      57110  43.54321  -96.63772  ...  2177.586768       17505.192460     2   \n",
      "4      56072  43.89744  -93.51479  ...  2465.118965       12993.437350     3   \n",
      "5      23181  37.59894  -76.88958  ...  1885.655137        3716.525786     2   \n",
      "...      ...       ...        ...  ...          ...                ...   ...   \n",
      "9996   27563  36.42886  -78.23716  ...  6651.241294        8927.642189     3   \n",
      "9997    8340  39.43609  -74.87302  ...  7851.522660       28507.147340     3   \n",
      "9998   37171  36.36655  -87.29988  ...  7725.953391       15281.214660     3   \n",
      "9999   57775  44.10354 -102.01593  ...  8462.831883        7781.678412     5   \n",
      "10000  15108  40.49998  -80.19959  ...  8700.856021       11643.189930     4   \n",
      "\n",
      "      Item2  Item3  Item4 Item5 Item6  Item7 Item8  \n",
      "1         3      2      2     4     3      3     4  \n",
      "2         4      3      4     4     4      3     3  \n",
      "3         4      4      4     3     4      3     3  \n",
      "4         5      5      3     4     5      5     5  \n",
      "5         1      3      3     5     3      4     3  \n",
      "...     ...    ...    ...   ...   ...    ...   ...  \n",
      "9996      2      2      3     4     3      4     2  \n",
      "9997      3      4      2     5     3      4     4  \n",
      "9998      3      3      4     4     2      3     2  \n",
      "9999      5      3      4     4     3      4     3  \n",
      "10000     3      3      2     3     6      4     3  \n",
      "\n",
      "[10000 rows x 52 columns]\n"
     ]
    }
   ],
   "source": [
    "# Print out the DataFrame\n",
    "\n",
    "print(df)"
   ]
  },
  {
   "cell_type": "code",
   "execution_count": 4,
   "id": "96f5370e",
   "metadata": {},
   "outputs": [
    {
     "data": {
      "text/plain": [
       "CaseOrder               int64\n",
       "Customer_id            object\n",
       "Interaction            object\n",
       "UID                    object\n",
       "City                   object\n",
       "State                  object\n",
       "County                 object\n",
       "Zip                     int64\n",
       "Lat                   float64\n",
       "Lng                   float64\n",
       "Population              int64\n",
       "Area                   object\n",
       "Timezone               object\n",
       "Job                    object\n",
       "Children              float64\n",
       "Age                   float64\n",
       "Education              object\n",
       "Employment             object\n",
       "Income                float64\n",
       "Marital                object\n",
       "Gender                 object\n",
       "ReAdmis                object\n",
       "VitD_levels           float64\n",
       "Doc_visits              int64\n",
       "Full_meals_eaten        int64\n",
       "VitD_supp               int64\n",
       "Soft_drink             object\n",
       "Initial_admin          object\n",
       "HighBlood              object\n",
       "Stroke                 object\n",
       "Complication_risk      object\n",
       "Overweight            float64\n",
       "Arthritis              object\n",
       "Diabetes               object\n",
       "Hyperlipidemia         object\n",
       "BackPain               object\n",
       "Anxiety               float64\n",
       "Allergic_rhinitis      object\n",
       "Reflux_esophagitis     object\n",
       "Asthma                 object\n",
       "Services               object\n",
       "Initial_days          float64\n",
       "TotalCharge           float64\n",
       "Additional_charges    float64\n",
       "Item1                   int64\n",
       "Item2                   int64\n",
       "Item3                   int64\n",
       "Item4                   int64\n",
       "Item5                   int64\n",
       "Item6                   int64\n",
       "Item7                   int64\n",
       "Item8                   int64\n",
       "dtype: object"
      ]
     },
     "execution_count": 4,
     "metadata": {},
     "output_type": "execute_result"
    }
   ],
   "source": [
    "# Show datatypes\n",
    "\n",
    "df.dtypes"
   ]
  },
  {
   "cell_type": "code",
   "execution_count": 5,
   "id": "8443ad47",
   "metadata": {},
   "outputs": [
    {
     "data": {
      "text/html": [
       "<div>\n",
       "<style scoped>\n",
       "    .dataframe tbody tr th:only-of-type {\n",
       "        vertical-align: middle;\n",
       "    }\n",
       "\n",
       "    .dataframe tbody tr th {\n",
       "        vertical-align: top;\n",
       "    }\n",
       "\n",
       "    .dataframe thead th {\n",
       "        text-align: right;\n",
       "    }\n",
       "</style>\n",
       "<table border=\"1\" class=\"dataframe\">\n",
       "  <thead>\n",
       "    <tr style=\"text-align: right;\">\n",
       "      <th></th>\n",
       "      <th>CaseOrder</th>\n",
       "      <th>Customer_id</th>\n",
       "      <th>Interaction</th>\n",
       "      <th>UID</th>\n",
       "      <th>City</th>\n",
       "      <th>State</th>\n",
       "      <th>County</th>\n",
       "      <th>Zip</th>\n",
       "      <th>Lat</th>\n",
       "      <th>Lng</th>\n",
       "      <th>...</th>\n",
       "      <th>TotalCharge</th>\n",
       "      <th>Additional_charges</th>\n",
       "      <th>Item1</th>\n",
       "      <th>Item2</th>\n",
       "      <th>Item3</th>\n",
       "      <th>Item4</th>\n",
       "      <th>Item5</th>\n",
       "      <th>Item6</th>\n",
       "      <th>Item7</th>\n",
       "      <th>Item8</th>\n",
       "    </tr>\n",
       "  </thead>\n",
       "  <tbody>\n",
       "    <tr>\n",
       "      <th>1</th>\n",
       "      <td>1</td>\n",
       "      <td>C412403</td>\n",
       "      <td>8cd49b13-f45a-4b47-a2bd-173ffa932c2f</td>\n",
       "      <td>3a83ddb66e2ae73798bdf1d705dc0932</td>\n",
       "      <td>Eva</td>\n",
       "      <td>AL</td>\n",
       "      <td>Morgan</td>\n",
       "      <td>35621</td>\n",
       "      <td>34.34960</td>\n",
       "      <td>-86.72508</td>\n",
       "      <td>...</td>\n",
       "      <td>3191.048774</td>\n",
       "      <td>17939.403420</td>\n",
       "      <td>3</td>\n",
       "      <td>3</td>\n",
       "      <td>2</td>\n",
       "      <td>2</td>\n",
       "      <td>4</td>\n",
       "      <td>3</td>\n",
       "      <td>3</td>\n",
       "      <td>4</td>\n",
       "    </tr>\n",
       "    <tr>\n",
       "      <th>2</th>\n",
       "      <td>2</td>\n",
       "      <td>Z919181</td>\n",
       "      <td>d2450b70-0337-4406-bdbb-bc1037f1734c</td>\n",
       "      <td>176354c5eef714957d486009feabf195</td>\n",
       "      <td>Marianna</td>\n",
       "      <td>FL</td>\n",
       "      <td>Jackson</td>\n",
       "      <td>32446</td>\n",
       "      <td>30.84513</td>\n",
       "      <td>-85.22907</td>\n",
       "      <td>...</td>\n",
       "      <td>4214.905346</td>\n",
       "      <td>17612.998120</td>\n",
       "      <td>3</td>\n",
       "      <td>4</td>\n",
       "      <td>3</td>\n",
       "      <td>4</td>\n",
       "      <td>4</td>\n",
       "      <td>4</td>\n",
       "      <td>3</td>\n",
       "      <td>3</td>\n",
       "    </tr>\n",
       "    <tr>\n",
       "      <th>3</th>\n",
       "      <td>3</td>\n",
       "      <td>F995323</td>\n",
       "      <td>a2057123-abf5-4a2c-abad-8ffe33512562</td>\n",
       "      <td>e19a0fa00aeda885b8a436757e889bc9</td>\n",
       "      <td>Sioux Falls</td>\n",
       "      <td>SD</td>\n",
       "      <td>Minnehaha</td>\n",
       "      <td>57110</td>\n",
       "      <td>43.54321</td>\n",
       "      <td>-96.63772</td>\n",
       "      <td>...</td>\n",
       "      <td>2177.586768</td>\n",
       "      <td>17505.192460</td>\n",
       "      <td>2</td>\n",
       "      <td>4</td>\n",
       "      <td>4</td>\n",
       "      <td>4</td>\n",
       "      <td>3</td>\n",
       "      <td>4</td>\n",
       "      <td>3</td>\n",
       "      <td>3</td>\n",
       "    </tr>\n",
       "    <tr>\n",
       "      <th>4</th>\n",
       "      <td>4</td>\n",
       "      <td>A879973</td>\n",
       "      <td>1dec528d-eb34-4079-adce-0d7a40e82205</td>\n",
       "      <td>cd17d7b6d152cb6f23957346d11c3f07</td>\n",
       "      <td>New Richland</td>\n",
       "      <td>MN</td>\n",
       "      <td>Waseca</td>\n",
       "      <td>56072</td>\n",
       "      <td>43.89744</td>\n",
       "      <td>-93.51479</td>\n",
       "      <td>...</td>\n",
       "      <td>2465.118965</td>\n",
       "      <td>12993.437350</td>\n",
       "      <td>3</td>\n",
       "      <td>5</td>\n",
       "      <td>5</td>\n",
       "      <td>3</td>\n",
       "      <td>4</td>\n",
       "      <td>5</td>\n",
       "      <td>5</td>\n",
       "      <td>5</td>\n",
       "    </tr>\n",
       "    <tr>\n",
       "      <th>5</th>\n",
       "      <td>5</td>\n",
       "      <td>C544523</td>\n",
       "      <td>5885f56b-d6da-43a3-8760-83583af94266</td>\n",
       "      <td>d2f0425877b10ed6bb381f3e2579424a</td>\n",
       "      <td>West Point</td>\n",
       "      <td>VA</td>\n",
       "      <td>King William</td>\n",
       "      <td>23181</td>\n",
       "      <td>37.59894</td>\n",
       "      <td>-76.88958</td>\n",
       "      <td>...</td>\n",
       "      <td>1885.655137</td>\n",
       "      <td>3716.525786</td>\n",
       "      <td>2</td>\n",
       "      <td>1</td>\n",
       "      <td>3</td>\n",
       "      <td>3</td>\n",
       "      <td>5</td>\n",
       "      <td>3</td>\n",
       "      <td>4</td>\n",
       "      <td>3</td>\n",
       "    </tr>\n",
       "    <tr>\n",
       "      <th>...</th>\n",
       "      <td>...</td>\n",
       "      <td>...</td>\n",
       "      <td>...</td>\n",
       "      <td>...</td>\n",
       "      <td>...</td>\n",
       "      <td>...</td>\n",
       "      <td>...</td>\n",
       "      <td>...</td>\n",
       "      <td>...</td>\n",
       "      <td>...</td>\n",
       "      <td>...</td>\n",
       "      <td>...</td>\n",
       "      <td>...</td>\n",
       "      <td>...</td>\n",
       "      <td>...</td>\n",
       "      <td>...</td>\n",
       "      <td>...</td>\n",
       "      <td>...</td>\n",
       "      <td>...</td>\n",
       "      <td>...</td>\n",
       "      <td>...</td>\n",
       "    </tr>\n",
       "    <tr>\n",
       "      <th>9996</th>\n",
       "      <td>9996</td>\n",
       "      <td>B863060</td>\n",
       "      <td>a25b594d-0328-486f-a9b9-0567eb0f9723</td>\n",
       "      <td>39184dc28cc038871912ccc4500049e5</td>\n",
       "      <td>Norlina</td>\n",
       "      <td>NC</td>\n",
       "      <td>Warren</td>\n",
       "      <td>27563</td>\n",
       "      <td>36.42886</td>\n",
       "      <td>-78.23716</td>\n",
       "      <td>...</td>\n",
       "      <td>6651.241294</td>\n",
       "      <td>8927.642189</td>\n",
       "      <td>3</td>\n",
       "      <td>2</td>\n",
       "      <td>2</td>\n",
       "      <td>3</td>\n",
       "      <td>4</td>\n",
       "      <td>3</td>\n",
       "      <td>4</td>\n",
       "      <td>2</td>\n",
       "    </tr>\n",
       "    <tr>\n",
       "      <th>9997</th>\n",
       "      <td>9997</td>\n",
       "      <td>P712040</td>\n",
       "      <td>70711574-f7b1-4a17-b15f-48c54564b70f</td>\n",
       "      <td>3cd124ccd43147404292e883bf9ec55c</td>\n",
       "      <td>Milmay</td>\n",
       "      <td>NJ</td>\n",
       "      <td>Atlantic</td>\n",
       "      <td>8340</td>\n",
       "      <td>39.43609</td>\n",
       "      <td>-74.87302</td>\n",
       "      <td>...</td>\n",
       "      <td>7851.522660</td>\n",
       "      <td>28507.147340</td>\n",
       "      <td>3</td>\n",
       "      <td>3</td>\n",
       "      <td>4</td>\n",
       "      <td>2</td>\n",
       "      <td>5</td>\n",
       "      <td>3</td>\n",
       "      <td>4</td>\n",
       "      <td>4</td>\n",
       "    </tr>\n",
       "    <tr>\n",
       "      <th>9998</th>\n",
       "      <td>9998</td>\n",
       "      <td>R778890</td>\n",
       "      <td>1d79569d-8e0f-4180-a207-d67ee4527d26</td>\n",
       "      <td>41b770aeee97a5b9e7f69c906a8119d7</td>\n",
       "      <td>Southside</td>\n",
       "      <td>TN</td>\n",
       "      <td>Montgomery</td>\n",
       "      <td>37171</td>\n",
       "      <td>36.36655</td>\n",
       "      <td>-87.29988</td>\n",
       "      <td>...</td>\n",
       "      <td>7725.953391</td>\n",
       "      <td>15281.214660</td>\n",
       "      <td>3</td>\n",
       "      <td>3</td>\n",
       "      <td>3</td>\n",
       "      <td>4</td>\n",
       "      <td>4</td>\n",
       "      <td>2</td>\n",
       "      <td>3</td>\n",
       "      <td>2</td>\n",
       "    </tr>\n",
       "    <tr>\n",
       "      <th>9999</th>\n",
       "      <td>9999</td>\n",
       "      <td>E344109</td>\n",
       "      <td>f5a68e69-2a60-409b-a92f-ac0847b27db0</td>\n",
       "      <td>2bb491ef5b1beb1fed758cc6885c167a</td>\n",
       "      <td>Quinn</td>\n",
       "      <td>SD</td>\n",
       "      <td>Pennington</td>\n",
       "      <td>57775</td>\n",
       "      <td>44.10354</td>\n",
       "      <td>-102.01593</td>\n",
       "      <td>...</td>\n",
       "      <td>8462.831883</td>\n",
       "      <td>7781.678412</td>\n",
       "      <td>5</td>\n",
       "      <td>5</td>\n",
       "      <td>3</td>\n",
       "      <td>4</td>\n",
       "      <td>4</td>\n",
       "      <td>3</td>\n",
       "      <td>4</td>\n",
       "      <td>3</td>\n",
       "    </tr>\n",
       "    <tr>\n",
       "      <th>10000</th>\n",
       "      <td>10000</td>\n",
       "      <td>I569847</td>\n",
       "      <td>bc482c02-f8c9-4423-99de-3db5e62a18d5</td>\n",
       "      <td>95663a202338000abdf7e09311c2a8a1</td>\n",
       "      <td>Coraopolis</td>\n",
       "      <td>PA</td>\n",
       "      <td>Allegheny</td>\n",
       "      <td>15108</td>\n",
       "      <td>40.49998</td>\n",
       "      <td>-80.19959</td>\n",
       "      <td>...</td>\n",
       "      <td>8700.856021</td>\n",
       "      <td>11643.189930</td>\n",
       "      <td>4</td>\n",
       "      <td>3</td>\n",
       "      <td>3</td>\n",
       "      <td>2</td>\n",
       "      <td>3</td>\n",
       "      <td>6</td>\n",
       "      <td>4</td>\n",
       "      <td>3</td>\n",
       "    </tr>\n",
       "  </tbody>\n",
       "</table>\n",
       "<p>10000 rows × 52 columns</p>\n",
       "</div>"
      ],
      "text/plain": [
       "       CaseOrder Customer_id                           Interaction  \\\n",
       "1              1     C412403  8cd49b13-f45a-4b47-a2bd-173ffa932c2f   \n",
       "2              2     Z919181  d2450b70-0337-4406-bdbb-bc1037f1734c   \n",
       "3              3     F995323  a2057123-abf5-4a2c-abad-8ffe33512562   \n",
       "4              4     A879973  1dec528d-eb34-4079-adce-0d7a40e82205   \n",
       "5              5     C544523  5885f56b-d6da-43a3-8760-83583af94266   \n",
       "...          ...         ...                                   ...   \n",
       "9996        9996     B863060  a25b594d-0328-486f-a9b9-0567eb0f9723   \n",
       "9997        9997     P712040  70711574-f7b1-4a17-b15f-48c54564b70f   \n",
       "9998        9998     R778890  1d79569d-8e0f-4180-a207-d67ee4527d26   \n",
       "9999        9999     E344109  f5a68e69-2a60-409b-a92f-ac0847b27db0   \n",
       "10000      10000     I569847  bc482c02-f8c9-4423-99de-3db5e62a18d5   \n",
       "\n",
       "                                    UID          City State        County  \\\n",
       "1      3a83ddb66e2ae73798bdf1d705dc0932           Eva    AL        Morgan   \n",
       "2      176354c5eef714957d486009feabf195      Marianna    FL       Jackson   \n",
       "3      e19a0fa00aeda885b8a436757e889bc9   Sioux Falls    SD     Minnehaha   \n",
       "4      cd17d7b6d152cb6f23957346d11c3f07  New Richland    MN        Waseca   \n",
       "5      d2f0425877b10ed6bb381f3e2579424a    West Point    VA  King William   \n",
       "...                                 ...           ...   ...           ...   \n",
       "9996   39184dc28cc038871912ccc4500049e5       Norlina    NC        Warren   \n",
       "9997   3cd124ccd43147404292e883bf9ec55c        Milmay    NJ      Atlantic   \n",
       "9998   41b770aeee97a5b9e7f69c906a8119d7     Southside    TN    Montgomery   \n",
       "9999   2bb491ef5b1beb1fed758cc6885c167a         Quinn    SD    Pennington   \n",
       "10000  95663a202338000abdf7e09311c2a8a1    Coraopolis    PA     Allegheny   \n",
       "\n",
       "         Zip       Lat        Lng  ...  TotalCharge Additional_charges Item1  \\\n",
       "1      35621  34.34960  -86.72508  ...  3191.048774       17939.403420     3   \n",
       "2      32446  30.84513  -85.22907  ...  4214.905346       17612.998120     3   \n",
       "3      57110  43.54321  -96.63772  ...  2177.586768       17505.192460     2   \n",
       "4      56072  43.89744  -93.51479  ...  2465.118965       12993.437350     3   \n",
       "5      23181  37.59894  -76.88958  ...  1885.655137        3716.525786     2   \n",
       "...      ...       ...        ...  ...          ...                ...   ...   \n",
       "9996   27563  36.42886  -78.23716  ...  6651.241294        8927.642189     3   \n",
       "9997    8340  39.43609  -74.87302  ...  7851.522660       28507.147340     3   \n",
       "9998   37171  36.36655  -87.29988  ...  7725.953391       15281.214660     3   \n",
       "9999   57775  44.10354 -102.01593  ...  8462.831883        7781.678412     5   \n",
       "10000  15108  40.49998  -80.19959  ...  8700.856021       11643.189930     4   \n",
       "\n",
       "      Item2  Item3  Item4 Item5 Item6  Item7 Item8  \n",
       "1         3      2      2     4     3      3     4  \n",
       "2         4      3      4     4     4      3     3  \n",
       "3         4      4      4     3     4      3     3  \n",
       "4         5      5      3     4     5      5     5  \n",
       "5         1      3      3     5     3      4     3  \n",
       "...     ...    ...    ...   ...   ...    ...   ...  \n",
       "9996      2      2      3     4     3      4     2  \n",
       "9997      3      4      2     5     3      4     4  \n",
       "9998      3      3      4     4     2      3     2  \n",
       "9999      5      3      4     4     3      4     3  \n",
       "10000     3      3      2     3     6      4     3  \n",
       "\n",
       "[10000 rows x 52 columns]"
      ]
     },
     "execution_count": 5,
     "metadata": {},
     "output_type": "execute_result"
    }
   ],
   "source": [
    "# Show the DataFrame\n",
    "\n",
    "df"
   ]
  },
  {
   "cell_type": "code",
   "execution_count": 6,
   "id": "0b87f1e6",
   "metadata": {},
   "outputs": [
    {
     "data": {
      "text/plain": [
       "1        False\n",
       "2        False\n",
       "3        False\n",
       "4        False\n",
       "5        False\n",
       "         ...  \n",
       "9996     False\n",
       "9997     False\n",
       "9998     False\n",
       "9999     False\n",
       "10000    False\n",
       "Length: 10000, dtype: bool"
      ]
     },
     "execution_count": 6,
     "metadata": {},
     "output_type": "execute_result"
    }
   ],
   "source": [
    "# Show DataFrame duplicates\n",
    "\n",
    "df.duplicated()"
   ]
  },
  {
   "cell_type": "code",
   "execution_count": 7,
   "id": "c0beb481",
   "metadata": {},
   "outputs": [
    {
     "name": "stdout",
     "output_type": "stream",
     "text": [
      "False    10000\n",
      "Name: count, dtype: int64\n"
     ]
    }
   ],
   "source": [
    "#Show count of duplicates in DataFrame\n",
    "\n",
    "print(df.duplicated().value_counts())"
   ]
  },
  {
   "cell_type": "code",
   "execution_count": 8,
   "id": "9f95d962",
   "metadata": {},
   "outputs": [
    {
     "data": {
      "text/html": [
       "<div>\n",
       "<style scoped>\n",
       "    .dataframe tbody tr th:only-of-type {\n",
       "        vertical-align: middle;\n",
       "    }\n",
       "\n",
       "    .dataframe tbody tr th {\n",
       "        vertical-align: top;\n",
       "    }\n",
       "\n",
       "    .dataframe thead th {\n",
       "        text-align: right;\n",
       "    }\n",
       "</style>\n",
       "<table border=\"1\" class=\"dataframe\">\n",
       "  <thead>\n",
       "    <tr style=\"text-align: right;\">\n",
       "      <th></th>\n",
       "      <th>CaseOrder</th>\n",
       "      <th>Customer_id</th>\n",
       "      <th>Interaction</th>\n",
       "      <th>UID</th>\n",
       "      <th>City</th>\n",
       "      <th>State</th>\n",
       "      <th>County</th>\n",
       "      <th>Zip</th>\n",
       "      <th>Lat</th>\n",
       "      <th>Lng</th>\n",
       "      <th>...</th>\n",
       "      <th>TotalCharge</th>\n",
       "      <th>Additional_charges</th>\n",
       "      <th>Item1</th>\n",
       "      <th>Item2</th>\n",
       "      <th>Item3</th>\n",
       "      <th>Item4</th>\n",
       "      <th>Item5</th>\n",
       "      <th>Item6</th>\n",
       "      <th>Item7</th>\n",
       "      <th>Item8</th>\n",
       "    </tr>\n",
       "  </thead>\n",
       "  <tbody>\n",
       "    <tr>\n",
       "      <th>1</th>\n",
       "      <td>1</td>\n",
       "      <td>C412403</td>\n",
       "      <td>8cd49b13-f45a-4b47-a2bd-173ffa932c2f</td>\n",
       "      <td>3a83ddb66e2ae73798bdf1d705dc0932</td>\n",
       "      <td>Eva</td>\n",
       "      <td>AL</td>\n",
       "      <td>Morgan</td>\n",
       "      <td>35621</td>\n",
       "      <td>34.34960</td>\n",
       "      <td>-86.72508</td>\n",
       "      <td>...</td>\n",
       "      <td>3191.048774</td>\n",
       "      <td>17939.403420</td>\n",
       "      <td>3</td>\n",
       "      <td>3</td>\n",
       "      <td>2</td>\n",
       "      <td>2</td>\n",
       "      <td>4</td>\n",
       "      <td>3</td>\n",
       "      <td>3</td>\n",
       "      <td>4</td>\n",
       "    </tr>\n",
       "    <tr>\n",
       "      <th>2</th>\n",
       "      <td>2</td>\n",
       "      <td>Z919181</td>\n",
       "      <td>d2450b70-0337-4406-bdbb-bc1037f1734c</td>\n",
       "      <td>176354c5eef714957d486009feabf195</td>\n",
       "      <td>Marianna</td>\n",
       "      <td>FL</td>\n",
       "      <td>Jackson</td>\n",
       "      <td>32446</td>\n",
       "      <td>30.84513</td>\n",
       "      <td>-85.22907</td>\n",
       "      <td>...</td>\n",
       "      <td>4214.905346</td>\n",
       "      <td>17612.998120</td>\n",
       "      <td>3</td>\n",
       "      <td>4</td>\n",
       "      <td>3</td>\n",
       "      <td>4</td>\n",
       "      <td>4</td>\n",
       "      <td>4</td>\n",
       "      <td>3</td>\n",
       "      <td>3</td>\n",
       "    </tr>\n",
       "    <tr>\n",
       "      <th>3</th>\n",
       "      <td>3</td>\n",
       "      <td>F995323</td>\n",
       "      <td>a2057123-abf5-4a2c-abad-8ffe33512562</td>\n",
       "      <td>e19a0fa00aeda885b8a436757e889bc9</td>\n",
       "      <td>Sioux Falls</td>\n",
       "      <td>SD</td>\n",
       "      <td>Minnehaha</td>\n",
       "      <td>57110</td>\n",
       "      <td>43.54321</td>\n",
       "      <td>-96.63772</td>\n",
       "      <td>...</td>\n",
       "      <td>2177.586768</td>\n",
       "      <td>17505.192460</td>\n",
       "      <td>2</td>\n",
       "      <td>4</td>\n",
       "      <td>4</td>\n",
       "      <td>4</td>\n",
       "      <td>3</td>\n",
       "      <td>4</td>\n",
       "      <td>3</td>\n",
       "      <td>3</td>\n",
       "    </tr>\n",
       "    <tr>\n",
       "      <th>4</th>\n",
       "      <td>4</td>\n",
       "      <td>A879973</td>\n",
       "      <td>1dec528d-eb34-4079-adce-0d7a40e82205</td>\n",
       "      <td>cd17d7b6d152cb6f23957346d11c3f07</td>\n",
       "      <td>New Richland</td>\n",
       "      <td>MN</td>\n",
       "      <td>Waseca</td>\n",
       "      <td>56072</td>\n",
       "      <td>43.89744</td>\n",
       "      <td>-93.51479</td>\n",
       "      <td>...</td>\n",
       "      <td>2465.118965</td>\n",
       "      <td>12993.437350</td>\n",
       "      <td>3</td>\n",
       "      <td>5</td>\n",
       "      <td>5</td>\n",
       "      <td>3</td>\n",
       "      <td>4</td>\n",
       "      <td>5</td>\n",
       "      <td>5</td>\n",
       "      <td>5</td>\n",
       "    </tr>\n",
       "    <tr>\n",
       "      <th>5</th>\n",
       "      <td>5</td>\n",
       "      <td>C544523</td>\n",
       "      <td>5885f56b-d6da-43a3-8760-83583af94266</td>\n",
       "      <td>d2f0425877b10ed6bb381f3e2579424a</td>\n",
       "      <td>West Point</td>\n",
       "      <td>VA</td>\n",
       "      <td>King William</td>\n",
       "      <td>23181</td>\n",
       "      <td>37.59894</td>\n",
       "      <td>-76.88958</td>\n",
       "      <td>...</td>\n",
       "      <td>1885.655137</td>\n",
       "      <td>3716.525786</td>\n",
       "      <td>2</td>\n",
       "      <td>1</td>\n",
       "      <td>3</td>\n",
       "      <td>3</td>\n",
       "      <td>5</td>\n",
       "      <td>3</td>\n",
       "      <td>4</td>\n",
       "      <td>3</td>\n",
       "    </tr>\n",
       "    <tr>\n",
       "      <th>...</th>\n",
       "      <td>...</td>\n",
       "      <td>...</td>\n",
       "      <td>...</td>\n",
       "      <td>...</td>\n",
       "      <td>...</td>\n",
       "      <td>...</td>\n",
       "      <td>...</td>\n",
       "      <td>...</td>\n",
       "      <td>...</td>\n",
       "      <td>...</td>\n",
       "      <td>...</td>\n",
       "      <td>...</td>\n",
       "      <td>...</td>\n",
       "      <td>...</td>\n",
       "      <td>...</td>\n",
       "      <td>...</td>\n",
       "      <td>...</td>\n",
       "      <td>...</td>\n",
       "      <td>...</td>\n",
       "      <td>...</td>\n",
       "      <td>...</td>\n",
       "    </tr>\n",
       "    <tr>\n",
       "      <th>9996</th>\n",
       "      <td>9996</td>\n",
       "      <td>B863060</td>\n",
       "      <td>a25b594d-0328-486f-a9b9-0567eb0f9723</td>\n",
       "      <td>39184dc28cc038871912ccc4500049e5</td>\n",
       "      <td>Norlina</td>\n",
       "      <td>NC</td>\n",
       "      <td>Warren</td>\n",
       "      <td>27563</td>\n",
       "      <td>36.42886</td>\n",
       "      <td>-78.23716</td>\n",
       "      <td>...</td>\n",
       "      <td>6651.241294</td>\n",
       "      <td>8927.642189</td>\n",
       "      <td>3</td>\n",
       "      <td>2</td>\n",
       "      <td>2</td>\n",
       "      <td>3</td>\n",
       "      <td>4</td>\n",
       "      <td>3</td>\n",
       "      <td>4</td>\n",
       "      <td>2</td>\n",
       "    </tr>\n",
       "    <tr>\n",
       "      <th>9997</th>\n",
       "      <td>9997</td>\n",
       "      <td>P712040</td>\n",
       "      <td>70711574-f7b1-4a17-b15f-48c54564b70f</td>\n",
       "      <td>3cd124ccd43147404292e883bf9ec55c</td>\n",
       "      <td>Milmay</td>\n",
       "      <td>NJ</td>\n",
       "      <td>Atlantic</td>\n",
       "      <td>8340</td>\n",
       "      <td>39.43609</td>\n",
       "      <td>-74.87302</td>\n",
       "      <td>...</td>\n",
       "      <td>7851.522660</td>\n",
       "      <td>28507.147340</td>\n",
       "      <td>3</td>\n",
       "      <td>3</td>\n",
       "      <td>4</td>\n",
       "      <td>2</td>\n",
       "      <td>5</td>\n",
       "      <td>3</td>\n",
       "      <td>4</td>\n",
       "      <td>4</td>\n",
       "    </tr>\n",
       "    <tr>\n",
       "      <th>9998</th>\n",
       "      <td>9998</td>\n",
       "      <td>R778890</td>\n",
       "      <td>1d79569d-8e0f-4180-a207-d67ee4527d26</td>\n",
       "      <td>41b770aeee97a5b9e7f69c906a8119d7</td>\n",
       "      <td>Southside</td>\n",
       "      <td>TN</td>\n",
       "      <td>Montgomery</td>\n",
       "      <td>37171</td>\n",
       "      <td>36.36655</td>\n",
       "      <td>-87.29988</td>\n",
       "      <td>...</td>\n",
       "      <td>7725.953391</td>\n",
       "      <td>15281.214660</td>\n",
       "      <td>3</td>\n",
       "      <td>3</td>\n",
       "      <td>3</td>\n",
       "      <td>4</td>\n",
       "      <td>4</td>\n",
       "      <td>2</td>\n",
       "      <td>3</td>\n",
       "      <td>2</td>\n",
       "    </tr>\n",
       "    <tr>\n",
       "      <th>9999</th>\n",
       "      <td>9999</td>\n",
       "      <td>E344109</td>\n",
       "      <td>f5a68e69-2a60-409b-a92f-ac0847b27db0</td>\n",
       "      <td>2bb491ef5b1beb1fed758cc6885c167a</td>\n",
       "      <td>Quinn</td>\n",
       "      <td>SD</td>\n",
       "      <td>Pennington</td>\n",
       "      <td>57775</td>\n",
       "      <td>44.10354</td>\n",
       "      <td>-102.01593</td>\n",
       "      <td>...</td>\n",
       "      <td>8462.831883</td>\n",
       "      <td>7781.678412</td>\n",
       "      <td>5</td>\n",
       "      <td>5</td>\n",
       "      <td>3</td>\n",
       "      <td>4</td>\n",
       "      <td>4</td>\n",
       "      <td>3</td>\n",
       "      <td>4</td>\n",
       "      <td>3</td>\n",
       "    </tr>\n",
       "    <tr>\n",
       "      <th>10000</th>\n",
       "      <td>10000</td>\n",
       "      <td>I569847</td>\n",
       "      <td>bc482c02-f8c9-4423-99de-3db5e62a18d5</td>\n",
       "      <td>95663a202338000abdf7e09311c2a8a1</td>\n",
       "      <td>Coraopolis</td>\n",
       "      <td>PA</td>\n",
       "      <td>Allegheny</td>\n",
       "      <td>15108</td>\n",
       "      <td>40.49998</td>\n",
       "      <td>-80.19959</td>\n",
       "      <td>...</td>\n",
       "      <td>8700.856021</td>\n",
       "      <td>11643.189930</td>\n",
       "      <td>4</td>\n",
       "      <td>3</td>\n",
       "      <td>3</td>\n",
       "      <td>2</td>\n",
       "      <td>3</td>\n",
       "      <td>6</td>\n",
       "      <td>4</td>\n",
       "      <td>3</td>\n",
       "    </tr>\n",
       "  </tbody>\n",
       "</table>\n",
       "<p>10000 rows × 52 columns</p>\n",
       "</div>"
      ],
      "text/plain": [
       "       CaseOrder Customer_id                           Interaction  \\\n",
       "1              1     C412403  8cd49b13-f45a-4b47-a2bd-173ffa932c2f   \n",
       "2              2     Z919181  d2450b70-0337-4406-bdbb-bc1037f1734c   \n",
       "3              3     F995323  a2057123-abf5-4a2c-abad-8ffe33512562   \n",
       "4              4     A879973  1dec528d-eb34-4079-adce-0d7a40e82205   \n",
       "5              5     C544523  5885f56b-d6da-43a3-8760-83583af94266   \n",
       "...          ...         ...                                   ...   \n",
       "9996        9996     B863060  a25b594d-0328-486f-a9b9-0567eb0f9723   \n",
       "9997        9997     P712040  70711574-f7b1-4a17-b15f-48c54564b70f   \n",
       "9998        9998     R778890  1d79569d-8e0f-4180-a207-d67ee4527d26   \n",
       "9999        9999     E344109  f5a68e69-2a60-409b-a92f-ac0847b27db0   \n",
       "10000      10000     I569847  bc482c02-f8c9-4423-99de-3db5e62a18d5   \n",
       "\n",
       "                                    UID          City State        County  \\\n",
       "1      3a83ddb66e2ae73798bdf1d705dc0932           Eva    AL        Morgan   \n",
       "2      176354c5eef714957d486009feabf195      Marianna    FL       Jackson   \n",
       "3      e19a0fa00aeda885b8a436757e889bc9   Sioux Falls    SD     Minnehaha   \n",
       "4      cd17d7b6d152cb6f23957346d11c3f07  New Richland    MN        Waseca   \n",
       "5      d2f0425877b10ed6bb381f3e2579424a    West Point    VA  King William   \n",
       "...                                 ...           ...   ...           ...   \n",
       "9996   39184dc28cc038871912ccc4500049e5       Norlina    NC        Warren   \n",
       "9997   3cd124ccd43147404292e883bf9ec55c        Milmay    NJ      Atlantic   \n",
       "9998   41b770aeee97a5b9e7f69c906a8119d7     Southside    TN    Montgomery   \n",
       "9999   2bb491ef5b1beb1fed758cc6885c167a         Quinn    SD    Pennington   \n",
       "10000  95663a202338000abdf7e09311c2a8a1    Coraopolis    PA     Allegheny   \n",
       "\n",
       "         Zip       Lat        Lng  ...  TotalCharge Additional_charges Item1  \\\n",
       "1      35621  34.34960  -86.72508  ...  3191.048774       17939.403420     3   \n",
       "2      32446  30.84513  -85.22907  ...  4214.905346       17612.998120     3   \n",
       "3      57110  43.54321  -96.63772  ...  2177.586768       17505.192460     2   \n",
       "4      56072  43.89744  -93.51479  ...  2465.118965       12993.437350     3   \n",
       "5      23181  37.59894  -76.88958  ...  1885.655137        3716.525786     2   \n",
       "...      ...       ...        ...  ...          ...                ...   ...   \n",
       "9996   27563  36.42886  -78.23716  ...  6651.241294        8927.642189     3   \n",
       "9997    8340  39.43609  -74.87302  ...  7851.522660       28507.147340     3   \n",
       "9998   37171  36.36655  -87.29988  ...  7725.953391       15281.214660     3   \n",
       "9999   57775  44.10354 -102.01593  ...  8462.831883        7781.678412     5   \n",
       "10000  15108  40.49998  -80.19959  ...  8700.856021       11643.189930     4   \n",
       "\n",
       "      Item2  Item3  Item4 Item5 Item6  Item7 Item8  \n",
       "1         3      2      2     4     3      3     4  \n",
       "2         4      3      4     4     4      3     3  \n",
       "3         4      4      4     3     4      3     3  \n",
       "4         5      5      3     4     5      5     5  \n",
       "5         1      3      3     5     3      4     3  \n",
       "...     ...    ...    ...   ...   ...    ...   ...  \n",
       "9996      2      2      3     4     3      4     2  \n",
       "9997      3      4      2     5     3      4     4  \n",
       "9998      3      3      4     4     2      3     2  \n",
       "9999      5      3      4     4     3      4     3  \n",
       "10000     3      3      2     3     6      4     3  \n",
       "\n",
       "[10000 rows x 52 columns]"
      ]
     },
     "execution_count": 8,
     "metadata": {},
     "output_type": "execute_result"
    }
   ],
   "source": [
    "# There are no duplicates, this drop is just for show. Would delete duplicate records if there were any\n",
    "\n",
    "df.drop_duplicates()"
   ]
  },
  {
   "cell_type": "code",
   "execution_count": 9,
   "id": "e9a828e1",
   "metadata": {},
   "outputs": [
    {
     "data": {
      "text/plain": [
       "CaseOrder                0\n",
       "Customer_id              0\n",
       "Interaction              0\n",
       "UID                      0\n",
       "City                     0\n",
       "State                    0\n",
       "County                   0\n",
       "Zip                      0\n",
       "Lat                      0\n",
       "Lng                      0\n",
       "Population               0\n",
       "Area                     0\n",
       "Timezone                 0\n",
       "Job                      0\n",
       "Children              2588\n",
       "Age                   2414\n",
       "Education                0\n",
       "Employment               0\n",
       "Income                2464\n",
       "Marital                  0\n",
       "Gender                   0\n",
       "ReAdmis                  0\n",
       "VitD_levels              0\n",
       "Doc_visits               0\n",
       "Full_meals_eaten         0\n",
       "VitD_supp                0\n",
       "Soft_drink            2467\n",
       "Initial_admin            0\n",
       "HighBlood                0\n",
       "Stroke                   0\n",
       "Complication_risk        0\n",
       "Overweight             982\n",
       "Arthritis                0\n",
       "Diabetes                 0\n",
       "Hyperlipidemia           0\n",
       "BackPain                 0\n",
       "Anxiety                984\n",
       "Allergic_rhinitis        0\n",
       "Reflux_esophagitis       0\n",
       "Asthma                   0\n",
       "Services                 0\n",
       "Initial_days          1056\n",
       "TotalCharge              0\n",
       "Additional_charges       0\n",
       "Item1                    0\n",
       "Item2                    0\n",
       "Item3                    0\n",
       "Item4                    0\n",
       "Item5                    0\n",
       "Item6                    0\n",
       "Item7                    0\n",
       "Item8                    0\n",
       "dtype: int64"
      ]
     },
     "execution_count": 9,
     "metadata": {},
     "output_type": "execute_result"
    }
   ],
   "source": [
    "# Count of each column's null records\n",
    "\n",
    "df.isnull().sum()"
   ]
  },
  {
   "cell_type": "code",
   "execution_count": 10,
   "id": "07456ec7",
   "metadata": {},
   "outputs": [
    {
     "data": {
      "text/plain": [
       "Children    1.0\n",
       "dtype: float64"
      ]
     },
     "execution_count": 10,
     "metadata": {},
     "output_type": "execute_result"
    }
   ],
   "source": [
    "# Show Children median\n",
    "\n",
    "df[['Children']].median()"
   ]
  },
  {
   "cell_type": "code",
   "execution_count": 11,
   "id": "65a8302c",
   "metadata": {},
   "outputs": [
    {
     "data": {
      "text/plain": [
       "Age    53.0\n",
       "dtype: float64"
      ]
     },
     "execution_count": 11,
     "metadata": {},
     "output_type": "execute_result"
    }
   ],
   "source": [
    "# Show Age median\n",
    "\n",
    "df[['Age']].median()"
   ]
  },
  {
   "cell_type": "code",
   "execution_count": 12,
   "id": "e84399e6",
   "metadata": {},
   "outputs": [
    {
     "data": {
      "text/plain": [
       "Income    33942.28\n",
       "dtype: float64"
      ]
     },
     "execution_count": 12,
     "metadata": {},
     "output_type": "execute_result"
    }
   ],
   "source": [
    "# Show Income median\n",
    "\n",
    "df[['Income']].median()"
   ]
  },
  {
   "cell_type": "code",
   "execution_count": 13,
   "id": "48a90587",
   "metadata": {},
   "outputs": [
    {
     "data": {
      "text/plain": [
       "Initial_days    34.446941\n",
       "dtype: float64"
      ]
     },
     "execution_count": 13,
     "metadata": {},
     "output_type": "execute_result"
    }
   ],
   "source": [
    "# Show Initial_days median\n",
    "\n",
    "df[['Initial_days']].median()"
   ]
  },
  {
   "cell_type": "code",
   "execution_count": 14,
   "id": "504c18de",
   "metadata": {},
   "outputs": [
    {
     "data": {
      "text/html": [
       "<div>\n",
       "<style scoped>\n",
       "    .dataframe tbody tr th:only-of-type {\n",
       "        vertical-align: middle;\n",
       "    }\n",
       "\n",
       "    .dataframe tbody tr th {\n",
       "        vertical-align: top;\n",
       "    }\n",
       "\n",
       "    .dataframe thead th {\n",
       "        text-align: right;\n",
       "    }\n",
       "</style>\n",
       "<table border=\"1\" class=\"dataframe\">\n",
       "  <thead>\n",
       "    <tr style=\"text-align: right;\">\n",
       "      <th></th>\n",
       "      <th>Soft_drink</th>\n",
       "    </tr>\n",
       "  </thead>\n",
       "  <tbody>\n",
       "    <tr>\n",
       "      <th>0</th>\n",
       "      <td>No</td>\n",
       "    </tr>\n",
       "  </tbody>\n",
       "</table>\n",
       "</div>"
      ],
      "text/plain": [
       "  Soft_drink\n",
       "0         No"
      ]
     },
     "execution_count": 14,
     "metadata": {},
     "output_type": "execute_result"
    }
   ],
   "source": [
    "# Show Soft_drink mode\n",
    "\n",
    "df[['Soft_drink']].mode()"
   ]
  },
  {
   "cell_type": "code",
   "execution_count": 15,
   "id": "b5ac204b",
   "metadata": {},
   "outputs": [
    {
     "data": {
      "text/html": [
       "<div>\n",
       "<style scoped>\n",
       "    .dataframe tbody tr th:only-of-type {\n",
       "        vertical-align: middle;\n",
       "    }\n",
       "\n",
       "    .dataframe tbody tr th {\n",
       "        vertical-align: top;\n",
       "    }\n",
       "\n",
       "    .dataframe thead th {\n",
       "        text-align: right;\n",
       "    }\n",
       "</style>\n",
       "<table border=\"1\" class=\"dataframe\">\n",
       "  <thead>\n",
       "    <tr style=\"text-align: right;\">\n",
       "      <th></th>\n",
       "      <th>Overweight</th>\n",
       "    </tr>\n",
       "  </thead>\n",
       "  <tbody>\n",
       "    <tr>\n",
       "      <th>0</th>\n",
       "      <td>1.0</td>\n",
       "    </tr>\n",
       "  </tbody>\n",
       "</table>\n",
       "</div>"
      ],
      "text/plain": [
       "   Overweight\n",
       "0         1.0"
      ]
     },
     "execution_count": 15,
     "metadata": {},
     "output_type": "execute_result"
    }
   ],
   "source": [
    "df[['Overweight']].mode()"
   ]
  },
  {
   "cell_type": "code",
   "execution_count": 16,
   "id": "d70cb47e",
   "metadata": {},
   "outputs": [
    {
     "data": {
      "text/html": [
       "<div>\n",
       "<style scoped>\n",
       "    .dataframe tbody tr th:only-of-type {\n",
       "        vertical-align: middle;\n",
       "    }\n",
       "\n",
       "    .dataframe tbody tr th {\n",
       "        vertical-align: top;\n",
       "    }\n",
       "\n",
       "    .dataframe thead th {\n",
       "        text-align: right;\n",
       "    }\n",
       "</style>\n",
       "<table border=\"1\" class=\"dataframe\">\n",
       "  <thead>\n",
       "    <tr style=\"text-align: right;\">\n",
       "      <th></th>\n",
       "      <th>Anxiety</th>\n",
       "    </tr>\n",
       "  </thead>\n",
       "  <tbody>\n",
       "    <tr>\n",
       "      <th>0</th>\n",
       "      <td>0.0</td>\n",
       "    </tr>\n",
       "  </tbody>\n",
       "</table>\n",
       "</div>"
      ],
      "text/plain": [
       "   Anxiety\n",
       "0      0.0"
      ]
     },
     "execution_count": 16,
     "metadata": {},
     "output_type": "execute_result"
    }
   ],
   "source": [
    "df[['Anxiety']].mode()"
   ]
  },
  {
   "cell_type": "code",
   "execution_count": 17,
   "id": "44fc4097",
   "metadata": {},
   "outputs": [
    {
     "data": {
      "text/html": [
       "<div>\n",
       "<style scoped>\n",
       "    .dataframe tbody tr th:only-of-type {\n",
       "        vertical-align: middle;\n",
       "    }\n",
       "\n",
       "    .dataframe tbody tr th {\n",
       "        vertical-align: top;\n",
       "    }\n",
       "\n",
       "    .dataframe thead th {\n",
       "        text-align: right;\n",
       "    }\n",
       "</style>\n",
       "<table border=\"1\" class=\"dataframe\">\n",
       "  <thead>\n",
       "    <tr style=\"text-align: right;\">\n",
       "      <th></th>\n",
       "      <th>CaseOrder</th>\n",
       "      <th>Zip</th>\n",
       "      <th>Lat</th>\n",
       "      <th>Lng</th>\n",
       "      <th>Population</th>\n",
       "      <th>Children</th>\n",
       "      <th>Age</th>\n",
       "      <th>Income</th>\n",
       "      <th>VitD_levels</th>\n",
       "      <th>Doc_visits</th>\n",
       "      <th>...</th>\n",
       "      <th>TotalCharge</th>\n",
       "      <th>Additional_charges</th>\n",
       "      <th>Item1</th>\n",
       "      <th>Item2</th>\n",
       "      <th>Item3</th>\n",
       "      <th>Item4</th>\n",
       "      <th>Item5</th>\n",
       "      <th>Item6</th>\n",
       "      <th>Item7</th>\n",
       "      <th>Item8</th>\n",
       "    </tr>\n",
       "  </thead>\n",
       "  <tbody>\n",
       "    <tr>\n",
       "      <th>count</th>\n",
       "      <td>10000.00000</td>\n",
       "      <td>10000.000000</td>\n",
       "      <td>10000.000000</td>\n",
       "      <td>10000.000000</td>\n",
       "      <td>10000.000000</td>\n",
       "      <td>7412.000000</td>\n",
       "      <td>7586.000000</td>\n",
       "      <td>7536.000000</td>\n",
       "      <td>10000.000000</td>\n",
       "      <td>10000.000000</td>\n",
       "      <td>...</td>\n",
       "      <td>10000.000000</td>\n",
       "      <td>10000.000000</td>\n",
       "      <td>10000.000000</td>\n",
       "      <td>10000.000000</td>\n",
       "      <td>10000.000000</td>\n",
       "      <td>10000.000000</td>\n",
       "      <td>10000.000000</td>\n",
       "      <td>10000.000000</td>\n",
       "      <td>10000.000000</td>\n",
       "      <td>10000.000000</td>\n",
       "    </tr>\n",
       "    <tr>\n",
       "      <th>mean</th>\n",
       "      <td>5000.50000</td>\n",
       "      <td>50159.323900</td>\n",
       "      <td>38.751099</td>\n",
       "      <td>-91.243080</td>\n",
       "      <td>9965.253800</td>\n",
       "      <td>2.098219</td>\n",
       "      <td>53.295676</td>\n",
       "      <td>40484.438268</td>\n",
       "      <td>19.412675</td>\n",
       "      <td>5.012200</td>\n",
       "      <td>...</td>\n",
       "      <td>5891.538261</td>\n",
       "      <td>12934.528586</td>\n",
       "      <td>3.518800</td>\n",
       "      <td>3.506700</td>\n",
       "      <td>3.511100</td>\n",
       "      <td>3.515100</td>\n",
       "      <td>3.496900</td>\n",
       "      <td>3.522500</td>\n",
       "      <td>3.494000</td>\n",
       "      <td>3.509700</td>\n",
       "    </tr>\n",
       "    <tr>\n",
       "      <th>std</th>\n",
       "      <td>2886.89568</td>\n",
       "      <td>27469.588208</td>\n",
       "      <td>5.403085</td>\n",
       "      <td>15.205998</td>\n",
       "      <td>14824.758614</td>\n",
       "      <td>2.155427</td>\n",
       "      <td>20.659182</td>\n",
       "      <td>28664.861050</td>\n",
       "      <td>6.723277</td>\n",
       "      <td>1.045734</td>\n",
       "      <td>...</td>\n",
       "      <td>3377.558136</td>\n",
       "      <td>6542.601544</td>\n",
       "      <td>1.031966</td>\n",
       "      <td>1.034825</td>\n",
       "      <td>1.032755</td>\n",
       "      <td>1.036282</td>\n",
       "      <td>1.030192</td>\n",
       "      <td>1.032376</td>\n",
       "      <td>1.021405</td>\n",
       "      <td>1.042312</td>\n",
       "    </tr>\n",
       "    <tr>\n",
       "      <th>min</th>\n",
       "      <td>1.00000</td>\n",
       "      <td>610.000000</td>\n",
       "      <td>17.967190</td>\n",
       "      <td>-174.209690</td>\n",
       "      <td>0.000000</td>\n",
       "      <td>0.000000</td>\n",
       "      <td>18.000000</td>\n",
       "      <td>154.080000</td>\n",
       "      <td>9.519012</td>\n",
       "      <td>1.000000</td>\n",
       "      <td>...</td>\n",
       "      <td>1256.751699</td>\n",
       "      <td>3125.702716</td>\n",
       "      <td>1.000000</td>\n",
       "      <td>1.000000</td>\n",
       "      <td>1.000000</td>\n",
       "      <td>1.000000</td>\n",
       "      <td>1.000000</td>\n",
       "      <td>1.000000</td>\n",
       "      <td>1.000000</td>\n",
       "      <td>1.000000</td>\n",
       "    </tr>\n",
       "    <tr>\n",
       "      <th>25%</th>\n",
       "      <td>2500.75000</td>\n",
       "      <td>27592.000000</td>\n",
       "      <td>35.255120</td>\n",
       "      <td>-97.352982</td>\n",
       "      <td>694.750000</td>\n",
       "      <td>0.000000</td>\n",
       "      <td>35.000000</td>\n",
       "      <td>19450.792500</td>\n",
       "      <td>16.513171</td>\n",
       "      <td>4.000000</td>\n",
       "      <td>...</td>\n",
       "      <td>3253.239465</td>\n",
       "      <td>7986.487642</td>\n",
       "      <td>3.000000</td>\n",
       "      <td>3.000000</td>\n",
       "      <td>3.000000</td>\n",
       "      <td>3.000000</td>\n",
       "      <td>3.000000</td>\n",
       "      <td>3.000000</td>\n",
       "      <td>3.000000</td>\n",
       "      <td>3.000000</td>\n",
       "    </tr>\n",
       "    <tr>\n",
       "      <th>50%</th>\n",
       "      <td>5000.50000</td>\n",
       "      <td>50207.000000</td>\n",
       "      <td>39.419355</td>\n",
       "      <td>-88.397230</td>\n",
       "      <td>2769.000000</td>\n",
       "      <td>1.000000</td>\n",
       "      <td>53.000000</td>\n",
       "      <td>33942.280000</td>\n",
       "      <td>18.080560</td>\n",
       "      <td>5.000000</td>\n",
       "      <td>...</td>\n",
       "      <td>5852.250564</td>\n",
       "      <td>11573.979365</td>\n",
       "      <td>4.000000</td>\n",
       "      <td>3.000000</td>\n",
       "      <td>4.000000</td>\n",
       "      <td>4.000000</td>\n",
       "      <td>3.000000</td>\n",
       "      <td>4.000000</td>\n",
       "      <td>3.000000</td>\n",
       "      <td>3.000000</td>\n",
       "    </tr>\n",
       "    <tr>\n",
       "      <th>75%</th>\n",
       "      <td>7500.25000</td>\n",
       "      <td>72411.750000</td>\n",
       "      <td>42.044175</td>\n",
       "      <td>-80.438050</td>\n",
       "      <td>13945.000000</td>\n",
       "      <td>3.000000</td>\n",
       "      <td>71.000000</td>\n",
       "      <td>54075.235000</td>\n",
       "      <td>19.789740</td>\n",
       "      <td>6.000000</td>\n",
       "      <td>...</td>\n",
       "      <td>7614.989701</td>\n",
       "      <td>15626.491033</td>\n",
       "      <td>4.000000</td>\n",
       "      <td>4.000000</td>\n",
       "      <td>4.000000</td>\n",
       "      <td>4.000000</td>\n",
       "      <td>4.000000</td>\n",
       "      <td>4.000000</td>\n",
       "      <td>4.000000</td>\n",
       "      <td>4.000000</td>\n",
       "    </tr>\n",
       "    <tr>\n",
       "      <th>max</th>\n",
       "      <td>10000.00000</td>\n",
       "      <td>99929.000000</td>\n",
       "      <td>70.560990</td>\n",
       "      <td>-65.290170</td>\n",
       "      <td>122814.000000</td>\n",
       "      <td>10.000000</td>\n",
       "      <td>89.000000</td>\n",
       "      <td>207249.130000</td>\n",
       "      <td>53.019124</td>\n",
       "      <td>9.000000</td>\n",
       "      <td>...</td>\n",
       "      <td>21524.224210</td>\n",
       "      <td>30566.073130</td>\n",
       "      <td>8.000000</td>\n",
       "      <td>7.000000</td>\n",
       "      <td>8.000000</td>\n",
       "      <td>7.000000</td>\n",
       "      <td>7.000000</td>\n",
       "      <td>7.000000</td>\n",
       "      <td>7.000000</td>\n",
       "      <td>7.000000</td>\n",
       "    </tr>\n",
       "  </tbody>\n",
       "</table>\n",
       "<p>8 rows × 25 columns</p>\n",
       "</div>"
      ],
      "text/plain": [
       "         CaseOrder           Zip           Lat           Lng     Population  \\\n",
       "count  10000.00000  10000.000000  10000.000000  10000.000000   10000.000000   \n",
       "mean    5000.50000  50159.323900     38.751099    -91.243080    9965.253800   \n",
       "std     2886.89568  27469.588208      5.403085     15.205998   14824.758614   \n",
       "min        1.00000    610.000000     17.967190   -174.209690       0.000000   \n",
       "25%     2500.75000  27592.000000     35.255120    -97.352982     694.750000   \n",
       "50%     5000.50000  50207.000000     39.419355    -88.397230    2769.000000   \n",
       "75%     7500.25000  72411.750000     42.044175    -80.438050   13945.000000   \n",
       "max    10000.00000  99929.000000     70.560990    -65.290170  122814.000000   \n",
       "\n",
       "          Children          Age         Income   VitD_levels    Doc_visits  \\\n",
       "count  7412.000000  7586.000000    7536.000000  10000.000000  10000.000000   \n",
       "mean      2.098219    53.295676   40484.438268     19.412675      5.012200   \n",
       "std       2.155427    20.659182   28664.861050      6.723277      1.045734   \n",
       "min       0.000000    18.000000     154.080000      9.519012      1.000000   \n",
       "25%       0.000000    35.000000   19450.792500     16.513171      4.000000   \n",
       "50%       1.000000    53.000000   33942.280000     18.080560      5.000000   \n",
       "75%       3.000000    71.000000   54075.235000     19.789740      6.000000   \n",
       "max      10.000000    89.000000  207249.130000     53.019124      9.000000   \n",
       "\n",
       "       ...   TotalCharge  Additional_charges         Item1         Item2  \\\n",
       "count  ...  10000.000000        10000.000000  10000.000000  10000.000000   \n",
       "mean   ...   5891.538261        12934.528586      3.518800      3.506700   \n",
       "std    ...   3377.558136         6542.601544      1.031966      1.034825   \n",
       "min    ...   1256.751699         3125.702716      1.000000      1.000000   \n",
       "25%    ...   3253.239465         7986.487642      3.000000      3.000000   \n",
       "50%    ...   5852.250564        11573.979365      4.000000      3.000000   \n",
       "75%    ...   7614.989701        15626.491033      4.000000      4.000000   \n",
       "max    ...  21524.224210        30566.073130      8.000000      7.000000   \n",
       "\n",
       "              Item3         Item4         Item5         Item6         Item7  \\\n",
       "count  10000.000000  10000.000000  10000.000000  10000.000000  10000.000000   \n",
       "mean       3.511100      3.515100      3.496900      3.522500      3.494000   \n",
       "std        1.032755      1.036282      1.030192      1.032376      1.021405   \n",
       "min        1.000000      1.000000      1.000000      1.000000      1.000000   \n",
       "25%        3.000000      3.000000      3.000000      3.000000      3.000000   \n",
       "50%        4.000000      4.000000      3.000000      4.000000      3.000000   \n",
       "75%        4.000000      4.000000      4.000000      4.000000      4.000000   \n",
       "max        8.000000      7.000000      7.000000      7.000000      7.000000   \n",
       "\n",
       "              Item8  \n",
       "count  10000.000000  \n",
       "mean       3.509700  \n",
       "std        1.042312  \n",
       "min        1.000000  \n",
       "25%        3.000000  \n",
       "50%        3.000000  \n",
       "75%        4.000000  \n",
       "max        7.000000  \n",
       "\n",
       "[8 rows x 25 columns]"
      ]
     },
     "execution_count": 17,
     "metadata": {},
     "output_type": "execute_result"
    }
   ],
   "source": [
    "# Show initial describe values\n",
    "\n",
    "df.describe()"
   ]
  },
  {
   "cell_type": "code",
   "execution_count": 18,
   "id": "f86a624a",
   "metadata": {},
   "outputs": [
    {
     "data": {
      "image/png": "[encoded data removed]",
      "text/plain": [
       "<Figure size 640x480 with 1 Axes>"
      ]
     },
     "metadata": {},
     "output_type": "display_data"
    }
   ],
   "source": [
    "# Plot histogram for all quantitative variables with null values\n",
    "\n",
    "# Plot histrogram for Children before imputation\n",
    "\n",
    "plt.hist(df['Children'])\n",
    "plt.xlabel('Number of Children')\n",
    "plt.ylabel('Instances')\n",
    "plt.title('Variable Children')\n",
    "\n",
    "\n",
    "plt.show()\n"
   ]
  },
  {
   "cell_type": "code",
   "execution_count": 19,
   "id": "f4081552",
   "metadata": {},
   "outputs": [
    {
     "data": {
      "image/png": "[encoded data removed]",
      "text/plain": [
       "<Figure size 640x480 with 1 Axes>"
      ]
     },
     "metadata": {},
     "output_type": "display_data"
    }
   ],
   "source": [
    "# Plot histogram for Age before imputation\n",
    "\n",
    "plt.hist(df['Age'])\n",
    "plt.xlabel('Age')\n",
    "plt.ylabel('Instances')\n",
    "plt.title('Variable Age')\n",
    "\n",
    "plt.show()"
   ]
  },
  {
   "cell_type": "code",
   "execution_count": 20,
   "id": "6a157ca3",
   "metadata": {},
   "outputs": [
    {
     "data": {
      "image/png": "[encoded data removed]",
      "text/plain": [
       "<Figure size 640x480 with 1 Axes>"
      ]
     },
     "metadata": {},
     "output_type": "display_data"
    }
   ],
   "source": [
    "# Plot histogram for Income before imputation\n",
    "\n",
    "plt.hist(df['Income'])\n",
    "plt.xlabel('Income')\n",
    "plt.ylabel('Instances')\n",
    "plt.title('Variable Income')\n",
    "\n",
    "plt.show()"
   ]
  },
  {
   "cell_type": "code",
   "execution_count": 21,
   "id": "740e420b",
   "metadata": {},
   "outputs": [
    {
     "data": {
      "image/png": "[encoded data removed]",
      "text/plain": [
       "<Figure size 640x480 with 1 Axes>"
      ]
     },
     "metadata": {},
     "output_type": "display_data"
    }
   ],
   "source": [
    "# Plot histogram for Initial_days before imputation\n",
    "\n",
    "plt.hist(df['Initial_days'])\n",
    "plt.xlabel('Days')\n",
    "plt.ylabel('Instances')\n",
    "plt.title('Variable Initial_days')\n",
    "\n",
    "plt.show()"
   ]
  },
  {
   "cell_type": "code",
   "execution_count": 22,
   "id": "8d1869df",
   "metadata": {},
   "outputs": [],
   "source": [
    "# Replace nan with 2 for Soft_drink, Overweight, Anxiety\n",
    "\n",
    "df['Soft_drink'] = df['Soft_drink'].replace(np.nan, 0)"
   ]
  },
  {
   "cell_type": "code",
   "execution_count": 23,
   "id": "b1322b06",
   "metadata": {},
   "outputs": [],
   "source": [
    "df['Overweight'] = df['Overweight'].replace(np.nan, 0)"
   ]
  },
  {
   "cell_type": "code",
   "execution_count": 24,
   "id": "d9ed573e",
   "metadata": {},
   "outputs": [],
   "source": [
    "df['Anxiety'] = df['Anxiety'].replace(np.nan, 0)"
   ]
  },
  {
   "cell_type": "code",
   "execution_count": 25,
   "id": "4cb04f32",
   "metadata": {},
   "outputs": [],
   "source": [
    "# Fill missing values with respected mean/median/mode \n",
    "\n",
    "# Children (Right skewed - median)\n",
    "df['Children'].fillna(df['Children'].median(), inplace = True)\n",
    "\n",
    "# Age (Normal - mean)\n",
    "df['Age'].fillna(df['Age'].mean(), inplace = True)\n",
    "\n",
    "# Income (Right skewed - median)\n",
    "df['Income'].fillna(df['Income'].median(), inplace = True)\n",
    "\n",
    "# Initial_days (bi-modal - median)\n",
    "df['Initial_days'].fillna(df['Initial_days'].median(), inplace = True)\n"
   ]
  },
  {
   "cell_type": "code",
   "execution_count": 26,
   "id": "df469a0a",
   "metadata": {},
   "outputs": [
    {
     "name": "stdout",
     "output_type": "stream",
     "text": [
      "<class 'pandas.core.frame.DataFrame'>\n",
      "Index: 10000 entries, 1 to 10000\n",
      "Data columns (total 52 columns):\n",
      " #   Column              Non-Null Count  Dtype  \n",
      "---  ------              --------------  -----  \n",
      " 0   CaseOrder           10000 non-null  int64  \n",
      " 1   Customer_id         10000 non-null  object \n",
      " 2   Interaction         10000 non-null  object \n",
      " 3   UID                 10000 non-null  object \n",
      " 4   City                10000 non-null  object \n",
      " 5   State               10000 non-null  object \n",
      " 6   County              10000 non-null  object \n",
      " 7   Zip                 10000 non-null  int64  \n",
      " 8   Lat                 10000 non-null  float64\n",
      " 9   Lng                 10000 non-null  float64\n",
      " 10  Population          10000 non-null  int64  \n",
      " 11  Area                10000 non-null  object \n",
      " 12  Timezone            10000 non-null  object \n",
      " 13  Job                 10000 non-null  object \n",
      " 14  Children            10000 non-null  float64\n",
      " 15  Age                 10000 non-null  float64\n",
      " 16  Education           10000 non-null  object \n",
      " 17  Employment          10000 non-null  object \n",
      " 18  Income              10000 non-null  float64\n",
      " 19  Marital             10000 non-null  object \n",
      " 20  Gender              10000 non-null  object \n",
      " 21  ReAdmis             10000 non-null  object \n",
      " 22  VitD_levels         10000 non-null  float64\n",
      " 23  Doc_visits          10000 non-null  int64  \n",
      " 24  Full_meals_eaten    10000 non-null  int64  \n",
      " 25  VitD_supp           10000 non-null  int64  \n",
      " 26  Soft_drink          10000 non-null  object \n",
      " 27  Initial_admin       10000 non-null  object \n",
      " 28  HighBlood           10000 non-null  object \n",
      " 29  Stroke              10000 non-null  object \n",
      " 30  Complication_risk   10000 non-null  object \n",
      " 31  Overweight          10000 non-null  float64\n",
      " 32  Arthritis           10000 non-null  object \n",
      " 33  Diabetes            10000 non-null  object \n",
      " 34  Hyperlipidemia      10000 non-null  object \n",
      " 35  BackPain            10000 non-null  object \n",
      " 36  Anxiety             10000 non-null  float64\n",
      " 37  Allergic_rhinitis   10000 non-null  object \n",
      " 38  Reflux_esophagitis  10000 non-null  object \n",
      " 39  Asthma              10000 non-null  object \n",
      " 40  Services            10000 non-null  object \n",
      " 41  Initial_days        10000 non-null  float64\n",
      " 42  TotalCharge         10000 non-null  float64\n",
      " 43  Additional_charges  10000 non-null  float64\n",
      " 44  Item1               10000 non-null  int64  \n",
      " 45  Item2               10000 non-null  int64  \n",
      " 46  Item3               10000 non-null  int64  \n",
      " 47  Item4               10000 non-null  int64  \n",
      " 48  Item5               10000 non-null  int64  \n",
      " 49  Item6               10000 non-null  int64  \n",
      " 50  Item7               10000 non-null  int64  \n",
      " 51  Item8               10000 non-null  int64  \n",
      "dtypes: float64(11), int64(14), object(27)\n",
      "memory usage: 4.0+ MB\n"
     ]
    }
   ],
   "source": [
    "df.info()"
   ]
  },
  {
   "cell_type": "code",
   "execution_count": 27,
   "id": "f6545c3a",
   "metadata": {},
   "outputs": [
    {
     "data": {
      "image/png": "[encoded data removed]",
      "text/plain": [
       "<Figure size 640x480 with 1 Axes>"
      ]
     },
     "metadata": {},
     "output_type": "display_data"
    }
   ],
   "source": [
    "# Show histogram of variables with updated values\n",
    "\n",
    "# Children updated histrogram\n",
    "\n",
    "plt.hist(df['Children'])\n",
    "plt.show()"
   ]
  },
  {
   "cell_type": "code",
   "execution_count": 28,
   "id": "7d6d3b7c",
   "metadata": {},
   "outputs": [
    {
     "data": {
      "image/png": "[encoded data removed]",
      "text/plain": [
       "<Figure size 640x480 with 1 Axes>"
      ]
     },
     "metadata": {},
     "output_type": "display_data"
    }
   ],
   "source": [
    "# Age updated histogram\n",
    "\n",
    "plt.hist(df['Age'])\n",
    "plt.show()"
   ]
  },
  {
   "cell_type": "code",
   "execution_count": 29,
   "id": "3fa1f0ad",
   "metadata": {},
   "outputs": [
    {
     "data": {
      "image/png": "[encoded data removed]",
      "text/plain": [
       "<Figure size 640x480 with 1 Axes>"
      ]
     },
     "metadata": {},
     "output_type": "display_data"
    }
   ],
   "source": [
    "# Income updated histogram\n",
    "\n",
    "plt.hist(df['Income'])\n",
    "plt.show()"
   ]
  },
  {
   "cell_type": "code",
   "execution_count": 30,
   "id": "aef9e32d",
   "metadata": {},
   "outputs": [
    {
     "data": {
      "image/png": "[encoded data removed]",
      "text/plain": [
       "<Figure size 640x480 with 1 Axes>"
      ]
     },
     "metadata": {},
     "output_type": "display_data"
    }
   ],
   "source": [
    "# Plot updated Initial_days histogram\n",
    "\n",
    "plt.hist(df['Initial_days'])\n",
    "plt.show()"
   ]
  },
  {
   "cell_type": "code",
   "execution_count": 31,
   "id": "76a3d6e3",
   "metadata": {},
   "outputs": [
    {
     "data": {
      "text/html": [
       "<div>\n",
       "<style scoped>\n",
       "    .dataframe tbody tr th:only-of-type {\n",
       "        vertical-align: middle;\n",
       "    }\n",
       "\n",
       "    .dataframe tbody tr th {\n",
       "        vertical-align: top;\n",
       "    }\n",
       "\n",
       "    .dataframe thead th {\n",
       "        text-align: right;\n",
       "    }\n",
       "</style>\n",
       "<table border=\"1\" class=\"dataframe\">\n",
       "  <thead>\n",
       "    <tr style=\"text-align: right;\">\n",
       "      <th></th>\n",
       "      <th>CaseOrder</th>\n",
       "      <th>Zip</th>\n",
       "      <th>Lat</th>\n",
       "      <th>Lng</th>\n",
       "      <th>Population</th>\n",
       "      <th>Children</th>\n",
       "      <th>Age</th>\n",
       "      <th>Income</th>\n",
       "      <th>VitD_levels</th>\n",
       "      <th>Doc_visits</th>\n",
       "      <th>...</th>\n",
       "      <th>TotalCharge</th>\n",
       "      <th>Additional_charges</th>\n",
       "      <th>Item1</th>\n",
       "      <th>Item2</th>\n",
       "      <th>Item3</th>\n",
       "      <th>Item4</th>\n",
       "      <th>Item5</th>\n",
       "      <th>Item6</th>\n",
       "      <th>Item7</th>\n",
       "      <th>Item8</th>\n",
       "    </tr>\n",
       "  </thead>\n",
       "  <tbody>\n",
       "    <tr>\n",
       "      <th>count</th>\n",
       "      <td>10000.00000</td>\n",
       "      <td>10000.000000</td>\n",
       "      <td>10000.000000</td>\n",
       "      <td>10000.000000</td>\n",
       "      <td>10000.000000</td>\n",
       "      <td>10000.000000</td>\n",
       "      <td>10000.000000</td>\n",
       "      <td>10000.000000</td>\n",
       "      <td>10000.000000</td>\n",
       "      <td>10000.000000</td>\n",
       "      <td>...</td>\n",
       "      <td>10000.000000</td>\n",
       "      <td>10000.000000</td>\n",
       "      <td>10000.000000</td>\n",
       "      <td>10000.000000</td>\n",
       "      <td>10000.000000</td>\n",
       "      <td>10000.000000</td>\n",
       "      <td>10000.000000</td>\n",
       "      <td>10000.000000</td>\n",
       "      <td>10000.000000</td>\n",
       "      <td>10000.000000</td>\n",
       "    </tr>\n",
       "    <tr>\n",
       "      <th>mean</th>\n",
       "      <td>5000.50000</td>\n",
       "      <td>50159.323900</td>\n",
       "      <td>38.751099</td>\n",
       "      <td>-91.243080</td>\n",
       "      <td>9965.253800</td>\n",
       "      <td>1.814000</td>\n",
       "      <td>53.295676</td>\n",
       "      <td>38872.450471</td>\n",
       "      <td>19.412675</td>\n",
       "      <td>5.012200</td>\n",
       "      <td>...</td>\n",
       "      <td>5891.538261</td>\n",
       "      <td>12934.528586</td>\n",
       "      <td>3.518800</td>\n",
       "      <td>3.506700</td>\n",
       "      <td>3.511100</td>\n",
       "      <td>3.515100</td>\n",
       "      <td>3.496900</td>\n",
       "      <td>3.522500</td>\n",
       "      <td>3.494000</td>\n",
       "      <td>3.509700</td>\n",
       "    </tr>\n",
       "    <tr>\n",
       "      <th>std</th>\n",
       "      <td>2886.89568</td>\n",
       "      <td>27469.588208</td>\n",
       "      <td>5.403085</td>\n",
       "      <td>15.205998</td>\n",
       "      <td>14824.758614</td>\n",
       "      <td>1.916969</td>\n",
       "      <td>17.993375</td>\n",
       "      <td>25042.796229</td>\n",
       "      <td>6.723277</td>\n",
       "      <td>1.045734</td>\n",
       "      <td>...</td>\n",
       "      <td>3377.558136</td>\n",
       "      <td>6542.601544</td>\n",
       "      <td>1.031966</td>\n",
       "      <td>1.034825</td>\n",
       "      <td>1.032755</td>\n",
       "      <td>1.036282</td>\n",
       "      <td>1.030192</td>\n",
       "      <td>1.032376</td>\n",
       "      <td>1.021405</td>\n",
       "      <td>1.042312</td>\n",
       "    </tr>\n",
       "    <tr>\n",
       "      <th>min</th>\n",
       "      <td>1.00000</td>\n",
       "      <td>610.000000</td>\n",
       "      <td>17.967190</td>\n",
       "      <td>-174.209690</td>\n",
       "      <td>0.000000</td>\n",
       "      <td>0.000000</td>\n",
       "      <td>18.000000</td>\n",
       "      <td>154.080000</td>\n",
       "      <td>9.519012</td>\n",
       "      <td>1.000000</td>\n",
       "      <td>...</td>\n",
       "      <td>1256.751699</td>\n",
       "      <td>3125.702716</td>\n",
       "      <td>1.000000</td>\n",
       "      <td>1.000000</td>\n",
       "      <td>1.000000</td>\n",
       "      <td>1.000000</td>\n",
       "      <td>1.000000</td>\n",
       "      <td>1.000000</td>\n",
       "      <td>1.000000</td>\n",
       "      <td>1.000000</td>\n",
       "    </tr>\n",
       "    <tr>\n",
       "      <th>25%</th>\n",
       "      <td>2500.75000</td>\n",
       "      <td>27592.000000</td>\n",
       "      <td>35.255120</td>\n",
       "      <td>-97.352982</td>\n",
       "      <td>694.750000</td>\n",
       "      <td>1.000000</td>\n",
       "      <td>41.000000</td>\n",
       "      <td>23956.162500</td>\n",
       "      <td>16.513171</td>\n",
       "      <td>4.000000</td>\n",
       "      <td>...</td>\n",
       "      <td>3253.239465</td>\n",
       "      <td>7986.487642</td>\n",
       "      <td>3.000000</td>\n",
       "      <td>3.000000</td>\n",
       "      <td>3.000000</td>\n",
       "      <td>3.000000</td>\n",
       "      <td>3.000000</td>\n",
       "      <td>3.000000</td>\n",
       "      <td>3.000000</td>\n",
       "      <td>3.000000</td>\n",
       "    </tr>\n",
       "    <tr>\n",
       "      <th>50%</th>\n",
       "      <td>5000.50000</td>\n",
       "      <td>50207.000000</td>\n",
       "      <td>39.419355</td>\n",
       "      <td>-88.397230</td>\n",
       "      <td>2769.000000</td>\n",
       "      <td>1.000000</td>\n",
       "      <td>53.295676</td>\n",
       "      <td>33942.280000</td>\n",
       "      <td>18.080560</td>\n",
       "      <td>5.000000</td>\n",
       "      <td>...</td>\n",
       "      <td>5852.250564</td>\n",
       "      <td>11573.979365</td>\n",
       "      <td>4.000000</td>\n",
       "      <td>3.000000</td>\n",
       "      <td>4.000000</td>\n",
       "      <td>4.000000</td>\n",
       "      <td>3.000000</td>\n",
       "      <td>4.000000</td>\n",
       "      <td>3.000000</td>\n",
       "      <td>3.000000</td>\n",
       "    </tr>\n",
       "    <tr>\n",
       "      <th>75%</th>\n",
       "      <td>7500.25000</td>\n",
       "      <td>72411.750000</td>\n",
       "      <td>42.044175</td>\n",
       "      <td>-80.438050</td>\n",
       "      <td>13945.000000</td>\n",
       "      <td>3.000000</td>\n",
       "      <td>65.000000</td>\n",
       "      <td>46466.797500</td>\n",
       "      <td>19.789740</td>\n",
       "      <td>6.000000</td>\n",
       "      <td>...</td>\n",
       "      <td>7614.989701</td>\n",
       "      <td>15626.491033</td>\n",
       "      <td>4.000000</td>\n",
       "      <td>4.000000</td>\n",
       "      <td>4.000000</td>\n",
       "      <td>4.000000</td>\n",
       "      <td>4.000000</td>\n",
       "      <td>4.000000</td>\n",
       "      <td>4.000000</td>\n",
       "      <td>4.000000</td>\n",
       "    </tr>\n",
       "    <tr>\n",
       "      <th>max</th>\n",
       "      <td>10000.00000</td>\n",
       "      <td>99929.000000</td>\n",
       "      <td>70.560990</td>\n",
       "      <td>-65.290170</td>\n",
       "      <td>122814.000000</td>\n",
       "      <td>10.000000</td>\n",
       "      <td>89.000000</td>\n",
       "      <td>207249.130000</td>\n",
       "      <td>53.019124</td>\n",
       "      <td>9.000000</td>\n",
       "      <td>...</td>\n",
       "      <td>21524.224210</td>\n",
       "      <td>30566.073130</td>\n",
       "      <td>8.000000</td>\n",
       "      <td>7.000000</td>\n",
       "      <td>8.000000</td>\n",
       "      <td>7.000000</td>\n",
       "      <td>7.000000</td>\n",
       "      <td>7.000000</td>\n",
       "      <td>7.000000</td>\n",
       "      <td>7.000000</td>\n",
       "    </tr>\n",
       "  </tbody>\n",
       "</table>\n",
       "<p>8 rows × 25 columns</p>\n",
       "</div>"
      ],
      "text/plain": [
       "         CaseOrder           Zip           Lat           Lng     Population  \\\n",
       "count  10000.00000  10000.000000  10000.000000  10000.000000   10000.000000   \n",
       "mean    5000.50000  50159.323900     38.751099    -91.243080    9965.253800   \n",
       "std     2886.89568  27469.588208      5.403085     15.205998   14824.758614   \n",
       "min        1.00000    610.000000     17.967190   -174.209690       0.000000   \n",
       "25%     2500.75000  27592.000000     35.255120    -97.352982     694.750000   \n",
       "50%     5000.50000  50207.000000     39.419355    -88.397230    2769.000000   \n",
       "75%     7500.25000  72411.750000     42.044175    -80.438050   13945.000000   \n",
       "max    10000.00000  99929.000000     70.560990    -65.290170  122814.000000   \n",
       "\n",
       "           Children           Age         Income   VitD_levels    Doc_visits  \\\n",
       "count  10000.000000  10000.000000   10000.000000  10000.000000  10000.000000   \n",
       "mean       1.814000     53.295676   38872.450471     19.412675      5.012200   \n",
       "std        1.916969     17.993375   25042.796229      6.723277      1.045734   \n",
       "min        0.000000     18.000000     154.080000      9.519012      1.000000   \n",
       "25%        1.000000     41.000000   23956.162500     16.513171      4.000000   \n",
       "50%        1.000000     53.295676   33942.280000     18.080560      5.000000   \n",
       "75%        3.000000     65.000000   46466.797500     19.789740      6.000000   \n",
       "max       10.000000     89.000000  207249.130000     53.019124      9.000000   \n",
       "\n",
       "       ...   TotalCharge  Additional_charges         Item1         Item2  \\\n",
       "count  ...  10000.000000        10000.000000  10000.000000  10000.000000   \n",
       "mean   ...   5891.538261        12934.528586      3.518800      3.506700   \n",
       "std    ...   3377.558136         6542.601544      1.031966      1.034825   \n",
       "min    ...   1256.751699         3125.702716      1.000000      1.000000   \n",
       "25%    ...   3253.239465         7986.487642      3.000000      3.000000   \n",
       "50%    ...   5852.250564        11573.979365      4.000000      3.000000   \n",
       "75%    ...   7614.989701        15626.491033      4.000000      4.000000   \n",
       "max    ...  21524.224210        30566.073130      8.000000      7.000000   \n",
       "\n",
       "              Item3         Item4         Item5         Item6         Item7  \\\n",
       "count  10000.000000  10000.000000  10000.000000  10000.000000  10000.000000   \n",
       "mean       3.511100      3.515100      3.496900      3.522500      3.494000   \n",
       "std        1.032755      1.036282      1.030192      1.032376      1.021405   \n",
       "min        1.000000      1.000000      1.000000      1.000000      1.000000   \n",
       "25%        3.000000      3.000000      3.000000      3.000000      3.000000   \n",
       "50%        4.000000      4.000000      3.000000      4.000000      3.000000   \n",
       "75%        4.000000      4.000000      4.000000      4.000000      4.000000   \n",
       "max        8.000000      7.000000      7.000000      7.000000      7.000000   \n",
       "\n",
       "              Item8  \n",
       "count  10000.000000  \n",
       "mean       3.509700  \n",
       "std        1.042312  \n",
       "min        1.000000  \n",
       "25%        3.000000  \n",
       "50%        3.000000  \n",
       "75%        4.000000  \n",
       "max        7.000000  \n",
       "\n",
       "[8 rows x 25 columns]"
      ]
     },
     "execution_count": 31,
     "metadata": {},
     "output_type": "execute_result"
    }
   ],
   "source": [
    "# Show describe values after imputation\n",
    "\n",
    "df.describe()"
   ]
  },
  {
   "cell_type": "code",
   "execution_count": 32,
   "id": "c5b45a97",
   "metadata": {},
   "outputs": [
    {
     "data": {
      "text/plain": [
       "Initial_days    34.446941\n",
       "dtype: float64"
      ]
     },
     "execution_count": 32,
     "metadata": {},
     "output_type": "execute_result"
    }
   ],
   "source": [
    "# Show Initial_days median after imputation\n",
    "\n",
    "df[['Initial_days']].median()"
   ]
  },
  {
   "cell_type": "code",
   "execution_count": 33,
   "id": "287cd80d",
   "metadata": {},
   "outputs": [],
   "source": [
    "# Children Z_Score\n",
    "\n",
    "df['Z_Score_Children']=stats.zscore(df['Children'])"
   ]
  },
  {
   "cell_type": "code",
   "execution_count": 34,
   "id": "7888d511",
   "metadata": {},
   "outputs": [
    {
     "data": {
      "text/plain": [
       "<bound method NDFrame.head of        Children  Z_Score_Children\n",
       "1           1.0         -0.424650\n",
       "2           3.0          0.618716\n",
       "3           3.0          0.618716\n",
       "4           0.0         -0.946333\n",
       "5           1.0         -0.424650\n",
       "...         ...               ...\n",
       "9996        1.0         -0.424650\n",
       "9997        4.0          1.140399\n",
       "9998        3.0          0.618716\n",
       "9999        3.0          0.618716\n",
       "10000       8.0          3.227130\n",
       "\n",
       "[10000 rows x 2 columns]>"
      ]
     },
     "execution_count": 34,
     "metadata": {},
     "output_type": "execute_result"
    }
   ],
   "source": [
    "df[['Children','Z_Score_Children']].head"
   ]
  },
  {
   "cell_type": "code",
   "execution_count": 35,
   "id": "a4e53052",
   "metadata": {},
   "outputs": [],
   "source": [
    "# Age Z Score\n",
    "\n",
    "df['Z_Score_Children']=stats.zscore(df['Children'])"
   ]
  },
  {
   "cell_type": "code",
   "execution_count": 36,
   "id": "5198065a",
   "metadata": {},
   "outputs": [
    {
     "data": {
      "text/plain": [
       "<bound method NDFrame.head of        Children  Z_Score_Children\n",
       "1           1.0         -0.424650\n",
       "2           3.0          0.618716\n",
       "3           3.0          0.618716\n",
       "4           0.0         -0.946333\n",
       "5           1.0         -0.424650\n",
       "...         ...               ...\n",
       "9996        1.0         -0.424650\n",
       "9997        4.0          1.140399\n",
       "9998        3.0          0.618716\n",
       "9999        3.0          0.618716\n",
       "10000       8.0          3.227130\n",
       "\n",
       "[10000 rows x 2 columns]>"
      ]
     },
     "execution_count": 36,
     "metadata": {},
     "output_type": "execute_result"
    }
   ],
   "source": [
    "df[['Children','Z_Score_Children']].head"
   ]
  },
  {
   "cell_type": "code",
   "execution_count": 37,
   "id": "84273557",
   "metadata": {},
   "outputs": [],
   "source": [
    "# Income Z Score\n",
    "\n",
    "df['Z_Score_Income']=stats.zscore(df['Income'])"
   ]
  },
  {
   "cell_type": "code",
   "execution_count": 38,
   "id": "59cc0dbb",
   "metadata": {},
   "outputs": [
    {
     "data": {
      "text/plain": [
       "<bound method NDFrame.head of        Children  Z_Score_Income\n",
       "1           1.0        1.904974\n",
       "2           3.0        0.316815\n",
       "3           3.0       -0.978466\n",
       "4           0.0        0.034704\n",
       "5           1.0       -1.504016\n",
       "...         ...             ...\n",
       "9996        1.0        0.283336\n",
       "9997        4.0       -0.953992\n",
       "9998        3.0        1.080020\n",
       "9999        3.0       -0.366197\n",
       "10000       8.0        0.950827\n",
       "\n",
       "[10000 rows x 2 columns]>"
      ]
     },
     "execution_count": 38,
     "metadata": {},
     "output_type": "execute_result"
    }
   ],
   "source": [
    "df[['Children','Z_Score_Income']].head"
   ]
  },
  {
   "cell_type": "code",
   "execution_count": 39,
   "id": "018eaeb2",
   "metadata": {},
   "outputs": [],
   "source": [
    "#Initial_days Z score\n",
    "\n",
    "df['Z_Score_Initial_days']=stats.zscore(df['Initial_days'])"
   ]
  },
  {
   "cell_type": "code",
   "execution_count": 40,
   "id": "9561f0c1",
   "metadata": {},
   "outputs": [
    {
     "data": {
      "text/plain": [
       "<bound method NDFrame.head of        Initial_days  Z_Score_Initial_days\n",
       "1         10.585770             -0.959326\n",
       "2         15.129562             -0.776544\n",
       "3          4.772177             -1.193189\n",
       "4          1.714879             -1.316175\n",
       "5          1.254807             -1.334682\n",
       "...             ...                   ...\n",
       "9996      51.561217              0.688989\n",
       "9997      68.668237              1.377151\n",
       "9998      34.446941              0.000535\n",
       "9999      63.356903              1.163493\n",
       "10000     70.850592              1.464941\n",
       "\n",
       "[10000 rows x 2 columns]>"
      ]
     },
     "execution_count": 40,
     "metadata": {},
     "output_type": "execute_result"
    }
   ],
   "source": [
    "df[['Initial_days','Z_Score_Initial_days']].head"
   ]
  },
  {
   "cell_type": "code",
   "execution_count": 41,
   "id": "03bfc5ed",
   "metadata": {},
   "outputs": [
    {
     "data": {
      "image/png": "[encoded data removed]",
      "text/plain": [
       "<Figure size 640x480 with 1 Axes>"
      ]
     },
     "metadata": {},
     "output_type": "display_data"
    }
   ],
   "source": [
    "# Show Histogram of z score children outliers\n",
    "\n",
    "plt.hist(df['Z_Score_Children'])\n",
    "plt.show()"
   ]
  },
  {
   "cell_type": "code",
   "execution_count": 42,
   "id": "da19b5d6",
   "metadata": {},
   "outputs": [
    {
     "data": {
      "image/png": "[encoded data removed]",
      "text/plain": [
       "<Figure size 640x480 with 1 Axes>"
      ]
     },
     "metadata": {},
     "output_type": "display_data"
    }
   ],
   "source": [
    "# Show Histogram of z score income outliers\n",
    "\n",
    "plt.hist(df['Z_Score_Income'])\n",
    "plt.show()"
   ]
  },
  {
   "cell_type": "code",
   "execution_count": 43,
   "id": "2f8d0b6c",
   "metadata": {},
   "outputs": [
    {
     "data": {
      "image/png": "[encoded data removed]",
      "text/plain": [
       "<Figure size 640x480 with 1 Axes>"
      ]
     },
     "metadata": {},
     "output_type": "display_data"
    }
   ],
   "source": [
    "# Show box plot of Z score of Children\n",
    "\n",
    "boxplot=seaborn.boxplot(x='Children',data=df)"
   ]
  },
  {
   "cell_type": "code",
   "execution_count": 44,
   "id": "deab2611",
   "metadata": {},
   "outputs": [
    {
     "data": {
      "image/png": "[encoded data removed]",
      "text/plain": [
       "<Figure size 640x480 with 1 Axes>"
      ]
     },
     "metadata": {},
     "output_type": "display_data"
    }
   ],
   "source": [
    "# Show box plot of Z score of Age\n",
    "\n",
    "boxplot=seaborn.boxplot(x='Age',data=df)"
   ]
  },
  {
   "cell_type": "code",
   "execution_count": 45,
   "id": "8338ea7d",
   "metadata": {},
   "outputs": [
    {
     "data": {
      "image/png": "[encoded data removed]",
      "text/plain": [
       "<Figure size 640x480 with 1 Axes>"
      ]
     },
     "metadata": {},
     "output_type": "display_data"
    }
   ],
   "source": [
    "# Show box plot of Z score of Income - Income is a natural variation in humans so some outliers less than 75000 will be kept\n",
    "\n",
    "boxplot=seaborn.boxplot(x='Income',data=df)"
   ]
  },
  {
   "cell_type": "code",
   "execution_count": 46,
   "id": "705d517b",
   "metadata": {},
   "outputs": [
    {
     "data": {
      "image/png": "[encoded data removed]",
      "text/plain": [
       "<Figure size 640x480 with 1 Axes>"
      ]
     },
     "metadata": {},
     "output_type": "display_data"
    }
   ],
   "source": [
    "# Show box plot of Z score of Initial_days\n",
    "\n",
    "boxplot=seaborn.boxplot(x='Initial_days',data=df)"
   ]
  },
  {
   "cell_type": "code",
   "execution_count": 47,
   "id": "dcfec75b",
   "metadata": {},
   "outputs": [
    {
     "name": "stdout",
     "output_type": "stream",
     "text": [
      "<class 'pandas.core.frame.DataFrame'>\n",
      "Index: 10000 entries, 1 to 10000\n",
      "Data columns (total 55 columns):\n",
      " #   Column                Non-Null Count  Dtype  \n",
      "---  ------                --------------  -----  \n",
      " 0   CaseOrder             10000 non-null  int64  \n",
      " 1   Customer_id           10000 non-null  object \n",
      " 2   Interaction           10000 non-null  object \n",
      " 3   UID                   10000 non-null  object \n",
      " 4   City                  10000 non-null  object \n",
      " 5   State                 10000 non-null  object \n",
      " 6   County                10000 non-null  object \n",
      " 7   Zip                   10000 non-null  int64  \n",
      " 8   Lat                   10000 non-null  float64\n",
      " 9   Lng                   10000 non-null  float64\n",
      " 10  Population            10000 non-null  int64  \n",
      " 11  Area                  10000 non-null  object \n",
      " 12  Timezone              10000 non-null  object \n",
      " 13  Job                   10000 non-null  object \n",
      " 14  Children              10000 non-null  float64\n",
      " 15  Age                   10000 non-null  float64\n",
      " 16  Education             10000 non-null  object \n",
      " 17  Employment            10000 non-null  object \n",
      " 18  Income                10000 non-null  float64\n",
      " 19  Marital               10000 non-null  object \n",
      " 20  Gender                10000 non-null  object \n",
      " 21  ReAdmis               10000 non-null  object \n",
      " 22  VitD_levels           10000 non-null  float64\n",
      " 23  Doc_visits            10000 non-null  int64  \n",
      " 24  Full_meals_eaten      10000 non-null  int64  \n",
      " 25  VitD_supp             10000 non-null  int64  \n",
      " 26  Soft_drink            10000 non-null  object \n",
      " 27  Initial_admin         10000 non-null  object \n",
      " 28  HighBlood             10000 non-null  object \n",
      " 29  Stroke                10000 non-null  object \n",
      " 30  Complication_risk     10000 non-null  object \n",
      " 31  Overweight            10000 non-null  float64\n",
      " 32  Arthritis             10000 non-null  object \n",
      " 33  Diabetes              10000 non-null  object \n",
      " 34  Hyperlipidemia        10000 non-null  object \n",
      " 35  BackPain              10000 non-null  object \n",
      " 36  Anxiety               10000 non-null  float64\n",
      " 37  Allergic_rhinitis     10000 non-null  object \n",
      " 38  Reflux_esophagitis    10000 non-null  object \n",
      " 39  Asthma                10000 non-null  object \n",
      " 40  Services              10000 non-null  object \n",
      " 41  Initial_days          10000 non-null  float64\n",
      " 42  TotalCharge           10000 non-null  float64\n",
      " 43  Additional_charges    10000 non-null  float64\n",
      " 44  Item1                 10000 non-null  int64  \n",
      " 45  Item2                 10000 non-null  int64  \n",
      " 46  Item3                 10000 non-null  int64  \n",
      " 47  Item4                 10000 non-null  int64  \n",
      " 48  Item5                 10000 non-null  int64  \n",
      " 49  Item6                 10000 non-null  int64  \n",
      " 50  Item7                 10000 non-null  int64  \n",
      " 51  Item8                 10000 non-null  int64  \n",
      " 52  Z_Score_Children      10000 non-null  float64\n",
      " 53  Z_Score_Income        10000 non-null  float64\n",
      " 54  Z_Score_Initial_days  10000 non-null  float64\n",
      "dtypes: float64(14), int64(14), object(27)\n",
      "memory usage: 4.3+ MB\n"
     ]
    }
   ],
   "source": [
    "df.info()"
   ]
  },
  {
   "cell_type": "code",
   "execution_count": 48,
   "id": "79c727ce",
   "metadata": {},
   "outputs": [],
   "source": [
    "\n",
    "# Drop outliers in Income\n",
    "\n",
    "df['Income'] = np.where(df['Income'] > 75000, np.nan, df['Income'])"
   ]
  },
  {
   "cell_type": "code",
   "execution_count": 49,
   "id": "3b73f629",
   "metadata": {},
   "outputs": [],
   "source": [
    "# Drop outliers in Children\n",
    "\n",
    "df['Children'] = np.where(df['Children'] >= 6, np.nan, df['Children'])"
   ]
  },
  {
   "cell_type": "code",
   "execution_count": 50,
   "id": "b5727747",
   "metadata": {},
   "outputs": [
    {
     "name": "stdout",
     "output_type": "stream",
     "text": [
      "<class 'pandas.core.frame.DataFrame'>\n",
      "Index: 10000 entries, 1 to 10000\n",
      "Data columns (total 55 columns):\n",
      " #   Column                Non-Null Count  Dtype  \n",
      "---  ------                --------------  -----  \n",
      " 0   CaseOrder             10000 non-null  int64  \n",
      " 1   Customer_id           10000 non-null  object \n",
      " 2   Interaction           10000 non-null  object \n",
      " 3   UID                   10000 non-null  object \n",
      " 4   City                  10000 non-null  object \n",
      " 5   State                 10000 non-null  object \n",
      " 6   County                10000 non-null  object \n",
      " 7   Zip                   10000 non-null  int64  \n",
      " 8   Lat                   10000 non-null  float64\n",
      " 9   Lng                   10000 non-null  float64\n",
      " 10  Population            10000 non-null  int64  \n",
      " 11  Area                  10000 non-null  object \n",
      " 12  Timezone              10000 non-null  object \n",
      " 13  Job                   10000 non-null  object \n",
      " 14  Children              9398 non-null   float64\n",
      " 15  Age                   10000 non-null  float64\n",
      " 16  Education             10000 non-null  object \n",
      " 17  Employment            10000 non-null  object \n",
      " 18  Income                9130 non-null   float64\n",
      " 19  Marital               10000 non-null  object \n",
      " 20  Gender                10000 non-null  object \n",
      " 21  ReAdmis               10000 non-null  object \n",
      " 22  VitD_levels           10000 non-null  float64\n",
      " 23  Doc_visits            10000 non-null  int64  \n",
      " 24  Full_meals_eaten      10000 non-null  int64  \n",
      " 25  VitD_supp             10000 non-null  int64  \n",
      " 26  Soft_drink            10000 non-null  object \n",
      " 27  Initial_admin         10000 non-null  object \n",
      " 28  HighBlood             10000 non-null  object \n",
      " 29  Stroke                10000 non-null  object \n",
      " 30  Complication_risk     10000 non-null  object \n",
      " 31  Overweight            10000 non-null  float64\n",
      " 32  Arthritis             10000 non-null  object \n",
      " 33  Diabetes              10000 non-null  object \n",
      " 34  Hyperlipidemia        10000 non-null  object \n",
      " 35  BackPain              10000 non-null  object \n",
      " 36  Anxiety               10000 non-null  float64\n",
      " 37  Allergic_rhinitis     10000 non-null  object \n",
      " 38  Reflux_esophagitis    10000 non-null  object \n",
      " 39  Asthma                10000 non-null  object \n",
      " 40  Services              10000 non-null  object \n",
      " 41  Initial_days          10000 non-null  float64\n",
      " 42  TotalCharge           10000 non-null  float64\n",
      " 43  Additional_charges    10000 non-null  float64\n",
      " 44  Item1                 10000 non-null  int64  \n",
      " 45  Item2                 10000 non-null  int64  \n",
      " 46  Item3                 10000 non-null  int64  \n",
      " 47  Item4                 10000 non-null  int64  \n",
      " 48  Item5                 10000 non-null  int64  \n",
      " 49  Item6                 10000 non-null  int64  \n",
      " 50  Item7                 10000 non-null  int64  \n",
      " 51  Item8                 10000 non-null  int64  \n",
      " 52  Z_Score_Children      10000 non-null  float64\n",
      " 53  Z_Score_Income        10000 non-null  float64\n",
      " 54  Z_Score_Initial_days  10000 non-null  float64\n",
      "dtypes: float64(14), int64(14), object(27)\n",
      "memory usage: 4.3+ MB\n"
     ]
    }
   ],
   "source": [
    "df.info()"
   ]
  },
  {
   "cell_type": "code",
   "execution_count": 51,
   "id": "b271f7e8",
   "metadata": {},
   "outputs": [],
   "source": [
    "# Impute the median for Income outliers\n",
    "\n",
    "df['Income'].fillna(df['Income'].median(), inplace=True)"
   ]
  },
  {
   "cell_type": "code",
   "execution_count": 52,
   "id": "d8fe1456",
   "metadata": {},
   "outputs": [],
   "source": [
    "# Impute the median for Children outliers\n",
    "\n",
    "df['Children'].fillna(df['Children'].median(), inplace=True)"
   ]
  },
  {
   "cell_type": "code",
   "execution_count": 53,
   "id": "2a248051",
   "metadata": {},
   "outputs": [
    {
     "name": "stdout",
     "output_type": "stream",
     "text": [
      "<class 'pandas.core.frame.DataFrame'>\n",
      "Index: 10000 entries, 1 to 10000\n",
      "Data columns (total 55 columns):\n",
      " #   Column                Non-Null Count  Dtype  \n",
      "---  ------                --------------  -----  \n",
      " 0   CaseOrder             10000 non-null  int64  \n",
      " 1   Customer_id           10000 non-null  object \n",
      " 2   Interaction           10000 non-null  object \n",
      " 3   UID                   10000 non-null  object \n",
      " 4   City                  10000 non-null  object \n",
      " 5   State                 10000 non-null  object \n",
      " 6   County                10000 non-null  object \n",
      " 7   Zip                   10000 non-null  int64  \n",
      " 8   Lat                   10000 non-null  float64\n",
      " 9   Lng                   10000 non-null  float64\n",
      " 10  Population            10000 non-null  int64  \n",
      " 11  Area                  10000 non-null  object \n",
      " 12  Timezone              10000 non-null  object \n",
      " 13  Job                   10000 non-null  object \n",
      " 14  Children              10000 non-null  float64\n",
      " 15  Age                   10000 non-null  float64\n",
      " 16  Education             10000 non-null  object \n",
      " 17  Employment            10000 non-null  object \n",
      " 18  Income                10000 non-null  float64\n",
      " 19  Marital               10000 non-null  object \n",
      " 20  Gender                10000 non-null  object \n",
      " 21  ReAdmis               10000 non-null  object \n",
      " 22  VitD_levels           10000 non-null  float64\n",
      " 23  Doc_visits            10000 non-null  int64  \n",
      " 24  Full_meals_eaten      10000 non-null  int64  \n",
      " 25  VitD_supp             10000 non-null  int64  \n",
      " 26  Soft_drink            10000 non-null  object \n",
      " 27  Initial_admin         10000 non-null  object \n",
      " 28  HighBlood             10000 non-null  object \n",
      " 29  Stroke                10000 non-null  object \n",
      " 30  Complication_risk     10000 non-null  object \n",
      " 31  Overweight            10000 non-null  float64\n",
      " 32  Arthritis             10000 non-null  object \n",
      " 33  Diabetes              10000 non-null  object \n",
      " 34  Hyperlipidemia        10000 non-null  object \n",
      " 35  BackPain              10000 non-null  object \n",
      " 36  Anxiety               10000 non-null  float64\n",
      " 37  Allergic_rhinitis     10000 non-null  object \n",
      " 38  Reflux_esophagitis    10000 non-null  object \n",
      " 39  Asthma                10000 non-null  object \n",
      " 40  Services              10000 non-null  object \n",
      " 41  Initial_days          10000 non-null  float64\n",
      " 42  TotalCharge           10000 non-null  float64\n",
      " 43  Additional_charges    10000 non-null  float64\n",
      " 44  Item1                 10000 non-null  int64  \n",
      " 45  Item2                 10000 non-null  int64  \n",
      " 46  Item3                 10000 non-null  int64  \n",
      " 47  Item4                 10000 non-null  int64  \n",
      " 48  Item5                 10000 non-null  int64  \n",
      " 49  Item6                 10000 non-null  int64  \n",
      " 50  Item7                 10000 non-null  int64  \n",
      " 51  Item8                 10000 non-null  int64  \n",
      " 52  Z_Score_Children      10000 non-null  float64\n",
      " 53  Z_Score_Income        10000 non-null  float64\n",
      " 54  Z_Score_Initial_days  10000 non-null  float64\n",
      "dtypes: float64(14), int64(14), object(27)\n",
      "memory usage: 4.3+ MB\n"
     ]
    }
   ],
   "source": [
    "df.info()"
   ]
  },
  {
   "cell_type": "code",
   "execution_count": 54,
   "id": "3b953c83",
   "metadata": {},
   "outputs": [
    {
     "data": {
      "image/png": "[encoded data removed]",
      "text/plain": [
       "<Figure size 640x480 with 1 Axes>"
      ]
     },
     "metadata": {},
     "output_type": "display_data"
    }
   ],
   "source": [
    "# Boxplot of Income after removing values greater than 75000\n",
    "\n",
    "boxplot=seaborn.boxplot(x='Income',data=df)"
   ]
  },
  {
   "cell_type": "code",
   "execution_count": 55,
   "id": "2c4fce61",
   "metadata": {},
   "outputs": [
    {
     "data": {
      "image/png": "[encoded data removed]",
      "text/plain": [
       "<Figure size 640x480 with 1 Axes>"
      ]
     },
     "metadata": {},
     "output_type": "display_data"
    }
   ],
   "source": [
    "# Boxplot of Children after removing values greater than or equal to 6\n",
    "\n",
    "boxplot=seaborn.boxplot(x='Children',data=df)"
   ]
  },
  {
   "cell_type": "code",
   "execution_count": 56,
   "id": "9bc9c5ef",
   "metadata": {},
   "outputs": [],
   "source": [
    "# Find number of outliers for Income\n",
    "\n",
    "Income_query = df.query('Income > 58000')"
   ]
  },
  {
   "cell_type": "code",
   "execution_count": 57,
   "id": "bd00a22b",
   "metadata": {},
   "outputs": [
    {
     "name": "stdout",
     "output_type": "stream",
     "text": [
      "<class 'pandas.core.frame.DataFrame'>\n",
      "Index: 766 entries, 19 to 10000\n",
      "Data columns (total 55 columns):\n",
      " #   Column                Non-Null Count  Dtype  \n",
      "---  ------                --------------  -----  \n",
      " 0   CaseOrder             766 non-null    int64  \n",
      " 1   Customer_id           766 non-null    object \n",
      " 2   Interaction           766 non-null    object \n",
      " 3   UID                   766 non-null    object \n",
      " 4   City                  766 non-null    object \n",
      " 5   State                 766 non-null    object \n",
      " 6   County                766 non-null    object \n",
      " 7   Zip                   766 non-null    int64  \n",
      " 8   Lat                   766 non-null    float64\n",
      " 9   Lng                   766 non-null    float64\n",
      " 10  Population            766 non-null    int64  \n",
      " 11  Area                  766 non-null    object \n",
      " 12  Timezone              766 non-null    object \n",
      " 13  Job                   766 non-null    object \n",
      " 14  Children              766 non-null    float64\n",
      " 15  Age                   766 non-null    float64\n",
      " 16  Education             766 non-null    object \n",
      " 17  Employment            766 non-null    object \n",
      " 18  Income                766 non-null    float64\n",
      " 19  Marital               766 non-null    object \n",
      " 20  Gender                766 non-null    object \n",
      " 21  ReAdmis               766 non-null    object \n",
      " 22  VitD_levels           766 non-null    float64\n",
      " 23  Doc_visits            766 non-null    int64  \n",
      " 24  Full_meals_eaten      766 non-null    int64  \n",
      " 25  VitD_supp             766 non-null    int64  \n",
      " 26  Soft_drink            766 non-null    object \n",
      " 27  Initial_admin         766 non-null    object \n",
      " 28  HighBlood             766 non-null    object \n",
      " 29  Stroke                766 non-null    object \n",
      " 30  Complication_risk     766 non-null    object \n",
      " 31  Overweight            766 non-null    float64\n",
      " 32  Arthritis             766 non-null    object \n",
      " 33  Diabetes              766 non-null    object \n",
      " 34  Hyperlipidemia        766 non-null    object \n",
      " 35  BackPain              766 non-null    object \n",
      " 36  Anxiety               766 non-null    float64\n",
      " 37  Allergic_rhinitis     766 non-null    object \n",
      " 38  Reflux_esophagitis    766 non-null    object \n",
      " 39  Asthma                766 non-null    object \n",
      " 40  Services              766 non-null    object \n",
      " 41  Initial_days          766 non-null    float64\n",
      " 42  TotalCharge           766 non-null    float64\n",
      " 43  Additional_charges    766 non-null    float64\n",
      " 44  Item1                 766 non-null    int64  \n",
      " 45  Item2                 766 non-null    int64  \n",
      " 46  Item3                 766 non-null    int64  \n",
      " 47  Item4                 766 non-null    int64  \n",
      " 48  Item5                 766 non-null    int64  \n",
      " 49  Item6                 766 non-null    int64  \n",
      " 50  Item7                 766 non-null    int64  \n",
      " 51  Item8                 766 non-null    int64  \n",
      " 52  Z_Score_Children      766 non-null    float64\n",
      " 53  Z_Score_Income        766 non-null    float64\n",
      " 54  Z_Score_Initial_days  766 non-null    float64\n",
      "dtypes: float64(14), int64(14), object(27)\n",
      "memory usage: 335.1+ KB\n"
     ]
    }
   ],
   "source": [
    "Income_query.info()"
   ]
  },
  {
   "cell_type": "code",
   "execution_count": 58,
   "id": "bd395cbf",
   "metadata": {},
   "outputs": [],
   "source": [
    "# Find number of outliers for Children\n",
    "\n",
    "Children_query = df.query('Children > 3')"
   ]
  },
  {
   "cell_type": "code",
   "execution_count": 59,
   "id": "90fdcfe3",
   "metadata": {},
   "outputs": [
    {
     "name": "stdout",
     "output_type": "stream",
     "text": [
      "<class 'pandas.core.frame.DataFrame'>\n",
      "Index: 865 entries, 11 to 9997\n",
      "Data columns (total 55 columns):\n",
      " #   Column                Non-Null Count  Dtype  \n",
      "---  ------                --------------  -----  \n",
      " 0   CaseOrder             865 non-null    int64  \n",
      " 1   Customer_id           865 non-null    object \n",
      " 2   Interaction           865 non-null    object \n",
      " 3   UID                   865 non-null    object \n",
      " 4   City                  865 non-null    object \n",
      " 5   State                 865 non-null    object \n",
      " 6   County                865 non-null    object \n",
      " 7   Zip                   865 non-null    int64  \n",
      " 8   Lat                   865 non-null    float64\n",
      " 9   Lng                   865 non-null    float64\n",
      " 10  Population            865 non-null    int64  \n",
      " 11  Area                  865 non-null    object \n",
      " 12  Timezone              865 non-null    object \n",
      " 13  Job                   865 non-null    object \n",
      " 14  Children              865 non-null    float64\n",
      " 15  Age                   865 non-null    float64\n",
      " 16  Education             865 non-null    object \n",
      " 17  Employment            865 non-null    object \n",
      " 18  Income                865 non-null    float64\n",
      " 19  Marital               865 non-null    object \n",
      " 20  Gender                865 non-null    object \n",
      " 21  ReAdmis               865 non-null    object \n",
      " 22  VitD_levels           865 non-null    float64\n",
      " 23  Doc_visits            865 non-null    int64  \n",
      " 24  Full_meals_eaten      865 non-null    int64  \n",
      " 25  VitD_supp             865 non-null    int64  \n",
      " 26  Soft_drink            865 non-null    object \n",
      " 27  Initial_admin         865 non-null    object \n",
      " 28  HighBlood             865 non-null    object \n",
      " 29  Stroke                865 non-null    object \n",
      " 30  Complication_risk     865 non-null    object \n",
      " 31  Overweight            865 non-null    float64\n",
      " 32  Arthritis             865 non-null    object \n",
      " 33  Diabetes              865 non-null    object \n",
      " 34  Hyperlipidemia        865 non-null    object \n",
      " 35  BackPain              865 non-null    object \n",
      " 36  Anxiety               865 non-null    float64\n",
      " 37  Allergic_rhinitis     865 non-null    object \n",
      " 38  Reflux_esophagitis    865 non-null    object \n",
      " 39  Asthma                865 non-null    object \n",
      " 40  Services              865 non-null    object \n",
      " 41  Initial_days          865 non-null    float64\n",
      " 42  TotalCharge           865 non-null    float64\n",
      " 43  Additional_charges    865 non-null    float64\n",
      " 44  Item1                 865 non-null    int64  \n",
      " 45  Item2                 865 non-null    int64  \n",
      " 46  Item3                 865 non-null    int64  \n",
      " 47  Item4                 865 non-null    int64  \n",
      " 48  Item5                 865 non-null    int64  \n",
      " 49  Item6                 865 non-null    int64  \n",
      " 50  Item7                 865 non-null    int64  \n",
      " 51  Item8                 865 non-null    int64  \n",
      " 52  Z_Score_Children      865 non-null    float64\n",
      " 53  Z_Score_Income        865 non-null    float64\n",
      " 54  Z_Score_Initial_days  865 non-null    float64\n",
      "dtypes: float64(14), int64(14), object(27)\n",
      "memory usage: 378.4+ KB\n"
     ]
    }
   ],
   "source": [
    "Children_query.info()"
   ]
  },
  {
   "cell_type": "code",
   "execution_count": 60,
   "id": "4f23058d",
   "metadata": {},
   "outputs": [
    {
     "name": "stdout",
     "output_type": "stream",
     "text": [
      "<class 'pandas.core.frame.DataFrame'>\n",
      "Index: 10000 entries, 1 to 10000\n",
      "Data columns (total 55 columns):\n",
      " #   Column                Non-Null Count  Dtype  \n",
      "---  ------                --------------  -----  \n",
      " 0   CaseOrder             10000 non-null  int64  \n",
      " 1   Customer_id           10000 non-null  object \n",
      " 2   Interaction           10000 non-null  object \n",
      " 3   UID                   10000 non-null  object \n",
      " 4   City                  10000 non-null  object \n",
      " 5   State                 10000 non-null  object \n",
      " 6   County                10000 non-null  object \n",
      " 7   Zip                   10000 non-null  int64  \n",
      " 8   Lat                   10000 non-null  float64\n",
      " 9   Lng                   10000 non-null  float64\n",
      " 10  Population            10000 non-null  int64  \n",
      " 11  Area                  10000 non-null  object \n",
      " 12  Timezone              10000 non-null  object \n",
      " 13  Job                   10000 non-null  object \n",
      " 14  Children              10000 non-null  float64\n",
      " 15  Age                   10000 non-null  float64\n",
      " 16  Education             10000 non-null  object \n",
      " 17  Employment            10000 non-null  object \n",
      " 18  Income                10000 non-null  float64\n",
      " 19  Marital               10000 non-null  object \n",
      " 20  Gender                10000 non-null  object \n",
      " 21  ReAdmis               10000 non-null  object \n",
      " 22  VitD_levels           10000 non-null  float64\n",
      " 23  Doc_visits            10000 non-null  int64  \n",
      " 24  Full_meals_eaten      10000 non-null  int64  \n",
      " 25  VitD_supp             10000 non-null  int64  \n",
      " 26  Soft_drink            10000 non-null  object \n",
      " 27  Initial_admin         10000 non-null  object \n",
      " 28  HighBlood             10000 non-null  object \n",
      " 29  Stroke                10000 non-null  object \n",
      " 30  Complication_risk     10000 non-null  object \n",
      " 31  Overweight            10000 non-null  float64\n",
      " 32  Arthritis             10000 non-null  object \n",
      " 33  Diabetes              10000 non-null  object \n",
      " 34  Hyperlipidemia        10000 non-null  object \n",
      " 35  BackPain              10000 non-null  object \n",
      " 36  Anxiety               10000 non-null  float64\n",
      " 37  Allergic_rhinitis     10000 non-null  object \n",
      " 38  Reflux_esophagitis    10000 non-null  object \n",
      " 39  Asthma                10000 non-null  object \n",
      " 40  Services              10000 non-null  object \n",
      " 41  Initial_days          10000 non-null  float64\n",
      " 42  TotalCharge           10000 non-null  float64\n",
      " 43  Additional_charges    10000 non-null  float64\n",
      " 44  Item1                 10000 non-null  int64  \n",
      " 45  Item2                 10000 non-null  int64  \n",
      " 46  Item3                 10000 non-null  int64  \n",
      " 47  Item4                 10000 non-null  int64  \n",
      " 48  Item5                 10000 non-null  int64  \n",
      " 49  Item6                 10000 non-null  int64  \n",
      " 50  Item7                 10000 non-null  int64  \n",
      " 51  Item8                 10000 non-null  int64  \n",
      " 52  Z_Score_Children      10000 non-null  float64\n",
      " 53  Z_Score_Income        10000 non-null  float64\n",
      " 54  Z_Score_Initial_days  10000 non-null  float64\n",
      "dtypes: float64(14), int64(14), object(27)\n",
      "memory usage: 4.3+ MB\n"
     ]
    }
   ],
   "source": [
    "df.info()"
   ]
  },
  {
   "cell_type": "code",
   "execution_count": 61,
   "id": "49000262",
   "metadata": {},
   "outputs": [
    {
     "data": {
      "text/plain": [
       "array(['Yes', 'No'], dtype=object)"
      ]
     },
     "execution_count": 61,
     "metadata": {},
     "output_type": "execute_result"
    }
   ],
   "source": [
    "# Ordinal encoding for Arthritis\n",
    "\n",
    "df.Arthritis.unique()"
   ]
  },
  {
   "cell_type": "code",
   "execution_count": 62,
   "id": "27eff1a7",
   "metadata": {},
   "outputs": [],
   "source": [
    "df['Arthritis_numeric'] = df['Arthritis']"
   ]
  },
  {
   "cell_type": "code",
   "execution_count": 63,
   "id": "de1d8824",
   "metadata": {},
   "outputs": [],
   "source": [
    "dict_arthritis = {\"Arthritis_numeric\":{\"No\":0, \"Yes\":1}}"
   ]
  },
  {
   "cell_type": "code",
   "execution_count": 64,
   "id": "019fc72e",
   "metadata": {},
   "outputs": [],
   "source": [
    "df.replace(dict_arthritis, inplace=True)"
   ]
  },
  {
   "cell_type": "code",
   "execution_count": 65,
   "id": "d562f545",
   "metadata": {},
   "outputs": [
    {
     "data": {
      "text/plain": [
       "array(['Yes', 'No'], dtype=object)"
      ]
     },
     "execution_count": 65,
     "metadata": {},
     "output_type": "execute_result"
    }
   ],
   "source": [
    "# Ordinal encoding for Diabetes\n",
    "\n",
    "df.Diabetes.unique()"
   ]
  },
  {
   "cell_type": "code",
   "execution_count": 66,
   "id": "e442d583",
   "metadata": {},
   "outputs": [],
   "source": [
    "df['Diabetes_numeric'] = df['Diabetes']"
   ]
  },
  {
   "cell_type": "code",
   "execution_count": 67,
   "id": "2926de22",
   "metadata": {},
   "outputs": [],
   "source": [
    "dict_diabetes = {\"Diabetes_numeric\":{\"No\":0, \"Yes\":1}}"
   ]
  },
  {
   "cell_type": "code",
   "execution_count": 68,
   "id": "44fe1626",
   "metadata": {},
   "outputs": [],
   "source": [
    "df.replace(dict_diabetes, inplace=True)"
   ]
  },
  {
   "cell_type": "code",
   "execution_count": 69,
   "id": "e3ecee30",
   "metadata": {},
   "outputs": [
    {
     "data": {
      "text/plain": [
       "array(['No', 'Yes'], dtype=object)"
      ]
     },
     "execution_count": 69,
     "metadata": {},
     "output_type": "execute_result"
    }
   ],
   "source": [
    "# Ordinal encoding for Hyperlipidemia\n",
    "\n",
    "df.Hyperlipidemia.unique()"
   ]
  },
  {
   "cell_type": "code",
   "execution_count": 70,
   "id": "6782838b",
   "metadata": {},
   "outputs": [],
   "source": [
    "df['Hyperlipidemia_numeric'] = df['Hyperlipidemia']"
   ]
  },
  {
   "cell_type": "code",
   "execution_count": 71,
   "id": "2383d985",
   "metadata": {},
   "outputs": [],
   "source": [
    "dict_hyperlipidemia = {\"Hyperlipidemia_numeric\":{\"No\":0, \"Yes\":1}}"
   ]
  },
  {
   "cell_type": "code",
   "execution_count": 72,
   "id": "47992de1",
   "metadata": {},
   "outputs": [],
   "source": [
    "df.replace(dict_hyperlipidemia, inplace=True)"
   ]
  },
  {
   "cell_type": "code",
   "execution_count": 73,
   "id": "a5d6bd4b",
   "metadata": {},
   "outputs": [
    {
     "data": {
      "text/plain": [
       "array(['Yes', 'No'], dtype=object)"
      ]
     },
     "execution_count": 73,
     "metadata": {},
     "output_type": "execute_result"
    }
   ],
   "source": [
    "# Ordinal encoding for BackPain\n",
    "\n",
    "df.BackPain.unique()"
   ]
  },
  {
   "cell_type": "code",
   "execution_count": 74,
   "id": "6aff999c",
   "metadata": {},
   "outputs": [],
   "source": [
    "df['BackPain_numeric'] = df['BackPain']"
   ]
  },
  {
   "cell_type": "code",
   "execution_count": 75,
   "id": "ae70a4ea",
   "metadata": {},
   "outputs": [],
   "source": [
    "dict_backpain = {\"BackPain_numeric\":{\"No\":0, \"Yes\":1}}"
   ]
  },
  {
   "cell_type": "code",
   "execution_count": 76,
   "id": "4cc00e6f",
   "metadata": {},
   "outputs": [],
   "source": [
    "df.replace(dict_backpain, inplace=True)"
   ]
  },
  {
   "cell_type": "code",
   "execution_count": 77,
   "id": "82aa113e",
   "metadata": {},
   "outputs": [
    {
     "data": {
      "text/plain": [
       "array(['Yes', 'No'], dtype=object)"
      ]
     },
     "execution_count": 77,
     "metadata": {},
     "output_type": "execute_result"
    }
   ],
   "source": [
    "# Ordinal encoding for Allergic_rhinitis\n",
    "\n",
    "df.Allergic_rhinitis.unique()"
   ]
  },
  {
   "cell_type": "code",
   "execution_count": 78,
   "id": "93cbcb6e",
   "metadata": {},
   "outputs": [],
   "source": [
    "df['Allergic_rhinitis_numeric'] = df['Allergic_rhinitis']"
   ]
  },
  {
   "cell_type": "code",
   "execution_count": 79,
   "id": "227e69e0",
   "metadata": {},
   "outputs": [],
   "source": [
    "dict_Allergic_rhinitis = {\"Allergic_rhinitis_numeric\":{\"No\":0, \"Yes\":1}}"
   ]
  },
  {
   "cell_type": "code",
   "execution_count": 80,
   "id": "3a0edf12",
   "metadata": {},
   "outputs": [],
   "source": [
    "df.replace(dict_Allergic_rhinitis, inplace=True)"
   ]
  },
  {
   "cell_type": "code",
   "execution_count": 81,
   "id": "c97ea564",
   "metadata": {},
   "outputs": [
    {
     "data": {
      "text/plain": [
       "array(['No', 'Yes'], dtype=object)"
      ]
     },
     "execution_count": 81,
     "metadata": {},
     "output_type": "execute_result"
    }
   ],
   "source": [
    "# Ordinal encoding for Reflux_esophagitis\n",
    "\n",
    "df.Reflux_esophagitis.unique()"
   ]
  },
  {
   "cell_type": "code",
   "execution_count": 82,
   "id": "06dc20a3",
   "metadata": {},
   "outputs": [],
   "source": [
    "df['Reflux_esophagitis_numeric'] = df['Reflux_esophagitis']"
   ]
  },
  {
   "cell_type": "code",
   "execution_count": 83,
   "id": "b5e0a381",
   "metadata": {},
   "outputs": [],
   "source": [
    "dict_Reflux_esophagitis = {\"Reflux_esophagitis_numeric\":{\"No\":0, \"Yes\":1}}"
   ]
  },
  {
   "cell_type": "code",
   "execution_count": 84,
   "id": "bcd743be",
   "metadata": {},
   "outputs": [],
   "source": [
    "df.replace(dict_Reflux_esophagitis, inplace=True)"
   ]
  },
  {
   "cell_type": "code",
   "execution_count": 85,
   "id": "a61932cf",
   "metadata": {},
   "outputs": [
    {
     "data": {
      "text/plain": [
       "array(['Yes', 'No'], dtype=object)"
      ]
     },
     "execution_count": 85,
     "metadata": {},
     "output_type": "execute_result"
    }
   ],
   "source": [
    "# Ordinal encoding for Asthma\n",
    "\n",
    "df.Asthma.unique()"
   ]
  },
  {
   "cell_type": "code",
   "execution_count": 86,
   "id": "7dfe7137",
   "metadata": {},
   "outputs": [],
   "source": [
    "df['Asthma_numeric'] = df['Asthma']"
   ]
  },
  {
   "cell_type": "code",
   "execution_count": 87,
   "id": "b3d8dcdb",
   "metadata": {},
   "outputs": [],
   "source": [
    "dict_Asthma = {\"Asthma_numeric\":{\"No\":0, \"Yes\":1}}"
   ]
  },
  {
   "cell_type": "code",
   "execution_count": 88,
   "id": "373edef2",
   "metadata": {},
   "outputs": [],
   "source": [
    "df.replace(dict_Asthma, inplace=True)"
   ]
  },
  {
   "cell_type": "code",
   "execution_count": 89,
   "id": "bef2c7e3",
   "metadata": {},
   "outputs": [
    {
     "data": {
      "text/plain": [
       "array([0, 'No', 'Yes'], dtype=object)"
      ]
     },
     "execution_count": 89,
     "metadata": {},
     "output_type": "execute_result"
    }
   ],
   "source": [
    "df.Soft_drink.unique()"
   ]
  },
  {
   "cell_type": "code",
   "execution_count": 90,
   "id": "0d875a35",
   "metadata": {},
   "outputs": [],
   "source": [
    "df['Soft_drink_numeric'] = df['Soft_drink']"
   ]
  },
  {
   "cell_type": "code",
   "execution_count": 91,
   "id": "4dd577c5",
   "metadata": {},
   "outputs": [],
   "source": [
    "dict_Soft_drink = {\"Soft_drink_numeric\":{\"No\":0, \"Yes\":1}}"
   ]
  },
  {
   "cell_type": "code",
   "execution_count": 92,
   "id": "67cc60d0",
   "metadata": {},
   "outputs": [],
   "source": [
    "df.replace(dict_Soft_drink, inplace=True)"
   ]
  },
  {
   "cell_type": "code",
   "execution_count": 93,
   "id": "e23e8cb4",
   "metadata": {},
   "outputs": [],
   "source": [
    "# Rounding Age\n",
    "\n",
    "df['Age'] = np.rint(df.Age).astype(int)"
   ]
  },
  {
   "cell_type": "code",
   "execution_count": 94,
   "id": "af94380c",
   "metadata": {},
   "outputs": [
    {
     "name": "stdout",
     "output_type": "stream",
     "text": [
      "<class 'pandas.core.frame.DataFrame'>\n",
      "Index: 10000 entries, 1 to 10000\n",
      "Data columns (total 63 columns):\n",
      " #   Column                      Non-Null Count  Dtype  \n",
      "---  ------                      --------------  -----  \n",
      " 0   CaseOrder                   10000 non-null  int64  \n",
      " 1   Customer_id                 10000 non-null  object \n",
      " 2   Interaction                 10000 non-null  object \n",
      " 3   UID                         10000 non-null  object \n",
      " 4   City                        10000 non-null  object \n",
      " 5   State                       10000 non-null  object \n",
      " 6   County                      10000 non-null  object \n",
      " 7   Zip                         10000 non-null  int64  \n",
      " 8   Lat                         10000 non-null  float64\n",
      " 9   Lng                         10000 non-null  float64\n",
      " 10  Population                  10000 non-null  int64  \n",
      " 11  Area                        10000 non-null  object \n",
      " 12  Timezone                    10000 non-null  object \n",
      " 13  Job                         10000 non-null  object \n",
      " 14  Children                    10000 non-null  float64\n",
      " 15  Age                         10000 non-null  int32  \n",
      " 16  Education                   10000 non-null  object \n",
      " 17  Employment                  10000 non-null  object \n",
      " 18  Income                      10000 non-null  float64\n",
      " 19  Marital                     10000 non-null  object \n",
      " 20  Gender                      10000 non-null  object \n",
      " 21  ReAdmis                     10000 non-null  object \n",
      " 22  VitD_levels                 10000 non-null  float64\n",
      " 23  Doc_visits                  10000 non-null  int64  \n",
      " 24  Full_meals_eaten            10000 non-null  int64  \n",
      " 25  VitD_supp                   10000 non-null  int64  \n",
      " 26  Soft_drink                  10000 non-null  object \n",
      " 27  Initial_admin               10000 non-null  object \n",
      " 28  HighBlood                   10000 non-null  object \n",
      " 29  Stroke                      10000 non-null  object \n",
      " 30  Complication_risk           10000 non-null  object \n",
      " 31  Overweight                  10000 non-null  float64\n",
      " 32  Arthritis                   10000 non-null  object \n",
      " 33  Diabetes                    10000 non-null  object \n",
      " 34  Hyperlipidemia              10000 non-null  object \n",
      " 35  BackPain                    10000 non-null  object \n",
      " 36  Anxiety                     10000 non-null  float64\n",
      " 37  Allergic_rhinitis           10000 non-null  object \n",
      " 38  Reflux_esophagitis          10000 non-null  object \n",
      " 39  Asthma                      10000 non-null  object \n",
      " 40  Services                    10000 non-null  object \n",
      " 41  Initial_days                10000 non-null  float64\n",
      " 42  TotalCharge                 10000 non-null  float64\n",
      " 43  Additional_charges          10000 non-null  float64\n",
      " 44  Item1                       10000 non-null  int64  \n",
      " 45  Item2                       10000 non-null  int64  \n",
      " 46  Item3                       10000 non-null  int64  \n",
      " 47  Item4                       10000 non-null  int64  \n",
      " 48  Item5                       10000 non-null  int64  \n",
      " 49  Item6                       10000 non-null  int64  \n",
      " 50  Item7                       10000 non-null  int64  \n",
      " 51  Item8                       10000 non-null  int64  \n",
      " 52  Z_Score_Children            10000 non-null  float64\n",
      " 53  Z_Score_Income              10000 non-null  float64\n",
      " 54  Z_Score_Initial_days        10000 non-null  float64\n",
      " 55  Arthritis_numeric           10000 non-null  int64  \n",
      " 56  Diabetes_numeric            10000 non-null  int64  \n",
      " 57  Hyperlipidemia_numeric      10000 non-null  int64  \n",
      " 58  BackPain_numeric            10000 non-null  int64  \n",
      " 59  Allergic_rhinitis_numeric   10000 non-null  int64  \n",
      " 60  Reflux_esophagitis_numeric  10000 non-null  int64  \n",
      " 61  Asthma_numeric              10000 non-null  int64  \n",
      " 62  Soft_drink_numeric          10000 non-null  int64  \n",
      "dtypes: float64(13), int32(1), int64(22), object(27)\n",
      "memory usage: 4.8+ MB\n"
     ]
    }
   ],
   "source": [
    "df.info()"
   ]
  },
  {
   "cell_type": "code",
   "execution_count": 95,
   "id": "32fd569b",
   "metadata": {},
   "outputs": [
    {
     "data": {
      "text/html": [
       "<div>\n",
       "<style scoped>\n",
       "    .dataframe tbody tr th:only-of-type {\n",
       "        vertical-align: middle;\n",
       "    }\n",
       "\n",
       "    .dataframe tbody tr th {\n",
       "        vertical-align: top;\n",
       "    }\n",
       "\n",
       "    .dataframe thead th {\n",
       "        text-align: right;\n",
       "    }\n",
       "</style>\n",
       "<table border=\"1\" class=\"dataframe\">\n",
       "  <thead>\n",
       "    <tr style=\"text-align: right;\">\n",
       "      <th></th>\n",
       "      <th>CaseOrder</th>\n",
       "      <th>Customer_id</th>\n",
       "      <th>Interaction</th>\n",
       "      <th>UID</th>\n",
       "      <th>City</th>\n",
       "      <th>State</th>\n",
       "      <th>County</th>\n",
       "      <th>Zip</th>\n",
       "      <th>Lat</th>\n",
       "      <th>Lng</th>\n",
       "      <th>...</th>\n",
       "      <th>Z_Score_Income</th>\n",
       "      <th>Z_Score_Initial_days</th>\n",
       "      <th>Arthritis_numeric</th>\n",
       "      <th>Diabetes_numeric</th>\n",
       "      <th>Hyperlipidemia_numeric</th>\n",
       "      <th>BackPain_numeric</th>\n",
       "      <th>Allergic_rhinitis_numeric</th>\n",
       "      <th>Reflux_esophagitis_numeric</th>\n",
       "      <th>Asthma_numeric</th>\n",
       "      <th>Soft_drink_numeric</th>\n",
       "    </tr>\n",
       "  </thead>\n",
       "  <tbody>\n",
       "    <tr>\n",
       "      <th>1</th>\n",
       "      <td>1</td>\n",
       "      <td>C412403</td>\n",
       "      <td>8cd49b13-f45a-4b47-a2bd-173ffa932c2f</td>\n",
       "      <td>3a83ddb66e2ae73798bdf1d705dc0932</td>\n",
       "      <td>Eva</td>\n",
       "      <td>AL</td>\n",
       "      <td>Morgan</td>\n",
       "      <td>35621</td>\n",
       "      <td>34.34960</td>\n",
       "      <td>-86.72508</td>\n",
       "      <td>...</td>\n",
       "      <td>1.904974</td>\n",
       "      <td>-0.959326</td>\n",
       "      <td>1</td>\n",
       "      <td>1</td>\n",
       "      <td>0</td>\n",
       "      <td>1</td>\n",
       "      <td>1</td>\n",
       "      <td>0</td>\n",
       "      <td>1</td>\n",
       "      <td>0</td>\n",
       "    </tr>\n",
       "    <tr>\n",
       "      <th>2</th>\n",
       "      <td>2</td>\n",
       "      <td>Z919181</td>\n",
       "      <td>d2450b70-0337-4406-bdbb-bc1037f1734c</td>\n",
       "      <td>176354c5eef714957d486009feabf195</td>\n",
       "      <td>Marianna</td>\n",
       "      <td>FL</td>\n",
       "      <td>Jackson</td>\n",
       "      <td>32446</td>\n",
       "      <td>30.84513</td>\n",
       "      <td>-85.22907</td>\n",
       "      <td>...</td>\n",
       "      <td>0.316815</td>\n",
       "      <td>-0.776544</td>\n",
       "      <td>0</td>\n",
       "      <td>0</td>\n",
       "      <td>0</td>\n",
       "      <td>0</td>\n",
       "      <td>0</td>\n",
       "      <td>1</td>\n",
       "      <td>0</td>\n",
       "      <td>0</td>\n",
       "    </tr>\n",
       "    <tr>\n",
       "      <th>3</th>\n",
       "      <td>3</td>\n",
       "      <td>F995323</td>\n",
       "      <td>a2057123-abf5-4a2c-abad-8ffe33512562</td>\n",
       "      <td>e19a0fa00aeda885b8a436757e889bc9</td>\n",
       "      <td>Sioux Falls</td>\n",
       "      <td>SD</td>\n",
       "      <td>Minnehaha</td>\n",
       "      <td>57110</td>\n",
       "      <td>43.54321</td>\n",
       "      <td>-96.63772</td>\n",
       "      <td>...</td>\n",
       "      <td>-0.978466</td>\n",
       "      <td>-1.193189</td>\n",
       "      <td>0</td>\n",
       "      <td>1</td>\n",
       "      <td>0</td>\n",
       "      <td>0</td>\n",
       "      <td>0</td>\n",
       "      <td>0</td>\n",
       "      <td>0</td>\n",
       "      <td>0</td>\n",
       "    </tr>\n",
       "    <tr>\n",
       "      <th>4</th>\n",
       "      <td>4</td>\n",
       "      <td>A879973</td>\n",
       "      <td>1dec528d-eb34-4079-adce-0d7a40e82205</td>\n",
       "      <td>cd17d7b6d152cb6f23957346d11c3f07</td>\n",
       "      <td>New Richland</td>\n",
       "      <td>MN</td>\n",
       "      <td>Waseca</td>\n",
       "      <td>56072</td>\n",
       "      <td>43.89744</td>\n",
       "      <td>-93.51479</td>\n",
       "      <td>...</td>\n",
       "      <td>0.034704</td>\n",
       "      <td>-1.316175</td>\n",
       "      <td>1</td>\n",
       "      <td>0</td>\n",
       "      <td>0</td>\n",
       "      <td>0</td>\n",
       "      <td>0</td>\n",
       "      <td>1</td>\n",
       "      <td>1</td>\n",
       "      <td>0</td>\n",
       "    </tr>\n",
       "    <tr>\n",
       "      <th>5</th>\n",
       "      <td>5</td>\n",
       "      <td>C544523</td>\n",
       "      <td>5885f56b-d6da-43a3-8760-83583af94266</td>\n",
       "      <td>d2f0425877b10ed6bb381f3e2579424a</td>\n",
       "      <td>West Point</td>\n",
       "      <td>VA</td>\n",
       "      <td>King William</td>\n",
       "      <td>23181</td>\n",
       "      <td>37.59894</td>\n",
       "      <td>-76.88958</td>\n",
       "      <td>...</td>\n",
       "      <td>-1.504016</td>\n",
       "      <td>-1.334682</td>\n",
       "      <td>0</td>\n",
       "      <td>0</td>\n",
       "      <td>1</td>\n",
       "      <td>0</td>\n",
       "      <td>1</td>\n",
       "      <td>0</td>\n",
       "      <td>0</td>\n",
       "      <td>1</td>\n",
       "    </tr>\n",
       "    <tr>\n",
       "      <th>...</th>\n",
       "      <td>...</td>\n",
       "      <td>...</td>\n",
       "      <td>...</td>\n",
       "      <td>...</td>\n",
       "      <td>...</td>\n",
       "      <td>...</td>\n",
       "      <td>...</td>\n",
       "      <td>...</td>\n",
       "      <td>...</td>\n",
       "      <td>...</td>\n",
       "      <td>...</td>\n",
       "      <td>...</td>\n",
       "      <td>...</td>\n",
       "      <td>...</td>\n",
       "      <td>...</td>\n",
       "      <td>...</td>\n",
       "      <td>...</td>\n",
       "      <td>...</td>\n",
       "      <td>...</td>\n",
       "      <td>...</td>\n",
       "      <td>...</td>\n",
       "    </tr>\n",
       "    <tr>\n",
       "      <th>9996</th>\n",
       "      <td>9996</td>\n",
       "      <td>B863060</td>\n",
       "      <td>a25b594d-0328-486f-a9b9-0567eb0f9723</td>\n",
       "      <td>39184dc28cc038871912ccc4500049e5</td>\n",
       "      <td>Norlina</td>\n",
       "      <td>NC</td>\n",
       "      <td>Warren</td>\n",
       "      <td>27563</td>\n",
       "      <td>36.42886</td>\n",
       "      <td>-78.23716</td>\n",
       "      <td>...</td>\n",
       "      <td>0.283336</td>\n",
       "      <td>0.688989</td>\n",
       "      <td>0</td>\n",
       "      <td>0</td>\n",
       "      <td>0</td>\n",
       "      <td>0</td>\n",
       "      <td>0</td>\n",
       "      <td>1</td>\n",
       "      <td>0</td>\n",
       "      <td>0</td>\n",
       "    </tr>\n",
       "    <tr>\n",
       "      <th>9997</th>\n",
       "      <td>9997</td>\n",
       "      <td>P712040</td>\n",
       "      <td>70711574-f7b1-4a17-b15f-48c54564b70f</td>\n",
       "      <td>3cd124ccd43147404292e883bf9ec55c</td>\n",
       "      <td>Milmay</td>\n",
       "      <td>NJ</td>\n",
       "      <td>Atlantic</td>\n",
       "      <td>8340</td>\n",
       "      <td>39.43609</td>\n",
       "      <td>-74.87302</td>\n",
       "      <td>...</td>\n",
       "      <td>-0.953992</td>\n",
       "      <td>1.377151</td>\n",
       "      <td>1</td>\n",
       "      <td>1</td>\n",
       "      <td>0</td>\n",
       "      <td>0</td>\n",
       "      <td>0</td>\n",
       "      <td>0</td>\n",
       "      <td>1</td>\n",
       "      <td>0</td>\n",
       "    </tr>\n",
       "    <tr>\n",
       "      <th>9998</th>\n",
       "      <td>9998</td>\n",
       "      <td>R778890</td>\n",
       "      <td>1d79569d-8e0f-4180-a207-d67ee4527d26</td>\n",
       "      <td>41b770aeee97a5b9e7f69c906a8119d7</td>\n",
       "      <td>Southside</td>\n",
       "      <td>TN</td>\n",
       "      <td>Montgomery</td>\n",
       "      <td>37171</td>\n",
       "      <td>36.36655</td>\n",
       "      <td>-87.29988</td>\n",
       "      <td>...</td>\n",
       "      <td>1.080020</td>\n",
       "      <td>0.000535</td>\n",
       "      <td>0</td>\n",
       "      <td>0</td>\n",
       "      <td>0</td>\n",
       "      <td>0</td>\n",
       "      <td>1</td>\n",
       "      <td>0</td>\n",
       "      <td>0</td>\n",
       "      <td>1</td>\n",
       "    </tr>\n",
       "    <tr>\n",
       "      <th>9999</th>\n",
       "      <td>9999</td>\n",
       "      <td>E344109</td>\n",
       "      <td>f5a68e69-2a60-409b-a92f-ac0847b27db0</td>\n",
       "      <td>2bb491ef5b1beb1fed758cc6885c167a</td>\n",
       "      <td>Quinn</td>\n",
       "      <td>SD</td>\n",
       "      <td>Pennington</td>\n",
       "      <td>57775</td>\n",
       "      <td>44.10354</td>\n",
       "      <td>-102.01593</td>\n",
       "      <td>...</td>\n",
       "      <td>-0.366197</td>\n",
       "      <td>1.163493</td>\n",
       "      <td>0</td>\n",
       "      <td>0</td>\n",
       "      <td>0</td>\n",
       "      <td>1</td>\n",
       "      <td>0</td>\n",
       "      <td>0</td>\n",
       "      <td>0</td>\n",
       "      <td>0</td>\n",
       "    </tr>\n",
       "    <tr>\n",
       "      <th>10000</th>\n",
       "      <td>10000</td>\n",
       "      <td>I569847</td>\n",
       "      <td>bc482c02-f8c9-4423-99de-3db5e62a18d5</td>\n",
       "      <td>95663a202338000abdf7e09311c2a8a1</td>\n",
       "      <td>Coraopolis</td>\n",
       "      <td>PA</td>\n",
       "      <td>Allegheny</td>\n",
       "      <td>15108</td>\n",
       "      <td>40.49998</td>\n",
       "      <td>-80.19959</td>\n",
       "      <td>...</td>\n",
       "      <td>0.950827</td>\n",
       "      <td>1.464941</td>\n",
       "      <td>1</td>\n",
       "      <td>0</td>\n",
       "      <td>1</td>\n",
       "      <td>0</td>\n",
       "      <td>1</td>\n",
       "      <td>0</td>\n",
       "      <td>0</td>\n",
       "      <td>0</td>\n",
       "    </tr>\n",
       "  </tbody>\n",
       "</table>\n",
       "<p>10000 rows × 63 columns</p>\n",
       "</div>"
      ],
      "text/plain": [
       "       CaseOrder Customer_id                           Interaction  \\\n",
       "1              1     C412403  8cd49b13-f45a-4b47-a2bd-173ffa932c2f   \n",
       "2              2     Z919181  d2450b70-0337-4406-bdbb-bc1037f1734c   \n",
       "3              3     F995323  a2057123-abf5-4a2c-abad-8ffe33512562   \n",
       "4              4     A879973  1dec528d-eb34-4079-adce-0d7a40e82205   \n",
       "5              5     C544523  5885f56b-d6da-43a3-8760-83583af94266   \n",
       "...          ...         ...                                   ...   \n",
       "9996        9996     B863060  a25b594d-0328-486f-a9b9-0567eb0f9723   \n",
       "9997        9997     P712040  70711574-f7b1-4a17-b15f-48c54564b70f   \n",
       "9998        9998     R778890  1d79569d-8e0f-4180-a207-d67ee4527d26   \n",
       "9999        9999     E344109  f5a68e69-2a60-409b-a92f-ac0847b27db0   \n",
       "10000      10000     I569847  bc482c02-f8c9-4423-99de-3db5e62a18d5   \n",
       "\n",
       "                                    UID          City State        County  \\\n",
       "1      3a83ddb66e2ae73798bdf1d705dc0932           Eva    AL        Morgan   \n",
       "2      176354c5eef714957d486009feabf195      Marianna    FL       Jackson   \n",
       "3      e19a0fa00aeda885b8a436757e889bc9   Sioux Falls    SD     Minnehaha   \n",
       "4      cd17d7b6d152cb6f23957346d11c3f07  New Richland    MN        Waseca   \n",
       "5      d2f0425877b10ed6bb381f3e2579424a    West Point    VA  King William   \n",
       "...                                 ...           ...   ...           ...   \n",
       "9996   39184dc28cc038871912ccc4500049e5       Norlina    NC        Warren   \n",
       "9997   3cd124ccd43147404292e883bf9ec55c        Milmay    NJ      Atlantic   \n",
       "9998   41b770aeee97a5b9e7f69c906a8119d7     Southside    TN    Montgomery   \n",
       "9999   2bb491ef5b1beb1fed758cc6885c167a         Quinn    SD    Pennington   \n",
       "10000  95663a202338000abdf7e09311c2a8a1    Coraopolis    PA     Allegheny   \n",
       "\n",
       "         Zip       Lat        Lng  ...  Z_Score_Income Z_Score_Initial_days  \\\n",
       "1      35621  34.34960  -86.72508  ...        1.904974            -0.959326   \n",
       "2      32446  30.84513  -85.22907  ...        0.316815            -0.776544   \n",
       "3      57110  43.54321  -96.63772  ...       -0.978466            -1.193189   \n",
       "4      56072  43.89744  -93.51479  ...        0.034704            -1.316175   \n",
       "5      23181  37.59894  -76.88958  ...       -1.504016            -1.334682   \n",
       "...      ...       ...        ...  ...             ...                  ...   \n",
       "9996   27563  36.42886  -78.23716  ...        0.283336             0.688989   \n",
       "9997    8340  39.43609  -74.87302  ...       -0.953992             1.377151   \n",
       "9998   37171  36.36655  -87.29988  ...        1.080020             0.000535   \n",
       "9999   57775  44.10354 -102.01593  ...       -0.366197             1.163493   \n",
       "10000  15108  40.49998  -80.19959  ...        0.950827             1.464941   \n",
       "\n",
       "      Arthritis_numeric Diabetes_numeric  Hyperlipidemia_numeric  \\\n",
       "1                     1                1                       0   \n",
       "2                     0                0                       0   \n",
       "3                     0                1                       0   \n",
       "4                     1                0                       0   \n",
       "5                     0                0                       1   \n",
       "...                 ...              ...                     ...   \n",
       "9996                  0                0                       0   \n",
       "9997                  1                1                       0   \n",
       "9998                  0                0                       0   \n",
       "9999                  0                0                       0   \n",
       "10000                 1                0                       1   \n",
       "\n",
       "       BackPain_numeric Allergic_rhinitis_numeric Reflux_esophagitis_numeric  \\\n",
       "1                     1                         1                          0   \n",
       "2                     0                         0                          1   \n",
       "3                     0                         0                          0   \n",
       "4                     0                         0                          1   \n",
       "5                     0                         1                          0   \n",
       "...                 ...                       ...                        ...   \n",
       "9996                  0                         0                          1   \n",
       "9997                  0                         0                          0   \n",
       "9998                  0                         1                          0   \n",
       "9999                  1                         0                          0   \n",
       "10000                 0                         1                          0   \n",
       "\n",
       "       Asthma_numeric Soft_drink_numeric  \n",
       "1                   1                  0  \n",
       "2                   0                  0  \n",
       "3                   0                  0  \n",
       "4                   1                  0  \n",
       "5                   0                  1  \n",
       "...               ...                ...  \n",
       "9996                0                  0  \n",
       "9997                1                  0  \n",
       "9998                0                  1  \n",
       "9999                0                  0  \n",
       "10000               0                  0  \n",
       "\n",
       "[10000 rows x 63 columns]"
      ]
     },
     "execution_count": 95,
     "metadata": {},
     "output_type": "execute_result"
    }
   ],
   "source": [
    "df"
   ]
  },
  {
   "cell_type": "code",
   "execution_count": 96,
   "id": "44707312",
   "metadata": {},
   "outputs": [],
   "source": [
    "df.to_csv(\"D206_csv_submission_final.csv\")"
   ]
  },
  {
   "cell_type": "code",
   "execution_count": 97,
   "id": "ce6cf777",
   "metadata": {},
   "outputs": [],
   "source": [
    "# Variables for PCA: Population, Income, VitD_levels, initial_days, TotalCharge, Additional_charges\n",
    "# Creating a variable for the PCA values\n",
    "\n",
    "pca_data = df [['Population', 'Income', 'VitD_levels', 'Initial_days', 'TotalCharge', 'Additional_charges']]"
   ]
  },
  {
   "cell_type": "code",
   "execution_count": 98,
   "id": "e77fc2df",
   "metadata": {},
   "outputs": [],
   "source": [
    "# Normalize using Mean Normalization\n",
    "\n",
    "pca_data_normalized = (pca_data-pca_data.mean())/pca_data.std()"
   ]
  },
  {
   "cell_type": "code",
   "execution_count": 99,
   "id": "308a2c40",
   "metadata": {},
   "outputs": [],
   "source": [
    "# Shaping the data\n",
    "\n",
    "pca = PCA(n_components=pca_data.shape[1])"
   ]
  },
  {
   "cell_type": "code",
   "execution_count": 100,
   "id": "edffea8a",
   "metadata": {},
   "outputs": [
    {
     "data": {
      "text/html": [
       "<style>#sk-container-id-1 {color: black;}#sk-container-id-1 pre{padding: 0;}#sk-container-id-1 div.sk-toggleable {background-color: white;}#sk-container-id-1 label.sk-toggleable__label {cursor: pointer;display: block;width: 100%;margin-bottom: 0;padding: 0.3em;box-sizing: border-box;text-align: center;}#sk-container-id-1 label.sk-toggleable__label-arrow:before {content: \"▸\";float: left;margin-right: 0.25em;color: #696969;}#sk-container-id-1 label.sk-toggleable__label-arrow:hover:before {color: black;}#sk-container-id-1 div.sk-estimator:hover label.sk-toggleable__label-arrow:before {color: black;}#sk-container-id-1 div.sk-toggleable__content {max-height: 0;max-width: 0;overflow: hidden;text-align: left;background-color: #f0f8ff;}#sk-container-id-1 div.sk-toggleable__content pre {margin: 0.2em;color: black;border-radius: 0.25em;background-color: #f0f8ff;}#sk-container-id-1 input.sk-toggleable__control:checked~div.sk-toggleable__content {max-height: 200px;max-width: 100%;overflow: auto;}#sk-container-id-1 input.sk-toggleable__control:checked~label.sk-toggleable__label-arrow:before {content: \"▾\";}#sk-container-id-1 div.sk-estimator input.sk-toggleable__control:checked~label.sk-toggleable__label {background-color: #d4ebff;}#sk-container-id-1 div.sk-label input.sk-toggleable__control:checked~label.sk-toggleable__label {background-color: #d4ebff;}#sk-container-id-1 input.sk-hidden--visually {border: 0;clip: rect(1px 1px 1px 1px);clip: rect(1px, 1px, 1px, 1px);height: 1px;margin: -1px;overflow: hidden;padding: 0;position: absolute;width: 1px;}#sk-container-id-1 div.sk-estimator {font-family: monospace;background-color: #f0f8ff;border: 1px dotted black;border-radius: 0.25em;box-sizing: border-box;margin-bottom: 0.5em;}#sk-container-id-1 div.sk-estimator:hover {background-color: #d4ebff;}#sk-container-id-1 div.sk-parallel-item::after {content: \"\";width: 100%;border-bottom: 1px solid gray;flex-grow: 1;}#sk-container-id-1 div.sk-label:hover label.sk-toggleable__label {background-color: #d4ebff;}#sk-container-id-1 div.sk-serial::before {content: \"\";position: absolute;border-left: 1px solid gray;box-sizing: border-box;top: 0;bottom: 0;left: 50%;z-index: 0;}#sk-container-id-1 div.sk-serial {display: flex;flex-direction: column;align-items: center;background-color: white;padding-right: 0.2em;padding-left: 0.2em;position: relative;}#sk-container-id-1 div.sk-item {position: relative;z-index: 1;}#sk-container-id-1 div.sk-parallel {display: flex;align-items: stretch;justify-content: center;background-color: white;position: relative;}#sk-container-id-1 div.sk-item::before, #sk-container-id-1 div.sk-parallel-item::before {content: \"\";position: absolute;border-left: 1px solid gray;box-sizing: border-box;top: 0;bottom: 0;left: 50%;z-index: -1;}#sk-container-id-1 div.sk-parallel-item {display: flex;flex-direction: column;z-index: 1;position: relative;background-color: white;}#sk-container-id-1 div.sk-parallel-item:first-child::after {align-self: flex-end;width: 50%;}#sk-container-id-1 div.sk-parallel-item:last-child::after {align-self: flex-start;width: 50%;}#sk-container-id-1 div.sk-parallel-item:only-child::after {width: 0;}#sk-container-id-1 div.sk-dashed-wrapped {border: 1px dashed gray;margin: 0 0.4em 0.5em 0.4em;box-sizing: border-box;padding-bottom: 0.4em;background-color: white;}#sk-container-id-1 div.sk-label label {font-family: monospace;font-weight: bold;display: inline-block;line-height: 1.2em;}#sk-container-id-1 div.sk-label-container {text-align: center;}#sk-container-id-1 div.sk-container {/* jupyter's `normalize.less` sets `[hidden] { display: none; }` but bootstrap.min.css set `[hidden] { display: none !important; }` so we also need the `!important` here to be able to override the default hidden behavior on the sphinx rendered scikit-learn.org. See: https://github.com/scikit-learn/scikit-learn/issues/21755 */display: inline-block !important;position: relative;}#sk-container-id-1 div.sk-text-repr-fallback {display: none;}</style><div id=\"sk-container-id-1\" class=\"sk-top-container\"><div class=\"sk-text-repr-fallback\"><pre>PCA(n_components=6)</pre><b>In a Jupyter environment, please rerun this cell to show the HTML representation or trust the notebook. <br />On GitHub, the HTML representation is unable to render, please try loading this page with nbviewer.org.</b></div><div class=\"sk-container\" hidden><div class=\"sk-item\"><div class=\"sk-estimator sk-toggleable\"><input class=\"sk-toggleable__control sk-hidden--visually\" id=\"sk-estimator-id-1\" type=\"checkbox\" checked><label for=\"sk-estimator-id-1\" class=\"sk-toggleable__label sk-toggleable__label-arrow\">PCA</label><div class=\"sk-toggleable__content\"><pre>PCA(n_components=6)</pre></div></div></div></div></div>"
      ],
      "text/plain": [
       "PCA(n_components=6)"
      ]
     },
     "execution_count": 100,
     "metadata": {},
     "output_type": "execute_result"
    }
   ],
   "source": [
    "# Fit the data\n",
    "\n",
    "pca.fit(pca_data_normalized)"
   ]
  },
  {
   "cell_type": "code",
   "execution_count": 101,
   "id": "f842a66c",
   "metadata": {},
   "outputs": [],
   "source": [
    "# Transform the pca into a DataFrame\n",
    "\n",
    "pca_data_pca = pd.DataFrame(pca.transform(pca_data_normalized))\n",
    "columns = ['PC1', 'PC2', 'PC3', 'PC4', 'PC5', 'PC6']"
   ]
  },
  {
   "cell_type": "code",
   "execution_count": 102,
   "id": "ed159ecd",
   "metadata": {},
   "outputs": [],
   "source": [
    "# Match columns and create index\n",
    "\n",
    "loadings = pd.DataFrame(pca.components_.T,\n",
    "columns = ['PC1', 'PC2', 'PC3', 'PC4', 'PC5', 'PC6'],\n",
    "index=pca_data.columns)"
   ]
  },
  {
   "cell_type": "code",
   "execution_count": 103,
   "id": "b04a6342",
   "metadata": {},
   "outputs": [
    {
     "data": {
      "text/html": [
       "<div>\n",
       "<style scoped>\n",
       "    .dataframe tbody tr th:only-of-type {\n",
       "        vertical-align: middle;\n",
       "    }\n",
       "\n",
       "    .dataframe tbody tr th {\n",
       "        vertical-align: top;\n",
       "    }\n",
       "\n",
       "    .dataframe thead th {\n",
       "        text-align: right;\n",
       "    }\n",
       "</style>\n",
       "<table border=\"1\" class=\"dataframe\">\n",
       "  <thead>\n",
       "    <tr style=\"text-align: right;\">\n",
       "      <th></th>\n",
       "      <th>PC1</th>\n",
       "      <th>PC2</th>\n",
       "      <th>PC3</th>\n",
       "      <th>PC4</th>\n",
       "      <th>PC5</th>\n",
       "      <th>PC6</th>\n",
       "    </tr>\n",
       "  </thead>\n",
       "  <tbody>\n",
       "    <tr>\n",
       "      <th>Population</th>\n",
       "      <td>0.021913</td>\n",
       "      <td>-0.476342</td>\n",
       "      <td>0.536130</td>\n",
       "      <td>0.467200</td>\n",
       "      <td>0.516628</td>\n",
       "      <td>-0.001460</td>\n",
       "    </tr>\n",
       "    <tr>\n",
       "      <th>Income</th>\n",
       "      <td>0.003322</td>\n",
       "      <td>0.278130</td>\n",
       "      <td>0.764748</td>\n",
       "      <td>-0.581079</td>\n",
       "      <td>-0.011831</td>\n",
       "      <td>-0.000208</td>\n",
       "    </tr>\n",
       "    <tr>\n",
       "      <th>VitD_levels</th>\n",
       "      <td>0.544139</td>\n",
       "      <td>0.402823</td>\n",
       "      <td>-0.132610</td>\n",
       "      <td>0.011487</td>\n",
       "      <td>0.477098</td>\n",
       "      <td>0.544340</td>\n",
       "    </tr>\n",
       "    <tr>\n",
       "      <th>Initial_days</th>\n",
       "      <td>0.450285</td>\n",
       "      <td>-0.502739</td>\n",
       "      <td>0.130198</td>\n",
       "      <td>-0.055336</td>\n",
       "      <td>-0.566431</td>\n",
       "      <td>0.451265</td>\n",
       "    </tr>\n",
       "    <tr>\n",
       "      <th>TotalCharge</th>\n",
       "      <td>0.706957</td>\n",
       "      <td>0.001436</td>\n",
       "      <td>-0.013839</td>\n",
       "      <td>-0.013141</td>\n",
       "      <td>-0.004416</td>\n",
       "      <td>-0.706983</td>\n",
       "    </tr>\n",
       "    <tr>\n",
       "      <th>Additional_charges</th>\n",
       "      <td>0.029599</td>\n",
       "      <td>0.529836</td>\n",
       "      <td>0.304953</td>\n",
       "      <td>0.663856</td>\n",
       "      <td>-0.429500</td>\n",
       "      <td>0.015048</td>\n",
       "    </tr>\n",
       "  </tbody>\n",
       "</table>\n",
       "</div>"
      ],
      "text/plain": [
       "                         PC1       PC2       PC3       PC4       PC5       PC6\n",
       "Population          0.021913 -0.476342  0.536130  0.467200  0.516628 -0.001460\n",
       "Income              0.003322  0.278130  0.764748 -0.581079 -0.011831 -0.000208\n",
       "VitD_levels         0.544139  0.402823 -0.132610  0.011487  0.477098  0.544340\n",
       "Initial_days        0.450285 -0.502739  0.130198 -0.055336 -0.566431  0.451265\n",
       "TotalCharge         0.706957  0.001436 -0.013839 -0.013141 -0.004416 -0.706983\n",
       "Additional_charges  0.029599  0.529836  0.304953  0.663856 -0.429500  0.015048"
      ]
     },
     "execution_count": 103,
     "metadata": {},
     "output_type": "execute_result"
    }
   ],
   "source": [
    "# Show loadings\n",
    "\n",
    "loadings"
   ]
  },
  {
   "cell_type": "code",
   "execution_count": 104,
   "id": "424f960c",
   "metadata": {},
   "outputs": [],
   "source": [
    "# Create covariance\n",
    "\n",
    "cov_matrix = np.dot(pca_data_normalized.T, pca_data_normalized) / pca_data.shape[0]"
   ]
  },
  {
   "cell_type": "code",
   "execution_count": 105,
   "id": "2b32b4b2",
   "metadata": {},
   "outputs": [],
   "source": [
    "# Eigenvalues\n",
    "\n",
    "eigenvalues = [np.dot(eigenvector.T, np.dot(cov_matrix, eigenvector)) for eigenvector in pca.components_]"
   ]
  },
  {
   "cell_type": "code",
   "execution_count": 106,
   "id": "79221582",
   "metadata": {},
   "outputs": [
    {
     "data": {
      "text/plain": [
       "<matplotlib.lines.Line2D at 0x1e3d0cae450>"
      ]
     },
     "execution_count": 106,
     "metadata": {},
     "output_type": "execute_result"
    },
    {
     "data": {
      "image/png": "[encoded data removed]",
      "text/plain": [
       "<Figure size 640x480 with 1 Axes>"
      ]
     },
     "metadata": {},
     "output_type": "display_data"
    }
   ],
   "source": [
    "# Make Scree Plot using eigenvalues\n",
    "\n",
    "plt.plot(eigenvalues)\n",
    "plt.xlabel('# of Components')\n",
    "plt.ylabel('Eigenvalues')\n",
    "plt.axhline(y=1, color=\"red\")"
   ]
  },
  {
   "cell_type": "code",
   "execution_count": 107,
   "id": "43315851",
   "metadata": {},
   "outputs": [
    {
     "name": "stdout",
     "output_type": "stream",
     "text": [
      "1.946154650981248\n",
      "1.0254898644048238\n",
      "1.0028072726566966\n",
      "0.9889782204874089\n"
     ]
    }
   ],
   "source": [
    "# Keep all PCs that have an eigenvalue of 1 or greater than 1 (Kaiser rule)\n",
    "\n",
    "print(eigenvalues[0])\n",
    "print(eigenvalues[1])\n",
    "print(eigenvalues[2])\n",
    "print(eigenvalues[3])\n",
    "\n",
    "# Keep PC1(Population), PC2(Income), PC3(VitD_levels)"
   ]
  },
  {
   "cell_type": "code",
   "execution_count": 108,
   "id": "d9d96435",
   "metadata": {},
   "outputs": [
    {
     "name": "stdout",
     "output_type": "stream",
     "text": [
      "<class 'pandas.core.frame.DataFrame'>\n",
      "Index: 10000 entries, 1 to 10000\n",
      "Data columns (total 63 columns):\n",
      " #   Column                      Non-Null Count  Dtype  \n",
      "---  ------                      --------------  -----  \n",
      " 0   CaseOrder                   10000 non-null  int64  \n",
      " 1   Customer_id                 10000 non-null  object \n",
      " 2   Interaction                 10000 non-null  object \n",
      " 3   UID                         10000 non-null  object \n",
      " 4   City                        10000 non-null  object \n",
      " 5   State                       10000 non-null  object \n",
      " 6   County                      10000 non-null  object \n",
      " 7   Zip                         10000 non-null  int64  \n",
      " 8   Lat                         10000 non-null  float64\n",
      " 9   Lng                         10000 non-null  float64\n",
      " 10  Population                  10000 non-null  int64  \n",
      " 11  Area                        10000 non-null  object \n",
      " 12  Timezone                    10000 non-null  object \n",
      " 13  Job                         10000 non-null  object \n",
      " 14  Children                    10000 non-null  float64\n",
      " 15  Age                         10000 non-null  int32  \n",
      " 16  Education                   10000 non-null  object \n",
      " 17  Employment                  10000 non-null  object \n",
      " 18  Income                      10000 non-null  float64\n",
      " 19  Marital                     10000 non-null  object \n",
      " 20  Gender                      10000 non-null  object \n",
      " 21  ReAdmis                     10000 non-null  object \n",
      " 22  VitD_levels                 10000 non-null  float64\n",
      " 23  Doc_visits                  10000 non-null  int64  \n",
      " 24  Full_meals_eaten            10000 non-null  int64  \n",
      " 25  VitD_supp                   10000 non-null  int64  \n",
      " 26  Soft_drink                  10000 non-null  object \n",
      " 27  Initial_admin               10000 non-null  object \n",
      " 28  HighBlood                   10000 non-null  object \n",
      " 29  Stroke                      10000 non-null  object \n",
      " 30  Complication_risk           10000 non-null  object \n",
      " 31  Overweight                  10000 non-null  float64\n",
      " 32  Arthritis                   10000 non-null  object \n",
      " 33  Diabetes                    10000 non-null  object \n",
      " 34  Hyperlipidemia              10000 non-null  object \n",
      " 35  BackPain                    10000 non-null  object \n",
      " 36  Anxiety                     10000 non-null  float64\n",
      " 37  Allergic_rhinitis           10000 non-null  object \n",
      " 38  Reflux_esophagitis          10000 non-null  object \n",
      " 39  Asthma                      10000 non-null  object \n",
      " 40  Services                    10000 non-null  object \n",
      " 41  Initial_days                10000 non-null  float64\n",
      " 42  TotalCharge                 10000 non-null  float64\n",
      " 43  Additional_charges          10000 non-null  float64\n",
      " 44  Item1                       10000 non-null  int64  \n",
      " 45  Item2                       10000 non-null  int64  \n",
      " 46  Item3                       10000 non-null  int64  \n",
      " 47  Item4                       10000 non-null  int64  \n",
      " 48  Item5                       10000 non-null  int64  \n",
      " 49  Item6                       10000 non-null  int64  \n",
      " 50  Item7                       10000 non-null  int64  \n",
      " 51  Item8                       10000 non-null  int64  \n",
      " 52  Z_Score_Children            10000 non-null  float64\n",
      " 53  Z_Score_Income              10000 non-null  float64\n",
      " 54  Z_Score_Initial_days        10000 non-null  float64\n",
      " 55  Arthritis_numeric           10000 non-null  int64  \n",
      " 56  Diabetes_numeric            10000 non-null  int64  \n",
      " 57  Hyperlipidemia_numeric      10000 non-null  int64  \n",
      " 58  BackPain_numeric            10000 non-null  int64  \n",
      " 59  Allergic_rhinitis_numeric   10000 non-null  int64  \n",
      " 60  Reflux_esophagitis_numeric  10000 non-null  int64  \n",
      " 61  Asthma_numeric              10000 non-null  int64  \n",
      " 62  Soft_drink_numeric          10000 non-null  int64  \n",
      "dtypes: float64(13), int32(1), int64(22), object(27)\n",
      "memory usage: 4.8+ MB\n"
     ]
    }
   ],
   "source": [
    "df.info()"
   ]
  },
  {
   "cell_type": "code",
   "execution_count": null,
   "id": "0bf07573",
   "metadata": {},
   "outputs": [],
   "source": []
  }
 ],
 "metadata": {
  "kernelspec": {
   "display_name": "Python 3 (ipykernel)",
   "language": "python",
   "name": "python3"
  },
  "language_info": {
   "codemirror_mode": {
    "name": "ipython",
    "version": 3
   },
   "file_extension": ".py",
   "mimetype": "text/x-python",
   "name": "python",
   "nbconvert_exporter": "python",
   "pygments_lexer": "ipython3",
   "version": "3.11.5"
  }
 },
 "nbformat": 4,
 "nbformat_minor": 5
}
